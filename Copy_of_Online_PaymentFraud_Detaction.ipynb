{
  "cells": [
    {
      "cell_type": "markdown",
      "metadata": {
        "id": "view-in-github",
        "colab_type": "text"
      },
      "source": [
        "<a href=\"https://colab.research.google.com/github/EsamSharaf/Online-Payment-Fraud-Detection/blob/main/Copy_of_Online_PaymentFraud_Detaction.ipynb\" target=\"_parent\"><img src=\"https://colab.research.google.com/assets/colab-badge.svg\" alt=\"Open In Colab\"/></a>"
      ]
    },
    {
      "cell_type": "markdown",
      "metadata": {
        "id": "UzRttqg97Pt8"
      },
      "source": [
        "\n",
        "# **Intro**\n",
        "\n",
        "**The dataset contains samples of online payments with Fraud/ not Fraud labels. To enhance  detecting Fraudulent transactions, Logistic Regression Model implemented. The dataset shows that only 16 out of 8213 fraud transactions was correctly detected (0.002 recall rate). The ML model is built to improve the ability for detection (higher recall).**\n",
        "\n",
        "**The provided variables as follows:**\n",
        "\n",
        "**1. step: represents a unit of time where 1 step equals 1 hour (int).**\n",
        "\n",
        "**2. type: type of online transaction (PAYMENT, TRANSFER, CASH_OUT, CASH_IN, DEBIT) (categorical).**\n",
        "\n",
        "**3. amount: the amount of the transaction (float).**\n",
        "\n",
        "**4. nameOrig: customer starting the transaction (str).**\n",
        "\n",
        "**5. oldbalanceOrg: balance before the transaction (float).**\n",
        "    \n",
        "**6. newbalanceOrig: balance after the transaction (float).**\n",
        "    \n",
        "**7. nameDest: recipient of the transaction (str).**\n",
        "\n",
        "**8. oldbalanceDest: initial balance of recipient before the transaction (float).**\n",
        "\n",
        "**9. newbalanceDest: the new balance of recipient after the transaction (float).**\n",
        "    \n",
        "**10. isFraud: fraud transaction (1) or not (0) - target label (int).**\n",
        "\n",
        "**11. isFraudFlagged: fraud transaction detected (1) or not (0) (int).**  \n",
        "\n",
        "**The outcome of this implementation increases the ability to detect fraudulent samples from 0.002 to ~0.7543 recall rate.**"
      ]
    },
    {
      "cell_type": "code",
      "execution_count": null,
      "metadata": {
        "id": "oRK5LbDxaNjC",
        "colab": {
          "base_uri": "https://localhost:8080/"
        },
        "outputId": "e778fdea-2844-4d51-a7bd-bbb791dd131a"
      },
      "outputs": [
        {
          "output_type": "stream",
          "name": "stdout",
          "text": [
            "Mounted at /content/drive\n"
          ]
        }
      ],
      "source": [
        "from google.colab import drive\n",
        "drive.mount('/content/drive')"
      ]
    },
    {
      "cell_type": "markdown",
      "metadata": {
        "id": "7BB2pSARmXat"
      },
      "source": [
        "**Importing Necessary Libraries**"
      ]
    },
    {
      "cell_type": "code",
      "execution_count": null,
      "metadata": {
        "id": "rq3gW1l9PnkD"
      },
      "outputs": [],
      "source": [
        "import numpy as np\n",
        "import pandas as pd\n",
        "from sklearn import metrics\n",
        "from sklearn.metrics import precision_recall_curve, roc_curve, PrecisionRecallDisplay\n",
        "import matplotlib.pyplot as plt\n",
        "import seaborn as sns\n",
        "from sklearn.pipeline import Pipeline\n",
        "from sklearn.model_selection import KFold, cross_validate, train_test_split\n",
        "from sklearn.compose import ColumnTransformer, make_column_transformer, make_column_selector\n",
        "from sklearn.preprocessing import OrdinalEncoder, RobustScaler"
      ]
    },
    {
      "cell_type": "markdown",
      "metadata": {
        "id": "ePFGX25ujrbB"
      },
      "source": [
        "# **Helper Functions**"
      ]
    },
    {
      "cell_type": "code",
      "execution_count": null,
      "metadata": {
        "id": "EqKSlab5W6jZ"
      },
      "outputs": [],
      "source": [
        "#user define function to plot PR & ROC curves\n",
        "def plot_results(pipeline, X_test, Y_test, Y_pred, clf_name: str):\n",
        "  precision, recall, thresholds = precision_recall_curve(Y_test, Y_pred)\n",
        "  print('Precision: {:.4f}'.format(precision[1]), \"---\", 'Recall: {:.4f}'.format(recall[1]))\n",
        "  print('\\n')\n",
        "\n",
        "  auc = metrics.roc_auc_score(Y_test, Y_pred)\n",
        "  false_positive_rate, true_positive_rate, thresolds = metrics.roc_curve(Y_test, Y_pred)\n",
        "  \n",
        "  fig, (ax1, ax2) = plt.subplots(1, 2, figsize=(12,7))\n",
        "  fig.tight_layout(pad=5.0)\n",
        "\n",
        "  #plot PR curve\n",
        "  PrecisionRecallDisplay.from_estimator(pipeline, X_test, Y_test, ax= ax1, name=clf_name)\n",
        "  \n",
        "  #plot AUC-ROC curve\n",
        "  ax2.set_xlim(0, 1)\n",
        "  ax2.set_ylim(0, 1)\n",
        "  ax2.set_title(\"AUC & ROC Curve\")\n",
        "  ax2.plot(false_positive_rate, true_positive_rate, 'g')\n",
        "  ax2.fill_between(false_positive_rate, true_positive_rate, facecolor='lightgreen', alpha=0.7)\n",
        "  ax2.text(0.6, 0.05, 'AUC = %0.4f' % auc, fontdict={'size':12, 'weight':'bold', 'color':'blue'})\n",
        "  ax2.set_xlabel(\"False Positive Rate\")\n",
        "  ax2.set_ylabel(\"True Positive Rate\")"
      ]
    },
    {
      "cell_type": "markdown",
      "metadata": {
        "id": "ONLZRaTDfLVu"
      },
      "source": [
        "**Importing the dataset**"
      ]
    },
    {
      "cell_type": "code",
      "execution_count": null,
      "metadata": {
        "id": "eb_TzIWr78yq"
      },
      "outputs": [],
      "source": [
        "# Import the dataset\n",
        "df = pd.read_csv(\"drive/My Drive/Colab Notebooks/datasets/PS_20174392719_1491204439457_log.csv\")"
      ]
    },
    {
      "cell_type": "markdown",
      "metadata": {
        "id": "8aCpd_Ga7UJC"
      },
      "source": [
        "# **Exploratory Data Analysis (EDA)**"
      ]
    },
    {
      "cell_type": "code",
      "execution_count": null,
      "metadata": {
        "colab": {
          "base_uri": "https://localhost:8080/"
        },
        "id": "1bbgO8C-fEEs",
        "outputId": "39d7ea69-2c9b-4bba-ad18-38b9fe9d10b7"
      },
      "outputs": [
        {
          "output_type": "execute_result",
          "data": {
            "text/plain": [
              "   step      type    amount     nameOrig  oldbalanceOrg  newbalanceOrig  \\\n",
              "0     1   PAYMENT   9839.64  C1231006815       170136.0       160296.36   \n",
              "1     1   PAYMENT   1864.28  C1666544295        21249.0        19384.72   \n",
              "2     1  TRANSFER    181.00  C1305486145          181.0            0.00   \n",
              "3     1  CASH_OUT    181.00   C840083671          181.0            0.00   \n",
              "4     1   PAYMENT  11668.14  C2048537720        41554.0        29885.86   \n",
              "\n",
              "      nameDest  oldbalanceDest  newbalanceDest  isFraud  isFlaggedFraud  \n",
              "0  M1979787155             0.0             0.0        0               0  \n",
              "1  M2044282225             0.0             0.0        0               0  \n",
              "2   C553264065             0.0             0.0        1               0  \n",
              "3    C38997010         21182.0             0.0        1               0  \n",
              "4  M1230701703             0.0             0.0        0               0  "
            ],
            "text/html": [
              "\n",
              "  <div id=\"df-c55f6037-81a3-4ae2-8e8a-71ad335a2bdb\">\n",
              "    <div class=\"colab-df-container\">\n",
              "      <div>\n",
              "<style scoped>\n",
              "    .dataframe tbody tr th:only-of-type {\n",
              "        vertical-align: middle;\n",
              "    }\n",
              "\n",
              "    .dataframe tbody tr th {\n",
              "        vertical-align: top;\n",
              "    }\n",
              "\n",
              "    .dataframe thead th {\n",
              "        text-align: right;\n",
              "    }\n",
              "</style>\n",
              "<table border=\"1\" class=\"dataframe\">\n",
              "  <thead>\n",
              "    <tr style=\"text-align: right;\">\n",
              "      <th></th>\n",
              "      <th>step</th>\n",
              "      <th>type</th>\n",
              "      <th>amount</th>\n",
              "      <th>nameOrig</th>\n",
              "      <th>oldbalanceOrg</th>\n",
              "      <th>newbalanceOrig</th>\n",
              "      <th>nameDest</th>\n",
              "      <th>oldbalanceDest</th>\n",
              "      <th>newbalanceDest</th>\n",
              "      <th>isFraud</th>\n",
              "      <th>isFlaggedFraud</th>\n",
              "    </tr>\n",
              "  </thead>\n",
              "  <tbody>\n",
              "    <tr>\n",
              "      <th>0</th>\n",
              "      <td>1</td>\n",
              "      <td>PAYMENT</td>\n",
              "      <td>9839.64</td>\n",
              "      <td>C1231006815</td>\n",
              "      <td>170136.0</td>\n",
              "      <td>160296.36</td>\n",
              "      <td>M1979787155</td>\n",
              "      <td>0.0</td>\n",
              "      <td>0.0</td>\n",
              "      <td>0</td>\n",
              "      <td>0</td>\n",
              "    </tr>\n",
              "    <tr>\n",
              "      <th>1</th>\n",
              "      <td>1</td>\n",
              "      <td>PAYMENT</td>\n",
              "      <td>1864.28</td>\n",
              "      <td>C1666544295</td>\n",
              "      <td>21249.0</td>\n",
              "      <td>19384.72</td>\n",
              "      <td>M2044282225</td>\n",
              "      <td>0.0</td>\n",
              "      <td>0.0</td>\n",
              "      <td>0</td>\n",
              "      <td>0</td>\n",
              "    </tr>\n",
              "    <tr>\n",
              "      <th>2</th>\n",
              "      <td>1</td>\n",
              "      <td>TRANSFER</td>\n",
              "      <td>181.00</td>\n",
              "      <td>C1305486145</td>\n",
              "      <td>181.0</td>\n",
              "      <td>0.00</td>\n",
              "      <td>C553264065</td>\n",
              "      <td>0.0</td>\n",
              "      <td>0.0</td>\n",
              "      <td>1</td>\n",
              "      <td>0</td>\n",
              "    </tr>\n",
              "    <tr>\n",
              "      <th>3</th>\n",
              "      <td>1</td>\n",
              "      <td>CASH_OUT</td>\n",
              "      <td>181.00</td>\n",
              "      <td>C840083671</td>\n",
              "      <td>181.0</td>\n",
              "      <td>0.00</td>\n",
              "      <td>C38997010</td>\n",
              "      <td>21182.0</td>\n",
              "      <td>0.0</td>\n",
              "      <td>1</td>\n",
              "      <td>0</td>\n",
              "    </tr>\n",
              "    <tr>\n",
              "      <th>4</th>\n",
              "      <td>1</td>\n",
              "      <td>PAYMENT</td>\n",
              "      <td>11668.14</td>\n",
              "      <td>C2048537720</td>\n",
              "      <td>41554.0</td>\n",
              "      <td>29885.86</td>\n",
              "      <td>M1230701703</td>\n",
              "      <td>0.0</td>\n",
              "      <td>0.0</td>\n",
              "      <td>0</td>\n",
              "      <td>0</td>\n",
              "    </tr>\n",
              "  </tbody>\n",
              "</table>\n",
              "</div>\n",
              "      <button class=\"colab-df-convert\" onclick=\"convertToInteractive('df-c55f6037-81a3-4ae2-8e8a-71ad335a2bdb')\"\n",
              "              title=\"Convert this dataframe to an interactive table.\"\n",
              "              style=\"display:none;\">\n",
              "        \n",
              "  <svg xmlns=\"http://www.w3.org/2000/svg\" height=\"24px\"viewBox=\"0 0 24 24\"\n",
              "       width=\"24px\">\n",
              "    <path d=\"M0 0h24v24H0V0z\" fill=\"none\"/>\n",
              "    <path d=\"M18.56 5.44l.94 2.06.94-2.06 2.06-.94-2.06-.94-.94-2.06-.94 2.06-2.06.94zm-11 1L8.5 8.5l.94-2.06 2.06-.94-2.06-.94L8.5 2.5l-.94 2.06-2.06.94zm10 10l.94 2.06.94-2.06 2.06-.94-2.06-.94-.94-2.06-.94 2.06-2.06.94z\"/><path d=\"M17.41 7.96l-1.37-1.37c-.4-.4-.92-.59-1.43-.59-.52 0-1.04.2-1.43.59L10.3 9.45l-7.72 7.72c-.78.78-.78 2.05 0 2.83L4 21.41c.39.39.9.59 1.41.59.51 0 1.02-.2 1.41-.59l7.78-7.78 2.81-2.81c.8-.78.8-2.07 0-2.86zM5.41 20L4 18.59l7.72-7.72 1.47 1.35L5.41 20z\"/>\n",
              "  </svg>\n",
              "      </button>\n",
              "      \n",
              "  <style>\n",
              "    .colab-df-container {\n",
              "      display:flex;\n",
              "      flex-wrap:wrap;\n",
              "      gap: 12px;\n",
              "    }\n",
              "\n",
              "    .colab-df-convert {\n",
              "      background-color: #E8F0FE;\n",
              "      border: none;\n",
              "      border-radius: 50%;\n",
              "      cursor: pointer;\n",
              "      display: none;\n",
              "      fill: #1967D2;\n",
              "      height: 32px;\n",
              "      padding: 0 0 0 0;\n",
              "      width: 32px;\n",
              "    }\n",
              "\n",
              "    .colab-df-convert:hover {\n",
              "      background-color: #E2EBFA;\n",
              "      box-shadow: 0px 1px 2px rgba(60, 64, 67, 0.3), 0px 1px 3px 1px rgba(60, 64, 67, 0.15);\n",
              "      fill: #174EA6;\n",
              "    }\n",
              "\n",
              "    [theme=dark] .colab-df-convert {\n",
              "      background-color: #3B4455;\n",
              "      fill: #D2E3FC;\n",
              "    }\n",
              "\n",
              "    [theme=dark] .colab-df-convert:hover {\n",
              "      background-color: #434B5C;\n",
              "      box-shadow: 0px 1px 3px 1px rgba(0, 0, 0, 0.15);\n",
              "      filter: drop-shadow(0px 1px 2px rgba(0, 0, 0, 0.3));\n",
              "      fill: #FFFFFF;\n",
              "    }\n",
              "  </style>\n",
              "\n",
              "      <script>\n",
              "        const buttonEl =\n",
              "          document.querySelector('#df-c55f6037-81a3-4ae2-8e8a-71ad335a2bdb button.colab-df-convert');\n",
              "        buttonEl.style.display =\n",
              "          google.colab.kernel.accessAllowed ? 'block' : 'none';\n",
              "\n",
              "        async function convertToInteractive(key) {\n",
              "          const element = document.querySelector('#df-c55f6037-81a3-4ae2-8e8a-71ad335a2bdb');\n",
              "          const dataTable =\n",
              "            await google.colab.kernel.invokeFunction('convertToInteractive',\n",
              "                                                     [key], {});\n",
              "          if (!dataTable) return;\n",
              "\n",
              "          const docLinkHtml = 'Like what you see? Visit the ' +\n",
              "            '<a target=\"_blank\" href=https://colab.research.google.com/notebooks/data_table.ipynb>data table notebook</a>'\n",
              "            + ' to learn more about interactive tables.';\n",
              "          element.innerHTML = '';\n",
              "          dataTable['output_type'] = 'display_data';\n",
              "          await google.colab.output.renderOutput(dataTable, element);\n",
              "          const docLink = document.createElement('div');\n",
              "          docLink.innerHTML = docLinkHtml;\n",
              "          element.appendChild(docLink);\n",
              "        }\n",
              "      </script>\n",
              "    </div>\n",
              "  </div>\n",
              "  "
            ]
          },
          "metadata": {},
          "execution_count": 5
        }
      ],
      "source": [
        "df.head()"
      ]
    },
    {
      "cell_type": "code",
      "execution_count": null,
      "metadata": {
        "colab": {
          "base_uri": "https://localhost:8080/"
        },
        "id": "5GM1fC4k8Ivj",
        "outputId": "8624084b-04fd-44db-d4d8-8b4aadb6caf0"
      },
      "outputs": [
        {
          "output_type": "stream",
          "name": "stdout",
          "text": [
            "<class 'pandas.core.frame.DataFrame'>\n",
            "RangeIndex: 6362620 entries, 0 to 6362619\n",
            "Data columns (total 11 columns):\n",
            " #   Column          Dtype  \n",
            "---  ------          -----  \n",
            " 0   step            int64  \n",
            " 1   type            object \n",
            " 2   amount          float64\n",
            " 3   nameOrig        object \n",
            " 4   oldbalanceOrg   float64\n",
            " 5   newbalanceOrig  float64\n",
            " 6   nameDest        object \n",
            " 7   oldbalanceDest  float64\n",
            " 8   newbalanceDest  float64\n",
            " 9   isFraud         int64  \n",
            " 10  isFlaggedFraud  int64  \n",
            "dtypes: float64(5), int64(3), object(3)\n",
            "memory usage: 534.0+ MB\n"
          ]
        }
      ],
      "source": [
        "df.info()"
      ]
    },
    {
      "cell_type": "code",
      "execution_count": null,
      "metadata": {
        "colab": {
          "base_uri": "https://localhost:8080/"
        },
        "id": "tQrjmHx3GsG3",
        "outputId": "32a348b0-3e8f-4221-bde5-37628643c0e5"
      },
      "outputs": [
        {
          "output_type": "execute_result",
          "data": {
            "text/plain": [
              "0    6362604\n",
              "1         16\n",
              "Name: isFlaggedFraud, dtype: int64"
            ]
          },
          "metadata": {},
          "execution_count": 7
        }
      ],
      "source": [
        "# Count how many samples have successfully detected\n",
        "df.isFlaggedFraud.value_counts()"
      ]
    },
    {
      "cell_type": "code",
      "execution_count": null,
      "metadata": {
        "colab": {
          "base_uri": "https://localhost:8080/"
        },
        "id": "5416aEDYG4wM",
        "outputId": "99ec9d4d-cc06-4029-8560-3e0f57c76e10"
      },
      "outputs": [
        {
          "output_type": "execute_result",
          "data": {
            "text/plain": [
              "0    6354407\n",
              "1       8213\n",
              "Name: isFraud, dtype: int64"
            ]
          },
          "metadata": {},
          "execution_count": 8
        }
      ],
      "source": [
        "# Count how many fraudulent samples in the dataset\n",
        "df.isFraud.value_counts()"
      ]
    },
    {
      "cell_type": "markdown",
      "metadata": {
        "id": "-3V0ctX5E8lE"
      },
      "source": [
        "**The initial success - before applying ML model-  to capture fraudlant samples = 16 / 8213 ~= 0.002**"
      ]
    },
    {
      "cell_type": "code",
      "execution_count": null,
      "metadata": {
        "colab": {
          "base_uri": "https://localhost:8080/"
        },
        "id": "9YllGb5L8Hzv",
        "outputId": "0069b0a6-e7d0-40e4-e71d-43144cca81b9"
      },
      "outputs": [
        {
          "output_type": "execute_result",
          "data": {
            "text/plain": [
              "step              0\n",
              "type              0\n",
              "amount            0\n",
              "nameOrig          0\n",
              "oldbalanceOrg     0\n",
              "newbalanceOrig    0\n",
              "nameDest          0\n",
              "oldbalanceDest    0\n",
              "newbalanceDest    0\n",
              "isFraud           0\n",
              "isFlaggedFraud    0\n",
              "dtype: int64"
            ]
          },
          "metadata": {},
          "execution_count": 9
        }
      ],
      "source": [
        "# Check any missing values\n",
        "df.isnull().sum()"
      ]
    },
    {
      "cell_type": "markdown",
      "metadata": {
        "id": "tefiroajESwt"
      },
      "source": [
        "**No missing Values**"
      ]
    },
    {
      "cell_type": "code",
      "execution_count": null,
      "metadata": {
        "id": "qnWJ23D7BZ03"
      },
      "outputs": [],
      "source": [
        "df.describe()"
      ]
    },
    {
      "cell_type": "code",
      "execution_count": null,
      "metadata": {
        "colab": {
          "base_uri": "https://localhost:8080/",
          "height": 542
        },
        "id": "f4a5MrEuJupz",
        "outputId": "22aa7812-b02e-4691-e9b7-7cad95c7adfb"
      },
      "outputs": [
        {
          "data": {
            "text/html": [
              "<html>\n",
              "<head><meta charset=\"utf-8\" /></head>\n",
              "<body>\n",
              "    <div>            <script src=\"https://cdnjs.cloudflare.com/ajax/libs/mathjax/2.7.5/MathJax.js?config=TeX-AMS-MML_SVG\"></script><script type=\"text/javascript\">if (window.MathJax) {MathJax.Hub.Config({SVG: {font: \"STIX-Web\"}});}</script>                <script type=\"text/javascript\">window.PlotlyConfig = {MathJaxConfig: 'local'};</script>\n",
              "        <script src=\"https://cdn.plot.ly/plotly-2.8.3.min.js\"></script>                <div id=\"3e887055-4e84-4691-98ba-1479aca9eefa\" class=\"plotly-graph-div\" style=\"height:525px; width:100%;\"></div>            <script type=\"text/javascript\">                                    window.PLOTLYENV=window.PLOTLYENV || {};                                    if (document.getElementById(\"3e887055-4e84-4691-98ba-1479aca9eefa\")) {                    Plotly.newPlot(                        \"3e887055-4e84-4691-98ba-1479aca9eefa\",                        [{\"domain\":{\"x\":[0.0,1.0],\"y\":[0.0,1.0]},\"hole\":0.4,\"hovertemplate\":\"label=%{label}<br>value=%{value}<extra></extra>\",\"labels\":[0,1],\"legendgroup\":\"\",\"name\":\"\",\"showlegend\":true,\"values\":[6354407,8213],\"type\":\"pie\"}],                        {\"template\":{\"data\":{\"bar\":[{\"error_x\":{\"color\":\"#2a3f5f\"},\"error_y\":{\"color\":\"#2a3f5f\"},\"marker\":{\"line\":{\"color\":\"#E5ECF6\",\"width\":0.5},\"pattern\":{\"fillmode\":\"overlay\",\"size\":10,\"solidity\":0.2}},\"type\":\"bar\"}],\"barpolar\":[{\"marker\":{\"line\":{\"color\":\"#E5ECF6\",\"width\":0.5},\"pattern\":{\"fillmode\":\"overlay\",\"size\":10,\"solidity\":0.2}},\"type\":\"barpolar\"}],\"carpet\":[{\"aaxis\":{\"endlinecolor\":\"#2a3f5f\",\"gridcolor\":\"white\",\"linecolor\":\"white\",\"minorgridcolor\":\"white\",\"startlinecolor\":\"#2a3f5f\"},\"baxis\":{\"endlinecolor\":\"#2a3f5f\",\"gridcolor\":\"white\",\"linecolor\":\"white\",\"minorgridcolor\":\"white\",\"startlinecolor\":\"#2a3f5f\"},\"type\":\"carpet\"}],\"choropleth\":[{\"colorbar\":{\"outlinewidth\":0,\"ticks\":\"\"},\"type\":\"choropleth\"}],\"contour\":[{\"colorbar\":{\"outlinewidth\":0,\"ticks\":\"\"},\"colorscale\":[[0.0,\"#0d0887\"],[0.1111111111111111,\"#46039f\"],[0.2222222222222222,\"#7201a8\"],[0.3333333333333333,\"#9c179e\"],[0.4444444444444444,\"#bd3786\"],[0.5555555555555556,\"#d8576b\"],[0.6666666666666666,\"#ed7953\"],[0.7777777777777778,\"#fb9f3a\"],[0.8888888888888888,\"#fdca26\"],[1.0,\"#f0f921\"]],\"type\":\"contour\"}],\"contourcarpet\":[{\"colorbar\":{\"outlinewidth\":0,\"ticks\":\"\"},\"type\":\"contourcarpet\"}],\"heatmap\":[{\"colorbar\":{\"outlinewidth\":0,\"ticks\":\"\"},\"colorscale\":[[0.0,\"#0d0887\"],[0.1111111111111111,\"#46039f\"],[0.2222222222222222,\"#7201a8\"],[0.3333333333333333,\"#9c179e\"],[0.4444444444444444,\"#bd3786\"],[0.5555555555555556,\"#d8576b\"],[0.6666666666666666,\"#ed7953\"],[0.7777777777777778,\"#fb9f3a\"],[0.8888888888888888,\"#fdca26\"],[1.0,\"#f0f921\"]],\"type\":\"heatmap\"}],\"heatmapgl\":[{\"colorbar\":{\"outlinewidth\":0,\"ticks\":\"\"},\"colorscale\":[[0.0,\"#0d0887\"],[0.1111111111111111,\"#46039f\"],[0.2222222222222222,\"#7201a8\"],[0.3333333333333333,\"#9c179e\"],[0.4444444444444444,\"#bd3786\"],[0.5555555555555556,\"#d8576b\"],[0.6666666666666666,\"#ed7953\"],[0.7777777777777778,\"#fb9f3a\"],[0.8888888888888888,\"#fdca26\"],[1.0,\"#f0f921\"]],\"type\":\"heatmapgl\"}],\"histogram\":[{\"marker\":{\"pattern\":{\"fillmode\":\"overlay\",\"size\":10,\"solidity\":0.2}},\"type\":\"histogram\"}],\"histogram2d\":[{\"colorbar\":{\"outlinewidth\":0,\"ticks\":\"\"},\"colorscale\":[[0.0,\"#0d0887\"],[0.1111111111111111,\"#46039f\"],[0.2222222222222222,\"#7201a8\"],[0.3333333333333333,\"#9c179e\"],[0.4444444444444444,\"#bd3786\"],[0.5555555555555556,\"#d8576b\"],[0.6666666666666666,\"#ed7953\"],[0.7777777777777778,\"#fb9f3a\"],[0.8888888888888888,\"#fdca26\"],[1.0,\"#f0f921\"]],\"type\":\"histogram2d\"}],\"histogram2dcontour\":[{\"colorbar\":{\"outlinewidth\":0,\"ticks\":\"\"},\"colorscale\":[[0.0,\"#0d0887\"],[0.1111111111111111,\"#46039f\"],[0.2222222222222222,\"#7201a8\"],[0.3333333333333333,\"#9c179e\"],[0.4444444444444444,\"#bd3786\"],[0.5555555555555556,\"#d8576b\"],[0.6666666666666666,\"#ed7953\"],[0.7777777777777778,\"#fb9f3a\"],[0.8888888888888888,\"#fdca26\"],[1.0,\"#f0f921\"]],\"type\":\"histogram2dcontour\"}],\"mesh3d\":[{\"colorbar\":{\"outlinewidth\":0,\"ticks\":\"\"},\"type\":\"mesh3d\"}],\"parcoords\":[{\"line\":{\"colorbar\":{\"outlinewidth\":0,\"ticks\":\"\"}},\"type\":\"parcoords\"}],\"pie\":[{\"automargin\":true,\"type\":\"pie\"}],\"scatter\":[{\"marker\":{\"colorbar\":{\"outlinewidth\":0,\"ticks\":\"\"}},\"type\":\"scatter\"}],\"scatter3d\":[{\"line\":{\"colorbar\":{\"outlinewidth\":0,\"ticks\":\"\"}},\"marker\":{\"colorbar\":{\"outlinewidth\":0,\"ticks\":\"\"}},\"type\":\"scatter3d\"}],\"scattercarpet\":[{\"marker\":{\"colorbar\":{\"outlinewidth\":0,\"ticks\":\"\"}},\"type\":\"scattercarpet\"}],\"scattergeo\":[{\"marker\":{\"colorbar\":{\"outlinewidth\":0,\"ticks\":\"\"}},\"type\":\"scattergeo\"}],\"scattergl\":[{\"marker\":{\"colorbar\":{\"outlinewidth\":0,\"ticks\":\"\"}},\"type\":\"scattergl\"}],\"scattermapbox\":[{\"marker\":{\"colorbar\":{\"outlinewidth\":0,\"ticks\":\"\"}},\"type\":\"scattermapbox\"}],\"scatterpolar\":[{\"marker\":{\"colorbar\":{\"outlinewidth\":0,\"ticks\":\"\"}},\"type\":\"scatterpolar\"}],\"scatterpolargl\":[{\"marker\":{\"colorbar\":{\"outlinewidth\":0,\"ticks\":\"\"}},\"type\":\"scatterpolargl\"}],\"scatterternary\":[{\"marker\":{\"colorbar\":{\"outlinewidth\":0,\"ticks\":\"\"}},\"type\":\"scatterternary\"}],\"surface\":[{\"colorbar\":{\"outlinewidth\":0,\"ticks\":\"\"},\"colorscale\":[[0.0,\"#0d0887\"],[0.1111111111111111,\"#46039f\"],[0.2222222222222222,\"#7201a8\"],[0.3333333333333333,\"#9c179e\"],[0.4444444444444444,\"#bd3786\"],[0.5555555555555556,\"#d8576b\"],[0.6666666666666666,\"#ed7953\"],[0.7777777777777778,\"#fb9f3a\"],[0.8888888888888888,\"#fdca26\"],[1.0,\"#f0f921\"]],\"type\":\"surface\"}],\"table\":[{\"cells\":{\"fill\":{\"color\":\"#EBF0F8\"},\"line\":{\"color\":\"white\"}},\"header\":{\"fill\":{\"color\":\"#C8D4E3\"},\"line\":{\"color\":\"white\"}},\"type\":\"table\"}]},\"layout\":{\"annotationdefaults\":{\"arrowcolor\":\"#2a3f5f\",\"arrowhead\":0,\"arrowwidth\":1},\"autotypenumbers\":\"strict\",\"coloraxis\":{\"colorbar\":{\"outlinewidth\":0,\"ticks\":\"\"}},\"colorscale\":{\"diverging\":[[0,\"#8e0152\"],[0.1,\"#c51b7d\"],[0.2,\"#de77ae\"],[0.3,\"#f1b6da\"],[0.4,\"#fde0ef\"],[0.5,\"#f7f7f7\"],[0.6,\"#e6f5d0\"],[0.7,\"#b8e186\"],[0.8,\"#7fbc41\"],[0.9,\"#4d9221\"],[1,\"#276419\"]],\"sequential\":[[0.0,\"#0d0887\"],[0.1111111111111111,\"#46039f\"],[0.2222222222222222,\"#7201a8\"],[0.3333333333333333,\"#9c179e\"],[0.4444444444444444,\"#bd3786\"],[0.5555555555555556,\"#d8576b\"],[0.6666666666666666,\"#ed7953\"],[0.7777777777777778,\"#fb9f3a\"],[0.8888888888888888,\"#fdca26\"],[1.0,\"#f0f921\"]],\"sequentialminus\":[[0.0,\"#0d0887\"],[0.1111111111111111,\"#46039f\"],[0.2222222222222222,\"#7201a8\"],[0.3333333333333333,\"#9c179e\"],[0.4444444444444444,\"#bd3786\"],[0.5555555555555556,\"#d8576b\"],[0.6666666666666666,\"#ed7953\"],[0.7777777777777778,\"#fb9f3a\"],[0.8888888888888888,\"#fdca26\"],[1.0,\"#f0f921\"]]},\"colorway\":[\"#636efa\",\"#EF553B\",\"#00cc96\",\"#ab63fa\",\"#FFA15A\",\"#19d3f3\",\"#FF6692\",\"#B6E880\",\"#FF97FF\",\"#FECB52\"],\"font\":{\"color\":\"#2a3f5f\"},\"geo\":{\"bgcolor\":\"white\",\"lakecolor\":\"white\",\"landcolor\":\"#E5ECF6\",\"showlakes\":true,\"showland\":true,\"subunitcolor\":\"white\"},\"hoverlabel\":{\"align\":\"left\"},\"hovermode\":\"closest\",\"mapbox\":{\"style\":\"light\"},\"paper_bgcolor\":\"white\",\"plot_bgcolor\":\"#E5ECF6\",\"polar\":{\"angularaxis\":{\"gridcolor\":\"white\",\"linecolor\":\"white\",\"ticks\":\"\"},\"bgcolor\":\"#E5ECF6\",\"radialaxis\":{\"gridcolor\":\"white\",\"linecolor\":\"white\",\"ticks\":\"\"}},\"scene\":{\"xaxis\":{\"backgroundcolor\":\"#E5ECF6\",\"gridcolor\":\"white\",\"gridwidth\":2,\"linecolor\":\"white\",\"showbackground\":true,\"ticks\":\"\",\"zerolinecolor\":\"white\"},\"yaxis\":{\"backgroundcolor\":\"#E5ECF6\",\"gridcolor\":\"white\",\"gridwidth\":2,\"linecolor\":\"white\",\"showbackground\":true,\"ticks\":\"\",\"zerolinecolor\":\"white\"},\"zaxis\":{\"backgroundcolor\":\"#E5ECF6\",\"gridcolor\":\"white\",\"gridwidth\":2,\"linecolor\":\"white\",\"showbackground\":true,\"ticks\":\"\",\"zerolinecolor\":\"white\"}},\"shapedefaults\":{\"line\":{\"color\":\"#2a3f5f\"}},\"ternary\":{\"aaxis\":{\"gridcolor\":\"white\",\"linecolor\":\"white\",\"ticks\":\"\"},\"baxis\":{\"gridcolor\":\"white\",\"linecolor\":\"white\",\"ticks\":\"\"},\"bgcolor\":\"#E5ECF6\",\"caxis\":{\"gridcolor\":\"white\",\"linecolor\":\"white\",\"ticks\":\"\"}},\"title\":{\"x\":0.05},\"xaxis\":{\"automargin\":true,\"gridcolor\":\"white\",\"linecolor\":\"white\",\"ticks\":\"\",\"title\":{\"standoff\":15},\"zerolinecolor\":\"white\",\"zerolinewidth\":2},\"yaxis\":{\"automargin\":true,\"gridcolor\":\"white\",\"linecolor\":\"white\",\"ticks\":\"\",\"title\":{\"standoff\":15},\"zerolinecolor\":\"white\",\"zerolinewidth\":2}}},\"legend\":{\"tracegroupgap\":0},\"title\":{\"text\":\"Fraud (1) / Not Fraud (0) Label Distribution\"}},                        {\"responsive\": true}                    ).then(function(){\n",
              "                            \n",
              "var gd = document.getElementById('3e887055-4e84-4691-98ba-1479aca9eefa');\n",
              "var x = new MutationObserver(function (mutations, observer) {{\n",
              "        var display = window.getComputedStyle(gd).display;\n",
              "        if (!display || display === 'none') {{\n",
              "            console.log([gd, 'removed!']);\n",
              "            Plotly.purge(gd);\n",
              "            observer.disconnect();\n",
              "        }}\n",
              "}});\n",
              "\n",
              "// Listen for the removal of the full notebook cells\n",
              "var notebookContainer = gd.closest('#notebook-container');\n",
              "if (notebookContainer) {{\n",
              "    x.observe(notebookContainer, {childList: true});\n",
              "}}\n",
              "\n",
              "// Listen for the clearing of the current output cell\n",
              "var outputEl = gd.closest('.output');\n",
              "if (outputEl) {{\n",
              "    x.observe(outputEl, {childList: true});\n",
              "}}\n",
              "\n",
              "                        })                };                            </script>        </div>\n",
              "</body>\n",
              "</html>"
            ]
          },
          "metadata": {},
          "output_type": "display_data"
        }
      ],
      "source": [
        "# Plot classes precentage in the dataset\n",
        "import plotly.express as px\n",
        "\n",
        "fig = px.pie(df,\n",
        "            values = df.isFraud.value_counts().to_numpy(),\n",
        "            names = df.isFraud.value_counts().index,\n",
        "            hole = 0.4,\n",
        "            title = \"Fraud (1) / Not Fraud (0) Label Distribution\")\n",
        "fig.show()"
      ]
    },
    {
      "cell_type": "markdown",
      "metadata": {
        "id": "6O3WHeynFisc"
      },
      "source": [
        "**The dataset suffers from high degree of skewness to the negative class (unfraud transaction). less than 1% of smaples are positive.**"
      ]
    },
    {
      "cell_type": "code",
      "execution_count": null,
      "metadata": {
        "colab": {
          "base_uri": "https://localhost:8080/",
          "height": 542
        },
        "id": "-NeIh9CYEqzM",
        "outputId": "fc8f6b04-9bb6-401f-f895-c79275a98b2a"
      },
      "outputs": [
        {
          "data": {
            "text/html": [
              "<html>\n",
              "<head><meta charset=\"utf-8\" /></head>\n",
              "<body>\n",
              "    <div>            <script src=\"https://cdnjs.cloudflare.com/ajax/libs/mathjax/2.7.5/MathJax.js?config=TeX-AMS-MML_SVG\"></script><script type=\"text/javascript\">if (window.MathJax) {MathJax.Hub.Config({SVG: {font: \"STIX-Web\"}});}</script>                <script type=\"text/javascript\">window.PlotlyConfig = {MathJaxConfig: 'local'};</script>\n",
              "        <script src=\"https://cdn.plot.ly/plotly-2.8.3.min.js\"></script>                <div id=\"3ea4b507-686d-4179-b190-29d68c665f6e\" class=\"plotly-graph-div\" style=\"height:525px; width:100%;\"></div>            <script type=\"text/javascript\">                                    window.PLOTLYENV=window.PLOTLYENV || {};                                    if (document.getElementById(\"3ea4b507-686d-4179-b190-29d68c665f6e\")) {                    Plotly.newPlot(                        \"3ea4b507-686d-4179-b190-29d68c665f6e\",                        [{\"domain\":{\"x\":[0.0,1.0],\"y\":[0.0,1.0]},\"hole\":0.4,\"hovertemplate\":\"label=%{label}<br>value=%{value}<extra></extra>\",\"labels\":[\"CASH_OUT\",\"PAYMENT\",\"CASH_IN\",\"TRANSFER\",\"DEBIT\"],\"legendgroup\":\"\",\"name\":\"\",\"showlegend\":true,\"values\":[2237500,2151495,1399284,532909,41432],\"type\":\"pie\"}],                        {\"template\":{\"data\":{\"bar\":[{\"error_x\":{\"color\":\"#2a3f5f\"},\"error_y\":{\"color\":\"#2a3f5f\"},\"marker\":{\"line\":{\"color\":\"#E5ECF6\",\"width\":0.5},\"pattern\":{\"fillmode\":\"overlay\",\"size\":10,\"solidity\":0.2}},\"type\":\"bar\"}],\"barpolar\":[{\"marker\":{\"line\":{\"color\":\"#E5ECF6\",\"width\":0.5},\"pattern\":{\"fillmode\":\"overlay\",\"size\":10,\"solidity\":0.2}},\"type\":\"barpolar\"}],\"carpet\":[{\"aaxis\":{\"endlinecolor\":\"#2a3f5f\",\"gridcolor\":\"white\",\"linecolor\":\"white\",\"minorgridcolor\":\"white\",\"startlinecolor\":\"#2a3f5f\"},\"baxis\":{\"endlinecolor\":\"#2a3f5f\",\"gridcolor\":\"white\",\"linecolor\":\"white\",\"minorgridcolor\":\"white\",\"startlinecolor\":\"#2a3f5f\"},\"type\":\"carpet\"}],\"choropleth\":[{\"colorbar\":{\"outlinewidth\":0,\"ticks\":\"\"},\"type\":\"choropleth\"}],\"contour\":[{\"colorbar\":{\"outlinewidth\":0,\"ticks\":\"\"},\"colorscale\":[[0.0,\"#0d0887\"],[0.1111111111111111,\"#46039f\"],[0.2222222222222222,\"#7201a8\"],[0.3333333333333333,\"#9c179e\"],[0.4444444444444444,\"#bd3786\"],[0.5555555555555556,\"#d8576b\"],[0.6666666666666666,\"#ed7953\"],[0.7777777777777778,\"#fb9f3a\"],[0.8888888888888888,\"#fdca26\"],[1.0,\"#f0f921\"]],\"type\":\"contour\"}],\"contourcarpet\":[{\"colorbar\":{\"outlinewidth\":0,\"ticks\":\"\"},\"type\":\"contourcarpet\"}],\"heatmap\":[{\"colorbar\":{\"outlinewidth\":0,\"ticks\":\"\"},\"colorscale\":[[0.0,\"#0d0887\"],[0.1111111111111111,\"#46039f\"],[0.2222222222222222,\"#7201a8\"],[0.3333333333333333,\"#9c179e\"],[0.4444444444444444,\"#bd3786\"],[0.5555555555555556,\"#d8576b\"],[0.6666666666666666,\"#ed7953\"],[0.7777777777777778,\"#fb9f3a\"],[0.8888888888888888,\"#fdca26\"],[1.0,\"#f0f921\"]],\"type\":\"heatmap\"}],\"heatmapgl\":[{\"colorbar\":{\"outlinewidth\":0,\"ticks\":\"\"},\"colorscale\":[[0.0,\"#0d0887\"],[0.1111111111111111,\"#46039f\"],[0.2222222222222222,\"#7201a8\"],[0.3333333333333333,\"#9c179e\"],[0.4444444444444444,\"#bd3786\"],[0.5555555555555556,\"#d8576b\"],[0.6666666666666666,\"#ed7953\"],[0.7777777777777778,\"#fb9f3a\"],[0.8888888888888888,\"#fdca26\"],[1.0,\"#f0f921\"]],\"type\":\"heatmapgl\"}],\"histogram\":[{\"marker\":{\"pattern\":{\"fillmode\":\"overlay\",\"size\":10,\"solidity\":0.2}},\"type\":\"histogram\"}],\"histogram2d\":[{\"colorbar\":{\"outlinewidth\":0,\"ticks\":\"\"},\"colorscale\":[[0.0,\"#0d0887\"],[0.1111111111111111,\"#46039f\"],[0.2222222222222222,\"#7201a8\"],[0.3333333333333333,\"#9c179e\"],[0.4444444444444444,\"#bd3786\"],[0.5555555555555556,\"#d8576b\"],[0.6666666666666666,\"#ed7953\"],[0.7777777777777778,\"#fb9f3a\"],[0.8888888888888888,\"#fdca26\"],[1.0,\"#f0f921\"]],\"type\":\"histogram2d\"}],\"histogram2dcontour\":[{\"colorbar\":{\"outlinewidth\":0,\"ticks\":\"\"},\"colorscale\":[[0.0,\"#0d0887\"],[0.1111111111111111,\"#46039f\"],[0.2222222222222222,\"#7201a8\"],[0.3333333333333333,\"#9c179e\"],[0.4444444444444444,\"#bd3786\"],[0.5555555555555556,\"#d8576b\"],[0.6666666666666666,\"#ed7953\"],[0.7777777777777778,\"#fb9f3a\"],[0.8888888888888888,\"#fdca26\"],[1.0,\"#f0f921\"]],\"type\":\"histogram2dcontour\"}],\"mesh3d\":[{\"colorbar\":{\"outlinewidth\":0,\"ticks\":\"\"},\"type\":\"mesh3d\"}],\"parcoords\":[{\"line\":{\"colorbar\":{\"outlinewidth\":0,\"ticks\":\"\"}},\"type\":\"parcoords\"}],\"pie\":[{\"automargin\":true,\"type\":\"pie\"}],\"scatter\":[{\"marker\":{\"colorbar\":{\"outlinewidth\":0,\"ticks\":\"\"}},\"type\":\"scatter\"}],\"scatter3d\":[{\"line\":{\"colorbar\":{\"outlinewidth\":0,\"ticks\":\"\"}},\"marker\":{\"colorbar\":{\"outlinewidth\":0,\"ticks\":\"\"}},\"type\":\"scatter3d\"}],\"scattercarpet\":[{\"marker\":{\"colorbar\":{\"outlinewidth\":0,\"ticks\":\"\"}},\"type\":\"scattercarpet\"}],\"scattergeo\":[{\"marker\":{\"colorbar\":{\"outlinewidth\":0,\"ticks\":\"\"}},\"type\":\"scattergeo\"}],\"scattergl\":[{\"marker\":{\"colorbar\":{\"outlinewidth\":0,\"ticks\":\"\"}},\"type\":\"scattergl\"}],\"scattermapbox\":[{\"marker\":{\"colorbar\":{\"outlinewidth\":0,\"ticks\":\"\"}},\"type\":\"scattermapbox\"}],\"scatterpolar\":[{\"marker\":{\"colorbar\":{\"outlinewidth\":0,\"ticks\":\"\"}},\"type\":\"scatterpolar\"}],\"scatterpolargl\":[{\"marker\":{\"colorbar\":{\"outlinewidth\":0,\"ticks\":\"\"}},\"type\":\"scatterpolargl\"}],\"scatterternary\":[{\"marker\":{\"colorbar\":{\"outlinewidth\":0,\"ticks\":\"\"}},\"type\":\"scatterternary\"}],\"surface\":[{\"colorbar\":{\"outlinewidth\":0,\"ticks\":\"\"},\"colorscale\":[[0.0,\"#0d0887\"],[0.1111111111111111,\"#46039f\"],[0.2222222222222222,\"#7201a8\"],[0.3333333333333333,\"#9c179e\"],[0.4444444444444444,\"#bd3786\"],[0.5555555555555556,\"#d8576b\"],[0.6666666666666666,\"#ed7953\"],[0.7777777777777778,\"#fb9f3a\"],[0.8888888888888888,\"#fdca26\"],[1.0,\"#f0f921\"]],\"type\":\"surface\"}],\"table\":[{\"cells\":{\"fill\":{\"color\":\"#EBF0F8\"},\"line\":{\"color\":\"white\"}},\"header\":{\"fill\":{\"color\":\"#C8D4E3\"},\"line\":{\"color\":\"white\"}},\"type\":\"table\"}]},\"layout\":{\"annotationdefaults\":{\"arrowcolor\":\"#2a3f5f\",\"arrowhead\":0,\"arrowwidth\":1},\"autotypenumbers\":\"strict\",\"coloraxis\":{\"colorbar\":{\"outlinewidth\":0,\"ticks\":\"\"}},\"colorscale\":{\"diverging\":[[0,\"#8e0152\"],[0.1,\"#c51b7d\"],[0.2,\"#de77ae\"],[0.3,\"#f1b6da\"],[0.4,\"#fde0ef\"],[0.5,\"#f7f7f7\"],[0.6,\"#e6f5d0\"],[0.7,\"#b8e186\"],[0.8,\"#7fbc41\"],[0.9,\"#4d9221\"],[1,\"#276419\"]],\"sequential\":[[0.0,\"#0d0887\"],[0.1111111111111111,\"#46039f\"],[0.2222222222222222,\"#7201a8\"],[0.3333333333333333,\"#9c179e\"],[0.4444444444444444,\"#bd3786\"],[0.5555555555555556,\"#d8576b\"],[0.6666666666666666,\"#ed7953\"],[0.7777777777777778,\"#fb9f3a\"],[0.8888888888888888,\"#fdca26\"],[1.0,\"#f0f921\"]],\"sequentialminus\":[[0.0,\"#0d0887\"],[0.1111111111111111,\"#46039f\"],[0.2222222222222222,\"#7201a8\"],[0.3333333333333333,\"#9c179e\"],[0.4444444444444444,\"#bd3786\"],[0.5555555555555556,\"#d8576b\"],[0.6666666666666666,\"#ed7953\"],[0.7777777777777778,\"#fb9f3a\"],[0.8888888888888888,\"#fdca26\"],[1.0,\"#f0f921\"]]},\"colorway\":[\"#636efa\",\"#EF553B\",\"#00cc96\",\"#ab63fa\",\"#FFA15A\",\"#19d3f3\",\"#FF6692\",\"#B6E880\",\"#FF97FF\",\"#FECB52\"],\"font\":{\"color\":\"#2a3f5f\"},\"geo\":{\"bgcolor\":\"white\",\"lakecolor\":\"white\",\"landcolor\":\"#E5ECF6\",\"showlakes\":true,\"showland\":true,\"subunitcolor\":\"white\"},\"hoverlabel\":{\"align\":\"left\"},\"hovermode\":\"closest\",\"mapbox\":{\"style\":\"light\"},\"paper_bgcolor\":\"white\",\"plot_bgcolor\":\"#E5ECF6\",\"polar\":{\"angularaxis\":{\"gridcolor\":\"white\",\"linecolor\":\"white\",\"ticks\":\"\"},\"bgcolor\":\"#E5ECF6\",\"radialaxis\":{\"gridcolor\":\"white\",\"linecolor\":\"white\",\"ticks\":\"\"}},\"scene\":{\"xaxis\":{\"backgroundcolor\":\"#E5ECF6\",\"gridcolor\":\"white\",\"gridwidth\":2,\"linecolor\":\"white\",\"showbackground\":true,\"ticks\":\"\",\"zerolinecolor\":\"white\"},\"yaxis\":{\"backgroundcolor\":\"#E5ECF6\",\"gridcolor\":\"white\",\"gridwidth\":2,\"linecolor\":\"white\",\"showbackground\":true,\"ticks\":\"\",\"zerolinecolor\":\"white\"},\"zaxis\":{\"backgroundcolor\":\"#E5ECF6\",\"gridcolor\":\"white\",\"gridwidth\":2,\"linecolor\":\"white\",\"showbackground\":true,\"ticks\":\"\",\"zerolinecolor\":\"white\"}},\"shapedefaults\":{\"line\":{\"color\":\"#2a3f5f\"}},\"ternary\":{\"aaxis\":{\"gridcolor\":\"white\",\"linecolor\":\"white\",\"ticks\":\"\"},\"baxis\":{\"gridcolor\":\"white\",\"linecolor\":\"white\",\"ticks\":\"\"},\"bgcolor\":\"#E5ECF6\",\"caxis\":{\"gridcolor\":\"white\",\"linecolor\":\"white\",\"ticks\":\"\"}},\"title\":{\"x\":0.05},\"xaxis\":{\"automargin\":true,\"gridcolor\":\"white\",\"linecolor\":\"white\",\"ticks\":\"\",\"title\":{\"standoff\":15},\"zerolinecolor\":\"white\",\"zerolinewidth\":2},\"yaxis\":{\"automargin\":true,\"gridcolor\":\"white\",\"linecolor\":\"white\",\"ticks\":\"\",\"title\":{\"standoff\":15},\"zerolinecolor\":\"white\",\"zerolinewidth\":2}}},\"legend\":{\"tracegroupgap\":0},\"title\":{\"text\":\"Distribution of Transaction Type\"}},                        {\"responsive\": true}                    ).then(function(){\n",
              "                            \n",
              "var gd = document.getElementById('3ea4b507-686d-4179-b190-29d68c665f6e');\n",
              "var x = new MutationObserver(function (mutations, observer) {{\n",
              "        var display = window.getComputedStyle(gd).display;\n",
              "        if (!display || display === 'none') {{\n",
              "            console.log([gd, 'removed!']);\n",
              "            Plotly.purge(gd);\n",
              "            observer.disconnect();\n",
              "        }}\n",
              "}});\n",
              "\n",
              "// Listen for the removal of the full notebook cells\n",
              "var notebookContainer = gd.closest('#notebook-container');\n",
              "if (notebookContainer) {{\n",
              "    x.observe(notebookContainer, {childList: true});\n",
              "}}\n",
              "\n",
              "// Listen for the clearing of the current output cell\n",
              "var outputEl = gd.closest('.output');\n",
              "if (outputEl) {{\n",
              "    x.observe(outputEl, {childList: true});\n",
              "}}\n",
              "\n",
              "                        })                };                            </script>        </div>\n",
              "</body>\n",
              "</html>"
            ]
          },
          "metadata": {},
          "output_type": "display_data"
        }
      ],
      "source": [
        "# Plot the distribution of 'type' feature in the dataset \n",
        "type_transaction = df[\"type\"].value_counts()\n",
        "transaction = type_transaction.index\n",
        "quantity = type_transaction.values\n",
        "\n",
        "# plotting pie chart\n",
        "fig = px.pie(df,\n",
        "            values = quantity,\n",
        "            names = transaction, \n",
        "            hole = 0.4,\n",
        "            title = \"Distribution of Transaction Type\")\n",
        "fig.show()"
      ]
    },
    {
      "cell_type": "markdown",
      "metadata": {
        "id": "ZnBDt8zJXpoN"
      },
      "source": [
        "**Plotting Fraud Transcations for each transaction type**"
      ]
    },
    {
      "cell_type": "code",
      "execution_count": null,
      "metadata": {
        "colab": {
          "base_uri": "https://localhost:8080/",
          "height": 481
        },
        "id": "Kldragtwf-pm",
        "outputId": "eb40cc3b-aaf1-4d43-876f-6db6faa3b526"
      },
      "outputs": [
        {
          "data": {
            "text/plain": [
              "(array([0, 1, 2, 3, 4]), <a list of 5 Text major ticklabel objects>)"
            ]
          },
          "execution_count": 30,
          "metadata": {},
          "output_type": "execute_result"
        },
        {
          "data": {
            "image/png": "[encoded data removed]",
            "text/plain": [
              "<Figure size 864x504 with 1 Axes>"
            ]
          },
          "metadata": {},
          "output_type": "display_data"
        }
      ],
      "source": [
        "#Plot bar chart to get insights of fraudulent trans. for each trans. type \n",
        "from matplotlib.ticker import ScalarFormatter\n",
        "\n",
        "df_for_sctacked_bar = df.groupby(['type'])['isFraud'].sum()\n",
        "df_for_sctacked_bar.plot(kind='bar', stacked=False, figsize=(12,7))\n",
        "\n",
        "#Add a title and rotate the x-axis labels to be horizontal.\n",
        "plt.title('Bar plot for Fraud (1) lables across payments types', fontdict={'fontsize': 20})\n",
        "plt.xticks(rotation=0, ha='center')"
      ]
    },
    {
      "cell_type": "code",
      "execution_count": null,
      "metadata": {
        "colab": {
          "base_uri": "https://localhost:8080/",
          "height": 760
        },
        "id": "hoDVXmufHeQ6",
        "outputId": "6632e063-7d33-48bb-f0c9-bcfc252b0706"
      },
      "outputs": [
        {
          "data": {
            "image/png": "[encoded data removed]",
            "text/plain": [
              "<Figure size 864x864 with 2 Axes>"
            ]
          },
          "metadata": {},
          "output_type": "display_data"
        }
      ],
      "source": [
        "# Plot heatmap based on Pearson's correlation\n",
        "plt.figure(figsize=(12,12))\n",
        "sns.heatmap(df.corr(method ='pearson'),annot=True,linewidth=0.5,fmt=\"0.4f\", cmap = 'coolwarm')\n",
        "plt.xticks(rotation=45)\n",
        "plt.show()"
      ]
    },
    {
      "cell_type": "markdown",
      "metadata": {
        "id": "J-ZnrQFZHFoo"
      },
      "source": [
        "**- The target feature (IsFraud) has no linear correlation with any independent variable.**\n",
        "\n",
        "**- There is very strong corr. between \"newbalanceOrigin\" and \"oldbalanceOrg\", also, a very strong relationship between \"oldbalanceDest\" and \"newbalanceDest\"**.\n",
        "\n",
        "**- \"amount\" feature has moderate correlation with \"newbalanceDest\".**"
      ]
    },
    {
      "cell_type": "markdown",
      "metadata": {
        "id": "YMrv27oIRdhe"
      },
      "source": [
        "**Applying Chi-Square test to find is there a significant relationship between categorical variables and the target variable**"
      ]
    },
    {
      "cell_type": "code",
      "source": [
        "# store columns with specific data type\n",
        "integer_columns = df.select_dtypes(include=['int64']).columns\n",
        "float_columns = df.select_dtypes(include=['float64']).columns\n",
        "object_columns = df.select_dtypes(include=['object']).columns"
      ],
      "metadata": {
        "id": "u38MK4Ge0RaX"
      },
      "execution_count": null,
      "outputs": []
    },
    {
      "cell_type": "code",
      "execution_count": null,
      "metadata": {
        "id": "APaHFSa_RZ_g"
      },
      "outputs": [],
      "source": [
        "categorical_feats_list = object_columns.tolist()"
      ]
    },
    {
      "cell_type": "code",
      "source": [
        "categorical_feats_list"
      ],
      "metadata": {
        "colab": {
          "base_uri": "https://localhost:8080/"
        },
        "id": "GyzYSt9P2eL-",
        "outputId": "619ed2d8-5fc4-499f-f3a3-b86cab306893"
      },
      "execution_count": null,
      "outputs": [
        {
          "output_type": "execute_result",
          "data": {
            "text/plain": [
              "['type', 'nameOrig', 'nameDest']"
            ]
          },
          "metadata": {},
          "execution_count": 10
        }
      ]
    },
    {
      "cell_type": "markdown",
      "source": [
        "**Both \"nameDest\" and \"NameOrig\" to get removed because it has no meaning. They are anonymous for customers' names.**"
      ],
      "metadata": {
        "id": "kJ4QVPiiS5RT"
      }
    },
    {
      "cell_type": "code",
      "source": [
        "categorical_feats_list = [ele for ele in categorical_feats_list \\\n",
        "                          if ele != 'nameOrig' and ele != 'nameDest']"
      ],
      "metadata": {
        "id": "NmYWPSs92HiZ"
      },
      "execution_count": null,
      "outputs": []
    },
    {
      "cell_type": "code",
      "source": [
        "categorical_feats_list"
      ],
      "metadata": {
        "colab": {
          "base_uri": "https://localhost:8080/"
        },
        "id": "9wvKhwYX2YcV",
        "outputId": "472c4faa-2712-47bd-aa30-31c20d6e1445"
      },
      "execution_count": null,
      "outputs": [
        {
          "output_type": "execute_result",
          "data": {
            "text/plain": [
              "['type']"
            ]
          },
          "metadata": {},
          "execution_count": 12
        }
      ]
    },
    {
      "cell_type": "code",
      "execution_count": null,
      "metadata": {
        "colab": {
          "base_uri": "https://localhost:8080/"
        },
        "id": "dchxQS7_R6fP",
        "outputId": "246bed64-2326-437b-f5f6-4c91e5ee2152"
      },
      "outputs": [
        {
          "output_type": "stream",
          "name": "stdout",
          "text": [
            "\n",
            " P-value for \"type\" = 0.0\n"
          ]
        }
      ],
      "source": [
        "# Chi^2 test isFraud and step features\n",
        "#from sklearn.feature_selection import chi2\n",
        "from scipy.stats import chi2_contingency\n",
        "\n",
        "for elem in categorical_feats_list:\n",
        "\n",
        "  contingency_table = pd.crosstab(df.isFraud, df[elem], margins=True)\n",
        "  stat, p, dof, expected = chi2_contingency(contingency_table)\n",
        "  print(f'\\n P-value for \"{elem}\" = {p}')\n",
        "  #scores, pvalues = chi2(np.array(df.step).reshape(-1, 1) , np.array(df.isFraud).reshape(-1, 1))\n",
        "  #print(f'\\n p value using chi^2 =  {pvalues}')"
      ]
    },
    {
      "cell_type": "markdown",
      "metadata": {
        "id": "Efudl0MHFV35"
      },
      "source": [
        "**The test shows signficant relationship between all categorical variable with \"type\" feature based on p-value=0.05**"
      ]
    },
    {
      "cell_type": "markdown",
      "metadata": {
        "id": "eJWH_D97zcum"
      },
      "source": [
        "**Applying t-test between each numerical variable and the target variable**"
      ]
    },
    {
      "cell_type": "code",
      "execution_count": null,
      "metadata": {
        "id": "Q9lHreTv3Htg",
        "colab": {
          "base_uri": "https://localhost:8080/"
        },
        "outputId": "84fb9a04-97a3-4525-a309-1f6531d1399d"
      },
      "outputs": [
        {
          "output_type": "execute_result",
          "data": {
            "text/plain": [
              "['step',\n",
              " 'isFraud',\n",
              " 'isFlaggedFraud',\n",
              " 'amount',\n",
              " 'oldbalanceOrg',\n",
              " 'newbalanceOrig',\n",
              " 'oldbalanceDest',\n",
              " 'newbalanceDest']"
            ]
          },
          "metadata": {},
          "execution_count": 13
        }
      ],
      "source": [
        "numerical_feats_list = integer_columns.tolist() + float_columns.tolist()\n",
        "numerical_feats_list"
      ]
    },
    {
      "cell_type": "code",
      "source": [
        "numerical_feats_list = [ele for ele in numerical_feats_list if ele != 'isFraud']"
      ],
      "metadata": {
        "id": "bkzGjI_83yrh"
      },
      "execution_count": null,
      "outputs": []
    },
    {
      "cell_type": "code",
      "source": [
        "numerical_feats_list"
      ],
      "metadata": {
        "colab": {
          "base_uri": "https://localhost:8080/"
        },
        "id": "uVsH7WUU3ge_",
        "outputId": "6c2ca8bb-f864-4e34-d8ee-0a79939dcefc"
      },
      "execution_count": null,
      "outputs": [
        {
          "output_type": "execute_result",
          "data": {
            "text/plain": [
              "['step',\n",
              " 'isFlaggedFraud',\n",
              " 'amount',\n",
              " 'oldbalanceOrg',\n",
              " 'newbalanceOrig',\n",
              " 'oldbalanceDest',\n",
              " 'newbalanceDest']"
            ]
          },
          "metadata": {},
          "execution_count": 15
        }
      ]
    },
    {
      "cell_type": "code",
      "execution_count": null,
      "metadata": {
        "colab": {
          "base_uri": "https://localhost:8080/"
        },
        "id": "NjALezTEzvwj",
        "outputId": "788d28cf-615c-4f41-e7be-ac0b8e7cd3c5"
      },
      "outputs": [
        {
          "output_type": "stream",
          "name": "stdout",
          "text": [
            "----------------------------\n",
            "t-test for \"step\": \n",
            "\n",
            " statistic score = -79.69\n",
            " pvalue =  0.0\n",
            "----------------------------\n",
            "t-test for \"isFlaggedFraud\": \n",
            "\n",
            " statistic score = -111.37\n",
            " pvalue =  0.0\n",
            "----------------------------\n",
            "t-test for \"amount\": \n",
            "\n",
            " statistic score = -194.01\n",
            " pvalue =  0.0\n",
            "----------------------------\n",
            "t-test for \"oldbalanceOrg\": \n",
            "\n",
            " statistic score = -25.62\n",
            " pvalue =  1.0542893553023227e-144\n",
            "----------------------------\n",
            "t-test for \"newbalanceOrig\": \n",
            "\n",
            " statistic score = 20.55\n",
            " pvalue =  7.168312431103147e-94\n",
            "----------------------------\n",
            "t-test for \"oldbalanceDest\": \n",
            "\n",
            " statistic score = 14.85\n",
            " pvalue =  7.463206943535623e-50\n",
            "----------------------------\n",
            "t-test for \"newbalanceDest\": \n",
            "\n",
            " statistic score = -1.35\n",
            " pvalue =  0.17689674407002928\n"
          ]
        }
      ],
      "source": [
        "from scipy.stats import ttest_ind\n",
        "\n",
        "for elem in numerical_feats_list:\n",
        "  score = ttest_ind(df[elem][df['isFraud'] == 0],df[elem][df['isFraud'] == 1])\n",
        "  print('----------------------------')\n",
        "  print(f't-test for \"{elem}\": \\n')\n",
        "  print(' statistic score = {:.2f}'.format(score.statistic))\n",
        "  print(' pvalue = ', score.pvalue)\n",
        "  "
      ]
    },
    {
      "cell_type": "markdown",
      "metadata": {
        "id": "OvipKMo1AVs9"
      },
      "source": [
        "**- Based on the t-test results with critical value (P-value) = 0.05, isFraud feature has significant dependency on \"amount\", \"oldbalanceOrg\", \"newbalanceOrig\", and \"oldbalanceDest\" features.**\n",
        "\n",
        "**- t-test indicates no significant association between \"isFraud\" feature and \"newbalanceDest\" feature.**"
      ]
    },
    {
      "cell_type": "code",
      "execution_count": null,
      "metadata": {
        "colab": {
          "base_uri": "https://localhost:8080/",
          "height": 721
        },
        "id": "a3ULRFj6H0TO",
        "outputId": "248350a7-a82c-40a5-e8fd-ec38343c0c13"
      },
      "outputs": [
        {
          "data": {
            "text/plain": [
              "<matplotlib.axes._subplots.AxesSubplot at 0x7f1d059dedd0>"
            ]
          },
          "execution_count": 19,
          "metadata": {},
          "output_type": "execute_result"
        },
        {
          "data": {
            "image/png": "[encoded data removed]",
            "text/plain": [
              "<Figure size 864x864 with 4 Axes>"
            ]
          },
          "metadata": {},
          "output_type": "display_data"
        }
      ],
      "source": [
        "fig, axes = plt.subplots(2, 2, squeeze=False, figsize=(12, 12))\n",
        "sns.scatterplot(data=df, x='amount', y='isFraud', ax=axes[0, 0], hue = \"isFraud\")\n",
        "sns.scatterplot(data=df, x='oldbalanceOrg', y='isFraud', ax=axes[0, 1], hue = \"isFraud\")\n",
        "sns.scatterplot(data=df, x='newbalanceOrig', y='isFraud', ax=axes[1, 0], hue = \"isFraud\")\n",
        "sns.scatterplot(data=df, x='oldbalanceDest', y='isFraud', ax=axes[1, 1], hue = \"isFraud\")"
      ]
    },
    {
      "cell_type": "code",
      "execution_count": null,
      "metadata": {
        "colab": {
          "base_uri": "https://localhost:8080/",
          "height": 296
        },
        "id": "6Jc4HyjK6cym",
        "outputId": "07941ee7-90ed-4908-d971-988709e66b45"
      },
      "outputs": [
        {
          "data": {
            "text/plain": [
              "<matplotlib.axes._subplots.AxesSubplot at 0x7efed1745990>"
            ]
          },
          "execution_count": 31,
          "metadata": {},
          "output_type": "execute_result"
        },
        {
          "data": {
            "image/png": "[encoded data removed]",
            "text/plain": [
              "<Figure size 432x288 with 1 Axes>"
            ]
          },
          "metadata": {},
          "output_type": "display_data"
        }
      ],
      "source": [
        "sns.scatterplot(x=df['newbalanceDest'], y=df['isFraud'], hue = df[\"isFraud\"])"
      ]
    },
    {
      "cell_type": "markdown",
      "metadata": {
        "id": "vMM0-JV8EA8Q"
      },
      "source": [
        "**The motivation of previous plotings is to visualize the nature of the relationship between the target variable and each numeric variable. It shows nonlinear seperable problem**"
      ]
    },
    {
      "cell_type": "code",
      "execution_count": null,
      "metadata": {
        "colab": {
          "base_uri": "https://localhost:8080/",
          "height": 828
        },
        "id": "1_meMCPJkFiD",
        "outputId": "dcc534b0-80af-44c9-d43e-d3fac1a15cb1"
      },
      "outputs": [
        {
          "output_type": "display_data",
          "data": {
            "text/plain": [
              "<Figure size 1080x864 with 7 Axes>"
            ],
            "image/png": "[encoded data removed]"
          },
          "metadata": {
            "needs_background": "light"
          }
        }
      ],
      "source": [
        "#Plot boxplot for each numeric variable\n",
        "fig_rows, fig_cols  = len(numerical_feats_list), 1\n",
        "fig, axes = plt.subplots(fig_rows, fig_cols, figsize=(15, 12))\n",
        "fig.suptitle('Boxplot for each numeircal variable', fontsize=30)\n",
        "for indx, elem in enumerate(numerical_feats_list):\n",
        "  sns.boxplot(x=df[elem], orient=\"h\", ax=axes[indx])\n",
        "  axes[indx].set_title(f'{numerical_feats_list[indx].title()} Boxplot')\n",
        "plt.tight_layout(pad=5.0)"
      ]
    },
    {
      "cell_type": "markdown",
      "metadata": {
        "id": "rZ0AqiFZKT15"
      },
      "source": [
        "# **Data Pre-processing**"
      ]
    },
    {
      "cell_type": "code",
      "execution_count": null,
      "metadata": {
        "id": "pzA2qM5wkXMe"
      },
      "outputs": [],
      "source": [
        "cat_transformer = Pipeline([('cat_encoder', OrdinalEncoder(dtype=np.int64))])"
      ]
    },
    {
      "cell_type": "code",
      "execution_count": null,
      "metadata": {
        "id": "8NryrDXWkk5h"
      },
      "outputs": [],
      "source": [
        "num_transformer = Pipeline([('robust_scalar', RobustScaler())])"
      ]
    },
    {
      "cell_type": "code",
      "execution_count": null,
      "metadata": {
        "id": "RlNHYLyAk8wW"
      },
      "outputs": [],
      "source": [
        "# Creating preprocessing pipeline\n",
        "preprocessing = make_column_transformer((cat_transformer, categorical_feats_list),\\\n",
        "                                        (num_transformer, numerical_feats_list)\\\n",
        "                                        , remainder='passthrough')"
      ]
    },
    {
      "cell_type": "code",
      "execution_count": null,
      "metadata": {
        "id": "NvaHZaQZTuIq"
      },
      "outputs": [],
      "source": [
        "# Drop nameOrig and nameDest features and the target label from the set of independent variables \n",
        "X = df.drop(['isFraud', 'nameOrig', 'nameDest'], axis = 1)\n",
        "Y = df['isFraud'].to_numpy()"
      ]
    },
    {
      "cell_type": "markdown",
      "metadata": {
        "id": "wRPA_EWhJIwM"
      },
      "source": [
        "**- Both \"nameDest\" and \"NameOrig\" dropped because it has no meaning. They are anonymous for customers' names.**"
      ]
    },
    {
      "cell_type": "code",
      "execution_count": null,
      "metadata": {
        "id": "_R-CObbymDmA",
        "colab": {
          "base_uri": "https://localhost:8080/",
          "height": 424
        },
        "outputId": "76495f2a-a839-4558-df1a-1e0e642c2781"
      },
      "outputs": [
        {
          "output_type": "execute_result",
          "data": {
            "text/plain": [
              "         type      step  isFlaggedFraud     amount  oldbalanceOrg  \\\n",
              "0         3.0 -1.329609             0.0  -0.332932       1.452991   \n",
              "1         3.0 -1.329609             0.0  -0.373762       0.065610   \n",
              "2         4.0 -1.329609             0.0  -0.382380      -0.130708   \n",
              "3         1.0 -1.329609             0.0  -0.382380      -0.130708   \n",
              "4         3.0 -1.329609             0.0  -0.323571       0.254820   \n",
              "...       ...       ...             ...        ...            ...   \n",
              "6362615   1.0  2.815642             0.0   1.355693       3.032881   \n",
              "6362616   4.0  2.815642             0.0  31.927899      58.679504   \n",
              "6362617   1.0  2.815642             0.0  31.927899      58.679504   \n",
              "6362618   4.0  2.815642             0.0   3.968274       7.788223   \n",
              "6362619   1.0  2.815642             0.0   3.968274       7.788223   \n",
              "\n",
              "         newbalanceOrig  oldbalanceDest  newbalanceDest  \n",
              "0              1.111175       -0.140722       -0.193057  \n",
              "1              0.134375       -0.140722       -0.193057  \n",
              "2              0.000000       -0.140722       -0.193057  \n",
              "3              0.000000       -0.118260       -0.193057  \n",
              "4              0.207169       -0.140722       -0.193057  \n",
              "...                 ...             ...             ...  \n",
              "6362615        0.000000       -0.140722        0.112438  \n",
              "6362616        0.000000       -0.140722       -0.193057  \n",
              "6362617        0.000000       -0.068096        5.544730  \n",
              "6362618        0.000000       -0.140722       -0.193057  \n",
              "6362619        0.000000        6.762614        6.426280  \n",
              "\n",
              "[6362620 rows x 8 columns]"
            ],
            "text/html": [
              "\n",
              "  <div id=\"df-b915eca4-2d55-46e6-8989-a40f16e29368\">\n",
              "    <div class=\"colab-df-container\">\n",
              "      <div>\n",
              "<style scoped>\n",
              "    .dataframe tbody tr th:only-of-type {\n",
              "        vertical-align: middle;\n",
              "    }\n",
              "\n",
              "    .dataframe tbody tr th {\n",
              "        vertical-align: top;\n",
              "    }\n",
              "\n",
              "    .dataframe thead th {\n",
              "        text-align: right;\n",
              "    }\n",
              "</style>\n",
              "<table border=\"1\" class=\"dataframe\">\n",
              "  <thead>\n",
              "    <tr style=\"text-align: right;\">\n",
              "      <th></th>\n",
              "      <th>type</th>\n",
              "      <th>step</th>\n",
              "      <th>isFlaggedFraud</th>\n",
              "      <th>amount</th>\n",
              "      <th>oldbalanceOrg</th>\n",
              "      <th>newbalanceOrig</th>\n",
              "      <th>oldbalanceDest</th>\n",
              "      <th>newbalanceDest</th>\n",
              "    </tr>\n",
              "  </thead>\n",
              "  <tbody>\n",
              "    <tr>\n",
              "      <th>0</th>\n",
              "      <td>3.0</td>\n",
              "      <td>-1.329609</td>\n",
              "      <td>0.0</td>\n",
              "      <td>-0.332932</td>\n",
              "      <td>1.452991</td>\n",
              "      <td>1.111175</td>\n",
              "      <td>-0.140722</td>\n",
              "      <td>-0.193057</td>\n",
              "    </tr>\n",
              "    <tr>\n",
              "      <th>1</th>\n",
              "      <td>3.0</td>\n",
              "      <td>-1.329609</td>\n",
              "      <td>0.0</td>\n",
              "      <td>-0.373762</td>\n",
              "      <td>0.065610</td>\n",
              "      <td>0.134375</td>\n",
              "      <td>-0.140722</td>\n",
              "      <td>-0.193057</td>\n",
              "    </tr>\n",
              "    <tr>\n",
              "      <th>2</th>\n",
              "      <td>4.0</td>\n",
              "      <td>-1.329609</td>\n",
              "      <td>0.0</td>\n",
              "      <td>-0.382380</td>\n",
              "      <td>-0.130708</td>\n",
              "      <td>0.000000</td>\n",
              "      <td>-0.140722</td>\n",
              "      <td>-0.193057</td>\n",
              "    </tr>\n",
              "    <tr>\n",
              "      <th>3</th>\n",
              "      <td>1.0</td>\n",
              "      <td>-1.329609</td>\n",
              "      <td>0.0</td>\n",
              "      <td>-0.382380</td>\n",
              "      <td>-0.130708</td>\n",
              "      <td>0.000000</td>\n",
              "      <td>-0.118260</td>\n",
              "      <td>-0.193057</td>\n",
              "    </tr>\n",
              "    <tr>\n",
              "      <th>4</th>\n",
              "      <td>3.0</td>\n",
              "      <td>-1.329609</td>\n",
              "      <td>0.0</td>\n",
              "      <td>-0.323571</td>\n",
              "      <td>0.254820</td>\n",
              "      <td>0.207169</td>\n",
              "      <td>-0.140722</td>\n",
              "      <td>-0.193057</td>\n",
              "    </tr>\n",
              "    <tr>\n",
              "      <th>...</th>\n",
              "      <td>...</td>\n",
              "      <td>...</td>\n",
              "      <td>...</td>\n",
              "      <td>...</td>\n",
              "      <td>...</td>\n",
              "      <td>...</td>\n",
              "      <td>...</td>\n",
              "      <td>...</td>\n",
              "    </tr>\n",
              "    <tr>\n",
              "      <th>6362615</th>\n",
              "      <td>1.0</td>\n",
              "      <td>2.815642</td>\n",
              "      <td>0.0</td>\n",
              "      <td>1.355693</td>\n",
              "      <td>3.032881</td>\n",
              "      <td>0.000000</td>\n",
              "      <td>-0.140722</td>\n",
              "      <td>0.112438</td>\n",
              "    </tr>\n",
              "    <tr>\n",
              "      <th>6362616</th>\n",
              "      <td>4.0</td>\n",
              "      <td>2.815642</td>\n",
              "      <td>0.0</td>\n",
              "      <td>31.927899</td>\n",
              "      <td>58.679504</td>\n",
              "      <td>0.000000</td>\n",
              "      <td>-0.140722</td>\n",
              "      <td>-0.193057</td>\n",
              "    </tr>\n",
              "    <tr>\n",
              "      <th>6362617</th>\n",
              "      <td>1.0</td>\n",
              "      <td>2.815642</td>\n",
              "      <td>0.0</td>\n",
              "      <td>31.927899</td>\n",
              "      <td>58.679504</td>\n",
              "      <td>0.000000</td>\n",
              "      <td>-0.068096</td>\n",
              "      <td>5.544730</td>\n",
              "    </tr>\n",
              "    <tr>\n",
              "      <th>6362618</th>\n",
              "      <td>4.0</td>\n",
              "      <td>2.815642</td>\n",
              "      <td>0.0</td>\n",
              "      <td>3.968274</td>\n",
              "      <td>7.788223</td>\n",
              "      <td>0.000000</td>\n",
              "      <td>-0.140722</td>\n",
              "      <td>-0.193057</td>\n",
              "    </tr>\n",
              "    <tr>\n",
              "      <th>6362619</th>\n",
              "      <td>1.0</td>\n",
              "      <td>2.815642</td>\n",
              "      <td>0.0</td>\n",
              "      <td>3.968274</td>\n",
              "      <td>7.788223</td>\n",
              "      <td>0.000000</td>\n",
              "      <td>6.762614</td>\n",
              "      <td>6.426280</td>\n",
              "    </tr>\n",
              "  </tbody>\n",
              "</table>\n",
              "<p>6362620 rows × 8 columns</p>\n",
              "</div>\n",
              "      <button class=\"colab-df-convert\" onclick=\"convertToInteractive('df-b915eca4-2d55-46e6-8989-a40f16e29368')\"\n",
              "              title=\"Convert this dataframe to an interactive table.\"\n",
              "              style=\"display:none;\">\n",
              "        \n",
              "  <svg xmlns=\"http://www.w3.org/2000/svg\" height=\"24px\"viewBox=\"0 0 24 24\"\n",
              "       width=\"24px\">\n",
              "    <path d=\"M0 0h24v24H0V0z\" fill=\"none\"/>\n",
              "    <path d=\"M18.56 5.44l.94 2.06.94-2.06 2.06-.94-2.06-.94-.94-2.06-.94 2.06-2.06.94zm-11 1L8.5 8.5l.94-2.06 2.06-.94-2.06-.94L8.5 2.5l-.94 2.06-2.06.94zm10 10l.94 2.06.94-2.06 2.06-.94-2.06-.94-.94-2.06-.94 2.06-2.06.94z\"/><path d=\"M17.41 7.96l-1.37-1.37c-.4-.4-.92-.59-1.43-.59-.52 0-1.04.2-1.43.59L10.3 9.45l-7.72 7.72c-.78.78-.78 2.05 0 2.83L4 21.41c.39.39.9.59 1.41.59.51 0 1.02-.2 1.41-.59l7.78-7.78 2.81-2.81c.8-.78.8-2.07 0-2.86zM5.41 20L4 18.59l7.72-7.72 1.47 1.35L5.41 20z\"/>\n",
              "  </svg>\n",
              "      </button>\n",
              "      \n",
              "  <style>\n",
              "    .colab-df-container {\n",
              "      display:flex;\n",
              "      flex-wrap:wrap;\n",
              "      gap: 12px;\n",
              "    }\n",
              "\n",
              "    .colab-df-convert {\n",
              "      background-color: #E8F0FE;\n",
              "      border: none;\n",
              "      border-radius: 50%;\n",
              "      cursor: pointer;\n",
              "      display: none;\n",
              "      fill: #1967D2;\n",
              "      height: 32px;\n",
              "      padding: 0 0 0 0;\n",
              "      width: 32px;\n",
              "    }\n",
              "\n",
              "    .colab-df-convert:hover {\n",
              "      background-color: #E2EBFA;\n",
              "      box-shadow: 0px 1px 2px rgba(60, 64, 67, 0.3), 0px 1px 3px 1px rgba(60, 64, 67, 0.15);\n",
              "      fill: #174EA6;\n",
              "    }\n",
              "\n",
              "    [theme=dark] .colab-df-convert {\n",
              "      background-color: #3B4455;\n",
              "      fill: #D2E3FC;\n",
              "    }\n",
              "\n",
              "    [theme=dark] .colab-df-convert:hover {\n",
              "      background-color: #434B5C;\n",
              "      box-shadow: 0px 1px 3px 1px rgba(0, 0, 0, 0.15);\n",
              "      filter: drop-shadow(0px 1px 2px rgba(0, 0, 0, 0.3));\n",
              "      fill: #FFFFFF;\n",
              "    }\n",
              "  </style>\n",
              "\n",
              "      <script>\n",
              "        const buttonEl =\n",
              "          document.querySelector('#df-b915eca4-2d55-46e6-8989-a40f16e29368 button.colab-df-convert');\n",
              "        buttonEl.style.display =\n",
              "          google.colab.kernel.accessAllowed ? 'block' : 'none';\n",
              "\n",
              "        async function convertToInteractive(key) {\n",
              "          const element = document.querySelector('#df-b915eca4-2d55-46e6-8989-a40f16e29368');\n",
              "          const dataTable =\n",
              "            await google.colab.kernel.invokeFunction('convertToInteractive',\n",
              "                                                     [key], {});\n",
              "          if (!dataTable) return;\n",
              "\n",
              "          const docLinkHtml = 'Like what you see? Visit the ' +\n",
              "            '<a target=\"_blank\" href=https://colab.research.google.com/notebooks/data_table.ipynb>data table notebook</a>'\n",
              "            + ' to learn more about interactive tables.';\n",
              "          element.innerHTML = '';\n",
              "          dataTable['output_type'] = 'display_data';\n",
              "          await google.colab.output.renderOutput(dataTable, element);\n",
              "          const docLink = document.createElement('div');\n",
              "          docLink.innerHTML = docLinkHtml;\n",
              "          element.appendChild(docLink);\n",
              "        }\n",
              "      </script>\n",
              "    </div>\n",
              "  </div>\n",
              "  "
            ]
          },
          "metadata": {},
          "execution_count": 17
        }
      ],
      "source": [
        "# Check the feature matrix after the preprocessing(i.e model input)\n",
        "preprocess_output = pd.DataFrame(preprocessing.fit_transform(X),\\\n",
        "                                 columns= preprocessing.transformers_[0][2] +\\\n",
        "                                 preprocessing.transformers_[1][2])\n",
        "preprocess_output"
      ]
    },
    {
      "cell_type": "code",
      "source": [
        "mapping = {\"CASH_IN\": 1, \"CASH_OUT\": 2, \"PAYMENT\": 3, \"DEBIT\":4, \"TRANSFER\":5}"
      ],
      "metadata": {
        "id": "Jf7RbBCL4EiL"
      },
      "execution_count": null,
      "outputs": []
    },
    {
      "cell_type": "markdown",
      "source": [
        "**Make sure which features goes to which transformer**"
      ],
      "metadata": {
        "id": "Ja0luBBzNu14"
      }
    },
    {
      "cell_type": "code",
      "source": [
        "preprocessing.output_indices_"
      ],
      "metadata": {
        "colab": {
          "base_uri": "https://localhost:8080/"
        },
        "id": "iN1ubHjQt__z",
        "outputId": "ab3f9047-d791-4ecc-8e11-0edeff428da7"
      },
      "execution_count": null,
      "outputs": [
        {
          "output_type": "execute_result",
          "data": {
            "text/plain": [
              "{'pipeline-1': slice(0, 1, None),\n",
              " 'pipeline-2': slice(1, 8, None),\n",
              " 'remainder': slice(0, 0, None)}"
            ]
          },
          "metadata": {},
          "execution_count": 18
        }
      ]
    },
    {
      "cell_type": "markdown",
      "source": [
        "**Check-out the number of features icncluded in the preprocessing part**"
      ],
      "metadata": {
        "id": "8GjYC7Y9OBEo"
      }
    },
    {
      "cell_type": "code",
      "source": [
        "preprocessing.n_features_in_"
      ],
      "metadata": {
        "colab": {
          "base_uri": "https://localhost:8080/"
        },
        "id": "uiN5F7iNvSPh",
        "outputId": "c9bcde93-7dbe-4524-b002-1b7d75cbe1f1"
      },
      "execution_count": null,
      "outputs": [
        {
          "output_type": "execute_result",
          "data": {
            "text/plain": [
              "8"
            ]
          },
          "metadata": {},
          "execution_count": 19
        }
      ]
    },
    {
      "cell_type": "markdown",
      "source": [
        "**Mutual Information Score with the target variable**"
      ],
      "metadata": {
        "id": "nT2h-0rZ6sc9"
      }
    },
    {
      "cell_type": "code",
      "execution_count": null,
      "metadata": {
        "colab": {
          "base_uri": "https://localhost:8080/"
        },
        "id": "U1wvOLg3SuWw",
        "outputId": "fce95bc2-f70d-4650-f7d8-b0fae39bc6b3"
      },
      "outputs": [
        {
          "output_type": "execute_result",
          "data": {
            "text/plain": [
              "type              0.170712\n",
              "oldbalanceDest    0.041416\n",
              "newbalanceDest    0.035985\n",
              "step              0.008767\n",
              "oldbalanceOrg     0.006170\n",
              "amount            0.002451\n",
              "newbalanceOrig    0.000650\n",
              "isFlaggedFraud    0.000024\n",
              "dtype: float64"
            ]
          },
          "metadata": {},
          "execution_count": 42
        }
      ],
      "source": [
        "# Compute Mutual Information between features and the Target variable\n",
        "from sklearn.feature_selection import mutual_info_classif\n",
        "mutual_info = mutual_info_classif(preprocess_output, Y \\\n",
        "                                  , discrete_features=False, random_state = 42)\n",
        "mutual_info = pd.Series(mutual_info)\n",
        "mutual_info.index = preprocessing.transformers_[0][2]+\\\n",
        "                    preprocessing.transformers_[1][2]\n",
        "mutual_info.sort_values(ascending=False)"
      ]
    },
    {
      "cell_type": "code",
      "source": [
        "# Compute Mutual Information between features and the Target variable\n",
        "from sklearn.feature_selection import mutual_info_classif\n",
        "mutual_info = mutual_info_classif(preprocess_output, Y \\\n",
        "                                  , discrete_features=[0,2], random_state = 42)\n",
        "mutual_info = pd.Series(mutual_info)\n",
        "mutual_info.index = preprocessing.transformers_[0][2]+\\\n",
        "                    preprocessing.transformers_[1][2]\n",
        "mutual_info.sort_values(ascending=False)"
      ],
      "metadata": {
        "colab": {
          "base_uri": "https://localhost:8080/"
        },
        "id": "G7SKzDa-e7Gi",
        "outputId": "7c3ce721-5ddf-47cc-e43f-ddb4746bfdea"
      },
      "execution_count": null,
      "outputs": [
        {
          "output_type": "execute_result",
          "data": {
            "text/plain": [
              "oldbalanceDest    0.041356\n",
              "newbalanceDest    0.036097\n",
              "step              0.008789\n",
              "oldbalanceOrg     0.006181\n",
              "amount            0.002451\n",
              "type              0.001380\n",
              "newbalanceOrig    0.000663\n",
              "isFlaggedFraud    0.000017\n",
              "dtype: float64"
            ]
          },
          "metadata": {},
          "execution_count": 43
        }
      ]
    },
    {
      "cell_type": "code",
      "source": [
        "X['type'] = X['type'].replace(mapping)\n",
        "X"
      ],
      "metadata": {
        "colab": {
          "base_uri": "https://localhost:8080/",
          "height": 424
        },
        "id": "W7PTB2-h_y_X",
        "outputId": "88b46676-568e-43ff-bf1a-a4a09c24bfd2"
      },
      "execution_count": null,
      "outputs": [
        {
          "output_type": "execute_result",
          "data": {
            "text/plain": [
              "         step  type      amount  oldbalanceOrg  newbalanceOrig  \\\n",
              "0           1     3     9839.64      170136.00       160296.36   \n",
              "1           1     3     1864.28       21249.00        19384.72   \n",
              "2           1     5      181.00         181.00            0.00   \n",
              "3           1     2      181.00         181.00            0.00   \n",
              "4           1     3    11668.14       41554.00        29885.86   \n",
              "...       ...   ...         ...            ...             ...   \n",
              "6362615   743     2   339682.13      339682.13            0.00   \n",
              "6362616   743     5  6311409.28     6311409.28            0.00   \n",
              "6362617   743     2  6311409.28     6311409.28            0.00   \n",
              "6362618   743     5   850002.52      850002.52            0.00   \n",
              "6362619   743     2   850002.52      850002.52            0.00   \n",
              "\n",
              "         oldbalanceDest  newbalanceDest  isFlaggedFraud  \n",
              "0                  0.00            0.00               0  \n",
              "1                  0.00            0.00               0  \n",
              "2                  0.00            0.00               0  \n",
              "3              21182.00            0.00               0  \n",
              "4                  0.00            0.00               0  \n",
              "...                 ...             ...             ...  \n",
              "6362615            0.00       339682.13               0  \n",
              "6362616            0.00            0.00               0  \n",
              "6362617        68488.84      6379898.11               0  \n",
              "6362618            0.00            0.00               0  \n",
              "6362619      6510099.11      7360101.63               0  \n",
              "\n",
              "[6362620 rows x 8 columns]"
            ],
            "text/html": [
              "\n",
              "  <div id=\"df-9ba7bfe2-3750-4da2-bbfe-060f4cea5aa6\">\n",
              "    <div class=\"colab-df-container\">\n",
              "      <div>\n",
              "<style scoped>\n",
              "    .dataframe tbody tr th:only-of-type {\n",
              "        vertical-align: middle;\n",
              "    }\n",
              "\n",
              "    .dataframe tbody tr th {\n",
              "        vertical-align: top;\n",
              "    }\n",
              "\n",
              "    .dataframe thead th {\n",
              "        text-align: right;\n",
              "    }\n",
              "</style>\n",
              "<table border=\"1\" class=\"dataframe\">\n",
              "  <thead>\n",
              "    <tr style=\"text-align: right;\">\n",
              "      <th></th>\n",
              "      <th>step</th>\n",
              "      <th>type</th>\n",
              "      <th>amount</th>\n",
              "      <th>oldbalanceOrg</th>\n",
              "      <th>newbalanceOrig</th>\n",
              "      <th>oldbalanceDest</th>\n",
              "      <th>newbalanceDest</th>\n",
              "      <th>isFlaggedFraud</th>\n",
              "    </tr>\n",
              "  </thead>\n",
              "  <tbody>\n",
              "    <tr>\n",
              "      <th>0</th>\n",
              "      <td>1</td>\n",
              "      <td>3</td>\n",
              "      <td>9839.64</td>\n",
              "      <td>170136.00</td>\n",
              "      <td>160296.36</td>\n",
              "      <td>0.00</td>\n",
              "      <td>0.00</td>\n",
              "      <td>0</td>\n",
              "    </tr>\n",
              "    <tr>\n",
              "      <th>1</th>\n",
              "      <td>1</td>\n",
              "      <td>3</td>\n",
              "      <td>1864.28</td>\n",
              "      <td>21249.00</td>\n",
              "      <td>19384.72</td>\n",
              "      <td>0.00</td>\n",
              "      <td>0.00</td>\n",
              "      <td>0</td>\n",
              "    </tr>\n",
              "    <tr>\n",
              "      <th>2</th>\n",
              "      <td>1</td>\n",
              "      <td>5</td>\n",
              "      <td>181.00</td>\n",
              "      <td>181.00</td>\n",
              "      <td>0.00</td>\n",
              "      <td>0.00</td>\n",
              "      <td>0.00</td>\n",
              "      <td>0</td>\n",
              "    </tr>\n",
              "    <tr>\n",
              "      <th>3</th>\n",
              "      <td>1</td>\n",
              "      <td>2</td>\n",
              "      <td>181.00</td>\n",
              "      <td>181.00</td>\n",
              "      <td>0.00</td>\n",
              "      <td>21182.00</td>\n",
              "      <td>0.00</td>\n",
              "      <td>0</td>\n",
              "    </tr>\n",
              "    <tr>\n",
              "      <th>4</th>\n",
              "      <td>1</td>\n",
              "      <td>3</td>\n",
              "      <td>11668.14</td>\n",
              "      <td>41554.00</td>\n",
              "      <td>29885.86</td>\n",
              "      <td>0.00</td>\n",
              "      <td>0.00</td>\n",
              "      <td>0</td>\n",
              "    </tr>\n",
              "    <tr>\n",
              "      <th>...</th>\n",
              "      <td>...</td>\n",
              "      <td>...</td>\n",
              "      <td>...</td>\n",
              "      <td>...</td>\n",
              "      <td>...</td>\n",
              "      <td>...</td>\n",
              "      <td>...</td>\n",
              "      <td>...</td>\n",
              "    </tr>\n",
              "    <tr>\n",
              "      <th>6362615</th>\n",
              "      <td>743</td>\n",
              "      <td>2</td>\n",
              "      <td>339682.13</td>\n",
              "      <td>339682.13</td>\n",
              "      <td>0.00</td>\n",
              "      <td>0.00</td>\n",
              "      <td>339682.13</td>\n",
              "      <td>0</td>\n",
              "    </tr>\n",
              "    <tr>\n",
              "      <th>6362616</th>\n",
              "      <td>743</td>\n",
              "      <td>5</td>\n",
              "      <td>6311409.28</td>\n",
              "      <td>6311409.28</td>\n",
              "      <td>0.00</td>\n",
              "      <td>0.00</td>\n",
              "      <td>0.00</td>\n",
              "      <td>0</td>\n",
              "    </tr>\n",
              "    <tr>\n",
              "      <th>6362617</th>\n",
              "      <td>743</td>\n",
              "      <td>2</td>\n",
              "      <td>6311409.28</td>\n",
              "      <td>6311409.28</td>\n",
              "      <td>0.00</td>\n",
              "      <td>68488.84</td>\n",
              "      <td>6379898.11</td>\n",
              "      <td>0</td>\n",
              "    </tr>\n",
              "    <tr>\n",
              "      <th>6362618</th>\n",
              "      <td>743</td>\n",
              "      <td>5</td>\n",
              "      <td>850002.52</td>\n",
              "      <td>850002.52</td>\n",
              "      <td>0.00</td>\n",
              "      <td>0.00</td>\n",
              "      <td>0.00</td>\n",
              "      <td>0</td>\n",
              "    </tr>\n",
              "    <tr>\n",
              "      <th>6362619</th>\n",
              "      <td>743</td>\n",
              "      <td>2</td>\n",
              "      <td>850002.52</td>\n",
              "      <td>850002.52</td>\n",
              "      <td>0.00</td>\n",
              "      <td>6510099.11</td>\n",
              "      <td>7360101.63</td>\n",
              "      <td>0</td>\n",
              "    </tr>\n",
              "  </tbody>\n",
              "</table>\n",
              "<p>6362620 rows × 8 columns</p>\n",
              "</div>\n",
              "      <button class=\"colab-df-convert\" onclick=\"convertToInteractive('df-9ba7bfe2-3750-4da2-bbfe-060f4cea5aa6')\"\n",
              "              title=\"Convert this dataframe to an interactive table.\"\n",
              "              style=\"display:none;\">\n",
              "        \n",
              "  <svg xmlns=\"http://www.w3.org/2000/svg\" height=\"24px\"viewBox=\"0 0 24 24\"\n",
              "       width=\"24px\">\n",
              "    <path d=\"M0 0h24v24H0V0z\" fill=\"none\"/>\n",
              "    <path d=\"M18.56 5.44l.94 2.06.94-2.06 2.06-.94-2.06-.94-.94-2.06-.94 2.06-2.06.94zm-11 1L8.5 8.5l.94-2.06 2.06-.94-2.06-.94L8.5 2.5l-.94 2.06-2.06.94zm10 10l.94 2.06.94-2.06 2.06-.94-2.06-.94-.94-2.06-.94 2.06-2.06.94z\"/><path d=\"M17.41 7.96l-1.37-1.37c-.4-.4-.92-.59-1.43-.59-.52 0-1.04.2-1.43.59L10.3 9.45l-7.72 7.72c-.78.78-.78 2.05 0 2.83L4 21.41c.39.39.9.59 1.41.59.51 0 1.02-.2 1.41-.59l7.78-7.78 2.81-2.81c.8-.78.8-2.07 0-2.86zM5.41 20L4 18.59l7.72-7.72 1.47 1.35L5.41 20z\"/>\n",
              "  </svg>\n",
              "      </button>\n",
              "      \n",
              "  <style>\n",
              "    .colab-df-container {\n",
              "      display:flex;\n",
              "      flex-wrap:wrap;\n",
              "      gap: 12px;\n",
              "    }\n",
              "\n",
              "    .colab-df-convert {\n",
              "      background-color: #E8F0FE;\n",
              "      border: none;\n",
              "      border-radius: 50%;\n",
              "      cursor: pointer;\n",
              "      display: none;\n",
              "      fill: #1967D2;\n",
              "      height: 32px;\n",
              "      padding: 0 0 0 0;\n",
              "      width: 32px;\n",
              "    }\n",
              "\n",
              "    .colab-df-convert:hover {\n",
              "      background-color: #E2EBFA;\n",
              "      box-shadow: 0px 1px 2px rgba(60, 64, 67, 0.3), 0px 1px 3px 1px rgba(60, 64, 67, 0.15);\n",
              "      fill: #174EA6;\n",
              "    }\n",
              "\n",
              "    [theme=dark] .colab-df-convert {\n",
              "      background-color: #3B4455;\n",
              "      fill: #D2E3FC;\n",
              "    }\n",
              "\n",
              "    [theme=dark] .colab-df-convert:hover {\n",
              "      background-color: #434B5C;\n",
              "      box-shadow: 0px 1px 3px 1px rgba(0, 0, 0, 0.15);\n",
              "      filter: drop-shadow(0px 1px 2px rgba(0, 0, 0, 0.3));\n",
              "      fill: #FFFFFF;\n",
              "    }\n",
              "  </style>\n",
              "\n",
              "      <script>\n",
              "        const buttonEl =\n",
              "          document.querySelector('#df-9ba7bfe2-3750-4da2-bbfe-060f4cea5aa6 button.colab-df-convert');\n",
              "        buttonEl.style.display =\n",
              "          google.colab.kernel.accessAllowed ? 'block' : 'none';\n",
              "\n",
              "        async function convertToInteractive(key) {\n",
              "          const element = document.querySelector('#df-9ba7bfe2-3750-4da2-bbfe-060f4cea5aa6');\n",
              "          const dataTable =\n",
              "            await google.colab.kernel.invokeFunction('convertToInteractive',\n",
              "                                                     [key], {});\n",
              "          if (!dataTable) return;\n",
              "\n",
              "          const docLinkHtml = 'Like what you see? Visit the ' +\n",
              "            '<a target=\"_blank\" href=https://colab.research.google.com/notebooks/data_table.ipynb>data table notebook</a>'\n",
              "            + ' to learn more about interactive tables.';\n",
              "          element.innerHTML = '';\n",
              "          dataTable['output_type'] = 'display_data';\n",
              "          await google.colab.output.renderOutput(dataTable, element);\n",
              "          const docLink = document.createElement('div');\n",
              "          docLink.innerHTML = docLinkHtml;\n",
              "          element.appendChild(docLink);\n",
              "        }\n",
              "      </script>\n",
              "    </div>\n",
              "  </div>\n",
              "  "
            ]
          },
          "metadata": {},
          "execution_count": 49
        }
      ]
    },
    {
      "cell_type": "code",
      "source": [
        "from sklearn.feature_selection import mutual_info_classif\n",
        "mutual_info2 = mutual_info_classif(X['type'].values.reshape(-1,1), Y \\\n",
        "                                  , discrete_features=True, random_state = 42)\n",
        "mutual_info2"
      ],
      "metadata": {
        "colab": {
          "base_uri": "https://localhost:8080/"
        },
        "id": "sIDwNFvmDFL0",
        "outputId": "6a4e273b-6bdb-4475-d65b-155389960c4c"
      },
      "execution_count": null,
      "outputs": [
        {
          "output_type": "execute_result",
          "data": {
            "text/plain": [
              "array([0.0013804])"
            ]
          },
          "metadata": {},
          "execution_count": 63
        }
      ]
    },
    {
      "cell_type": "markdown",
      "metadata": {
        "id": "pP0t08hK9OsX"
      },
      "source": [
        "# **Splitting the data for trainning and Testing**"
      ]
    },
    {
      "cell_type": "code",
      "execution_count": null,
      "metadata": {
        "id": "np5SkOqMrCjL"
      },
      "outputs": [],
      "source": [
        "X_train, X_test, Y_train, Y_test = train_test_split(X, Y, test_size=0.2, random_state = 42)"
      ]
    },
    {
      "cell_type": "markdown",
      "metadata": {
        "id": "XJkAV_gaSZ1V"
      },
      "source": [
        "# **Logistic Regression Classifier without Feature Engineering**"
      ]
    },
    {
      "cell_type": "markdown",
      "metadata": {
        "id": "IRFzLh1CYgIE"
      },
      "source": [
        "**F1 macro precision, and recall evaluation metrics will be considered for comparing models performance because of the imbalance in the dataset.**"
      ]
    },
    {
      "cell_type": "markdown",
      "metadata": {
        "id": "VmW2hLhbroRw"
      },
      "source": [
        "**LR Model 1: Dropping names since they are uninformative.**"
      ]
    },
    {
      "cell_type": "code",
      "execution_count": null,
      "metadata": {
        "colab": {
          "base_uri": "https://localhost:8080/"
        },
        "id": "aFMd5A6iQFtO",
        "outputId": "ec61ab14-7327-47f7-bb94-a45d28a5d344"
      },
      "outputs": [
        {
          "data": {
            "text/plain": [
              "{'fit_time': array([50.9865973 , 55.09028339, 38.45513105, 43.21753287, 40.18343091]),\n",
              " 'score_time': array([3.94157863, 2.28851867, 2.38579583, 2.56635976, 3.98247647]),\n",
              " 'test_f1_macro': array([0.81228336, 0.81127669, 0.81316453, 0.81664978, 0.81455815]),\n",
              " 'train_f1_macro': array([0.81601082, 0.81180188, 0.814654  , 0.81054713, 0.81271837]),\n",
              " 'test_accuracy': array([0.99925836, 0.99923774, 0.99924756, 0.9992731 , 0.99926917]),\n",
              " 'train_accuracy': array([0.99926254, 0.99925591, 0.99926573, 0.99924584, 0.99925026]),\n",
              " 'test_f1_micro': array([0.99925836, 0.99923774, 0.99924756, 0.9992731 , 0.99926917]),\n",
              " 'train_f1_micro': array([0.99926254, 0.99925591, 0.99926573, 0.99924584, 0.99925026]),\n",
              " 'test_recall': array([0.48125478, 0.47446336, 0.48092745, 0.49117421, 0.48803089]),\n",
              " 'train_recall': array([0.48864926, 0.47958794, 0.48363775, 0.47655955, 0.48187995]),\n",
              " 'test_precision': array([0.89093484, 0.90664781, 0.8993007 , 0.89260809, 0.88639551]),\n",
              " 'train_precision': array([0.89594173, 0.89275568, 0.9020582 , 0.89302161, 0.89234533])}"
            ]
          },
          "execution_count": 97,
          "metadata": {},
          "output_type": "execute_result"
        }
      ],
      "source": [
        "# Logestic Pipeline\n",
        "from sklearn.linear_model import LogisticRegression\n",
        "\n",
        "LR1_pipeline = Pipeline([('transformer', preprocessing), ('estimator', LogisticRegression())])\n",
        "cvfolds = KFold(n_splits=5)\n",
        "LR1_scores = cross_validate(LR1_pipeline.fit(X_train, Y_train), X_train, Y_train \\\n",
        "                            , cv = cvfolds, scoring=('f1_macro', 'accuracy', \\\n",
        "                            'f1_micro', 'recall', 'precision'), return_train_score=True)\n",
        "LR1_scores"
      ]
    },
    {
      "cell_type": "code",
      "execution_count": null,
      "metadata": {
        "id": "7b9xJ6g1XTjN"
      },
      "outputs": [],
      "source": [
        "LR1_Y_pred = LR1_pipeline.predict(X_test)"
      ]
    },
    {
      "cell_type": "code",
      "execution_count": null,
      "metadata": {
        "colab": {
          "base_uri": "https://localhost:8080/",
          "height": 513
        },
        "id": "uF5Mq9tPVPkV",
        "outputId": "ba559f71-8dea-4ae6-9d3e-004967a6a4a2"
      },
      "outputs": [
        {
          "name": "stdout",
          "output_type": "stream",
          "text": [
            "Precision: 0.9041 --- Recall: 0.4772\n",
            "\n",
            "\n"
          ]
        },
        {
          "data": {
            "image/png": "[encoded data removed]",
            "text/plain": [
              "<Figure size 864x504 with 2 Axes>"
            ]
          },
          "metadata": {},
          "output_type": "display_data"
        }
      ],
      "source": [
        "plot_results(LR1_pipeline, X_test, Y_test, LR1_Y_pred, 'LR1')"
      ]
    },
    {
      "cell_type": "markdown",
      "metadata": {
        "id": "H7HY5mt5r9pu"
      },
      "source": [
        "**LR Model 2: Drop 'step' and 'isFlaggedFraud' features since they have no added value on the performance. Same pipeline is utilized as only X has changed.**"
      ]
    },
    {
      "cell_type": "code",
      "execution_count": null,
      "metadata": {
        "colab": {
          "base_uri": "https://localhost:8080/",
          "height": 424
        },
        "id": "-kc_I5M6hQhs",
        "outputId": "c5185177-72f0-444e-9e66-09af04726fcd"
      },
      "outputs": [
        {
          "output_type": "execute_result",
          "data": {
            "text/plain": [
              "             type      amount  oldbalanceOrg  newbalanceOrig  oldbalanceDest  \\\n",
              "0         PAYMENT     9839.64      170136.00       160296.36            0.00   \n",
              "1         PAYMENT     1864.28       21249.00        19384.72            0.00   \n",
              "2        TRANSFER      181.00         181.00            0.00            0.00   \n",
              "3        CASH_OUT      181.00         181.00            0.00        21182.00   \n",
              "4         PAYMENT    11668.14       41554.00        29885.86            0.00   \n",
              "...           ...         ...            ...             ...             ...   \n",
              "6362615  CASH_OUT   339682.13      339682.13            0.00            0.00   \n",
              "6362616  TRANSFER  6311409.28     6311409.28            0.00            0.00   \n",
              "6362617  CASH_OUT  6311409.28     6311409.28            0.00        68488.84   \n",
              "6362618  TRANSFER   850002.52      850002.52            0.00            0.00   \n",
              "6362619  CASH_OUT   850002.52      850002.52            0.00      6510099.11   \n",
              "\n",
              "         newbalanceDest  \n",
              "0                  0.00  \n",
              "1                  0.00  \n",
              "2                  0.00  \n",
              "3                  0.00  \n",
              "4                  0.00  \n",
              "...                 ...  \n",
              "6362615       339682.13  \n",
              "6362616            0.00  \n",
              "6362617      6379898.11  \n",
              "6362618            0.00  \n",
              "6362619      7360101.63  \n",
              "\n",
              "[6362620 rows x 6 columns]"
            ],
            "text/html": [
              "\n",
              "  <div id=\"df-5c2abb8a-a0a2-4fa3-a854-3cfd634f9d3d\">\n",
              "    <div class=\"colab-df-container\">\n",
              "      <div>\n",
              "<style scoped>\n",
              "    .dataframe tbody tr th:only-of-type {\n",
              "        vertical-align: middle;\n",
              "    }\n",
              "\n",
              "    .dataframe tbody tr th {\n",
              "        vertical-align: top;\n",
              "    }\n",
              "\n",
              "    .dataframe thead th {\n",
              "        text-align: right;\n",
              "    }\n",
              "</style>\n",
              "<table border=\"1\" class=\"dataframe\">\n",
              "  <thead>\n",
              "    <tr style=\"text-align: right;\">\n",
              "      <th></th>\n",
              "      <th>type</th>\n",
              "      <th>amount</th>\n",
              "      <th>oldbalanceOrg</th>\n",
              "      <th>newbalanceOrig</th>\n",
              "      <th>oldbalanceDest</th>\n",
              "      <th>newbalanceDest</th>\n",
              "    </tr>\n",
              "  </thead>\n",
              "  <tbody>\n",
              "    <tr>\n",
              "      <th>0</th>\n",
              "      <td>PAYMENT</td>\n",
              "      <td>9839.64</td>\n",
              "      <td>170136.00</td>\n",
              "      <td>160296.36</td>\n",
              "      <td>0.00</td>\n",
              "      <td>0.00</td>\n",
              "    </tr>\n",
              "    <tr>\n",
              "      <th>1</th>\n",
              "      <td>PAYMENT</td>\n",
              "      <td>1864.28</td>\n",
              "      <td>21249.00</td>\n",
              "      <td>19384.72</td>\n",
              "      <td>0.00</td>\n",
              "      <td>0.00</td>\n",
              "    </tr>\n",
              "    <tr>\n",
              "      <th>2</th>\n",
              "      <td>TRANSFER</td>\n",
              "      <td>181.00</td>\n",
              "      <td>181.00</td>\n",
              "      <td>0.00</td>\n",
              "      <td>0.00</td>\n",
              "      <td>0.00</td>\n",
              "    </tr>\n",
              "    <tr>\n",
              "      <th>3</th>\n",
              "      <td>CASH_OUT</td>\n",
              "      <td>181.00</td>\n",
              "      <td>181.00</td>\n",
              "      <td>0.00</td>\n",
              "      <td>21182.00</td>\n",
              "      <td>0.00</td>\n",
              "    </tr>\n",
              "    <tr>\n",
              "      <th>4</th>\n",
              "      <td>PAYMENT</td>\n",
              "      <td>11668.14</td>\n",
              "      <td>41554.00</td>\n",
              "      <td>29885.86</td>\n",
              "      <td>0.00</td>\n",
              "      <td>0.00</td>\n",
              "    </tr>\n",
              "    <tr>\n",
              "      <th>...</th>\n",
              "      <td>...</td>\n",
              "      <td>...</td>\n",
              "      <td>...</td>\n",
              "      <td>...</td>\n",
              "      <td>...</td>\n",
              "      <td>...</td>\n",
              "    </tr>\n",
              "    <tr>\n",
              "      <th>6362615</th>\n",
              "      <td>CASH_OUT</td>\n",
              "      <td>339682.13</td>\n",
              "      <td>339682.13</td>\n",
              "      <td>0.00</td>\n",
              "      <td>0.00</td>\n",
              "      <td>339682.13</td>\n",
              "    </tr>\n",
              "    <tr>\n",
              "      <th>6362616</th>\n",
              "      <td>TRANSFER</td>\n",
              "      <td>6311409.28</td>\n",
              "      <td>6311409.28</td>\n",
              "      <td>0.00</td>\n",
              "      <td>0.00</td>\n",
              "      <td>0.00</td>\n",
              "    </tr>\n",
              "    <tr>\n",
              "      <th>6362617</th>\n",
              "      <td>CASH_OUT</td>\n",
              "      <td>6311409.28</td>\n",
              "      <td>6311409.28</td>\n",
              "      <td>0.00</td>\n",
              "      <td>68488.84</td>\n",
              "      <td>6379898.11</td>\n",
              "    </tr>\n",
              "    <tr>\n",
              "      <th>6362618</th>\n",
              "      <td>TRANSFER</td>\n",
              "      <td>850002.52</td>\n",
              "      <td>850002.52</td>\n",
              "      <td>0.00</td>\n",
              "      <td>0.00</td>\n",
              "      <td>0.00</td>\n",
              "    </tr>\n",
              "    <tr>\n",
              "      <th>6362619</th>\n",
              "      <td>CASH_OUT</td>\n",
              "      <td>850002.52</td>\n",
              "      <td>850002.52</td>\n",
              "      <td>0.00</td>\n",
              "      <td>6510099.11</td>\n",
              "      <td>7360101.63</td>\n",
              "    </tr>\n",
              "  </tbody>\n",
              "</table>\n",
              "<p>6362620 rows × 6 columns</p>\n",
              "</div>\n",
              "      <button class=\"colab-df-convert\" onclick=\"convertToInteractive('df-5c2abb8a-a0a2-4fa3-a854-3cfd634f9d3d')\"\n",
              "              title=\"Convert this dataframe to an interactive table.\"\n",
              "              style=\"display:none;\">\n",
              "        \n",
              "  <svg xmlns=\"http://www.w3.org/2000/svg\" height=\"24px\"viewBox=\"0 0 24 24\"\n",
              "       width=\"24px\">\n",
              "    <path d=\"M0 0h24v24H0V0z\" fill=\"none\"/>\n",
              "    <path d=\"M18.56 5.44l.94 2.06.94-2.06 2.06-.94-2.06-.94-.94-2.06-.94 2.06-2.06.94zm-11 1L8.5 8.5l.94-2.06 2.06-.94-2.06-.94L8.5 2.5l-.94 2.06-2.06.94zm10 10l.94 2.06.94-2.06 2.06-.94-2.06-.94-.94-2.06-.94 2.06-2.06.94z\"/><path d=\"M17.41 7.96l-1.37-1.37c-.4-.4-.92-.59-1.43-.59-.52 0-1.04.2-1.43.59L10.3 9.45l-7.72 7.72c-.78.78-.78 2.05 0 2.83L4 21.41c.39.39.9.59 1.41.59.51 0 1.02-.2 1.41-.59l7.78-7.78 2.81-2.81c.8-.78.8-2.07 0-2.86zM5.41 20L4 18.59l7.72-7.72 1.47 1.35L5.41 20z\"/>\n",
              "  </svg>\n",
              "      </button>\n",
              "      \n",
              "  <style>\n",
              "    .colab-df-container {\n",
              "      display:flex;\n",
              "      flex-wrap:wrap;\n",
              "      gap: 12px;\n",
              "    }\n",
              "\n",
              "    .colab-df-convert {\n",
              "      background-color: #E8F0FE;\n",
              "      border: none;\n",
              "      border-radius: 50%;\n",
              "      cursor: pointer;\n",
              "      display: none;\n",
              "      fill: #1967D2;\n",
              "      height: 32px;\n",
              "      padding: 0 0 0 0;\n",
              "      width: 32px;\n",
              "    }\n",
              "\n",
              "    .colab-df-convert:hover {\n",
              "      background-color: #E2EBFA;\n",
              "      box-shadow: 0px 1px 2px rgba(60, 64, 67, 0.3), 0px 1px 3px 1px rgba(60, 64, 67, 0.15);\n",
              "      fill: #174EA6;\n",
              "    }\n",
              "\n",
              "    [theme=dark] .colab-df-convert {\n",
              "      background-color: #3B4455;\n",
              "      fill: #D2E3FC;\n",
              "    }\n",
              "\n",
              "    [theme=dark] .colab-df-convert:hover {\n",
              "      background-color: #434B5C;\n",
              "      box-shadow: 0px 1px 3px 1px rgba(0, 0, 0, 0.15);\n",
              "      filter: drop-shadow(0px 1px 2px rgba(0, 0, 0, 0.3));\n",
              "      fill: #FFFFFF;\n",
              "    }\n",
              "  </style>\n",
              "\n",
              "      <script>\n",
              "        const buttonEl =\n",
              "          document.querySelector('#df-5c2abb8a-a0a2-4fa3-a854-3cfd634f9d3d button.colab-df-convert');\n",
              "        buttonEl.style.display =\n",
              "          google.colab.kernel.accessAllowed ? 'block' : 'none';\n",
              "\n",
              "        async function convertToInteractive(key) {\n",
              "          const element = document.querySelector('#df-5c2abb8a-a0a2-4fa3-a854-3cfd634f9d3d');\n",
              "          const dataTable =\n",
              "            await google.colab.kernel.invokeFunction('convertToInteractive',\n",
              "                                                     [key], {});\n",
              "          if (!dataTable) return;\n",
              "\n",
              "          const docLinkHtml = 'Like what you see? Visit the ' +\n",
              "            '<a target=\"_blank\" href=https://colab.research.google.com/notebooks/data_table.ipynb>data table notebook</a>'\n",
              "            + ' to learn more about interactive tables.';\n",
              "          element.innerHTML = '';\n",
              "          dataTable['output_type'] = 'display_data';\n",
              "          await google.colab.output.renderOutput(dataTable, element);\n",
              "          const docLink = document.createElement('div');\n",
              "          docLink.innerHTML = docLinkHtml;\n",
              "          element.appendChild(docLink);\n",
              "        }\n",
              "      </script>\n",
              "    </div>\n",
              "  </div>\n",
              "  "
            ]
          },
          "metadata": {},
          "execution_count": 52
        }
      ],
      "source": [
        "# Drop 'step' and 'isFlaggedFraud'\n",
        "X_modified = df.drop(['isFraud', 'nameOrig', 'nameDest', 'step', 'isFlaggedFraud'], axis = 1)\n",
        "X_modified"
      ]
    },
    {
      "cell_type": "code",
      "execution_count": null,
      "metadata": {
        "id": "DLF0v_B3uPJe"
      },
      "outputs": [],
      "source": [
        "#numerical_feats_list_mod = X_modified.loc[:, X_modified.columns!='type'].columns.tolist()  \n",
        "preprocessing_mod = make_column_transformer((cat_transformer, ['type']),(num_transformer, ['amount', 'oldbalanceOrg', 'newbalanceOrig', 'oldbalanceDest', 'newbalanceDest']))"
      ]
    },
    {
      "cell_type": "code",
      "execution_count": null,
      "metadata": {
        "colab": {
          "base_uri": "https://localhost:8080/"
        },
        "id": "Uv7mR64hhf96",
        "outputId": "c6f17c71-6b4b-42d3-d418-3ae27bdf8d07"
      },
      "outputs": [
        {
          "output_type": "execute_result",
          "data": {
            "text/plain": [
              "{'fit_time': array([23.61812735, 24.41246033, 27.0656805 , 26.91049647, 25.79148412]),\n",
              " 'score_time': array([2.43136239, 2.35449147, 2.34606767, 2.34638286, 2.32854319]),\n",
              " 'test_f1_macro': array([0.80221352, 0.79984811, 0.80378834, 0.8071568 , 0.80455242]),\n",
              " 'train_f1_macro': array([0.80558885, 0.80355586, 0.80443756, 0.8006135 , 0.80365271]),\n",
              " 'test_accuracy': array([0.99922595, 0.99919746, 0.99921711, 0.99924265, 0.9992397 ]),\n",
              " 'train_accuracy': array([0.99922791, 0.9992311 , 0.9992311 , 0.9992149 , 0.99922128]),\n",
              " 'test_f1_micro': array([0.99922595, 0.99919746, 0.99921711, 0.99924265, 0.9992397 ]),\n",
              " 'train_f1_micro': array([0.99922791, 0.9992311 , 0.9992311 , 0.9992149 , 0.99922128]),\n",
              " 'test_recall': array([0.4613619 , 0.45373797, 0.46222887, 0.47198772, 0.46640927]),\n",
              " 'train_recall': array([0.46821793, 0.46222816, 0.46442161, 0.4563327 , 0.46357116]),\n",
              " 'test_precision': array([0.87772926, 0.88583815, 0.88793103, 0.88108883, 0.87918486]),\n",
              " 'train_precision': array([0.88141026, 0.88592322, 0.88538266, 0.88263254, 0.88186715])}"
            ]
          },
          "metadata": {},
          "execution_count": 58
        }
      ],
      "source": [
        "X_train_mod, X_test_mod, Y_train_mod, Y_test_mod = train_test_split(X_modified, Y, test_size=0.2, random_state = 42)\n",
        "LR2_pipeline = Pipeline([('transformer', preprocessing_mod), ('estimator', LogisticRegression())])\n",
        "cvfolds = KFold(n_splits=5)\n",
        "LR2_scores = cross_validate(LR2_pipeline.fit(X_train_mod, Y_train_mod), X_train_mod, Y_train_mod, cv = cvfolds, scoring=('f1_macro', 'accuracy', 'f1_micro', 'recall', 'precision'), return_train_score=True)\n",
        "LR2_scores"
      ]
    },
    {
      "cell_type": "code",
      "execution_count": null,
      "metadata": {
        "id": "_9ydcdrwXsHs"
      },
      "outputs": [],
      "source": [
        "LR2_Y_pred = LR2_pipeline.predict(X_test_mod)"
      ]
    },
    {
      "cell_type": "code",
      "execution_count": null,
      "metadata": {
        "colab": {
          "base_uri": "https://localhost:8080/",
          "height": 513
        },
        "id": "n6iewbSVYwp1",
        "outputId": "33cd23bf-366a-49f8-e6b0-842d572c4298"
      },
      "outputs": [
        {
          "output_type": "stream",
          "name": "stdout",
          "text": [
            "Precision: 0.8801 --- Recall: 0.4531\n",
            "\n",
            "\n"
          ]
        },
        {
          "output_type": "display_data",
          "data": {
            "text/plain": [
              "<Figure size 864x504 with 2 Axes>"
            ],
            "image/png": "[encoded data removed]"
          },
          "metadata": {
            "needs_background": "light"
          }
        }
      ],
      "source": [
        "plot_results(LR2_pipeline, X_test_mod, Y_test_mod, LR2_Y_pred, 'LR2')"
      ]
    },
    {
      "cell_type": "markdown",
      "metadata": {
        "id": "f-Sn4E3DKf6K"
      },
      "source": [
        "**LR2 Model performace has slightly lower performance comparing to LR1 model which indicates that 'step'and 'isFlaggedFraud' are redundant**"
      ]
    },
    {
      "cell_type": "markdown",
      "metadata": {
        "id": "1lJIsV0o9yBA"
      },
      "source": [
        "# **Logistic Regression with Feature Engineering**"
      ]
    },
    {
      "cell_type": "markdown",
      "metadata": {
        "id": "hPlWFtQZKc-s"
      },
      "source": [
        "**LR Model 3: Creating new features - through feature engineering, which may enhance Logistic Regression performance. One feature is generated by subtracting \"newbalanceOrig\" from \"oldbalanceOrg\". Another feature is created by subtracting \"newbalanceDest\" from \"oldbalanceDest\".**"
      ]
    },
    {
      "cell_type": "code",
      "execution_count": null,
      "metadata": {
        "id": "AKVTSLMSMMgz"
      },
      "outputs": [],
      "source": [
        "# Create new feature\n",
        "X_new = X.copy(deep = True)\n",
        "X_new['balanceOrigDiff'] = X_new['oldbalanceOrg'] - X_new['newbalanceOrig']\n",
        "X_new['balanceDestDiff'] = X_new['oldbalanceDest'] - X_new['newbalanceDest']\n",
        "X_new = X_new.drop(['oldbalanceOrg', 'newbalanceOrig'], axis=1)\n",
        "X_new = X_new.drop(['oldbalanceDest', 'newbalanceDest'], axis=1)"
      ]
    },
    {
      "cell_type": "code",
      "execution_count": null,
      "metadata": {
        "colab": {
          "base_uri": "https://localhost:8080/",
          "height": 206
        },
        "id": "-i8sOmpLSHsU",
        "outputId": "315a879c-274e-4c37-ed86-82066376d802"
      },
      "outputs": [
        {
          "data": {
            "text/html": [
              "\n",
              "  <div id=\"df-0a28eaf3-f4ba-4c3f-b094-5eb052f73496\">\n",
              "    <div class=\"colab-df-container\">\n",
              "      <div>\n",
              "<style scoped>\n",
              "    .dataframe tbody tr th:only-of-type {\n",
              "        vertical-align: middle;\n",
              "    }\n",
              "\n",
              "    .dataframe tbody tr th {\n",
              "        vertical-align: top;\n",
              "    }\n",
              "\n",
              "    .dataframe thead th {\n",
              "        text-align: right;\n",
              "    }\n",
              "</style>\n",
              "<table border=\"1\" class=\"dataframe\">\n",
              "  <thead>\n",
              "    <tr style=\"text-align: right;\">\n",
              "      <th></th>\n",
              "      <th>step</th>\n",
              "      <th>type</th>\n",
              "      <th>amount</th>\n",
              "      <th>isFlaggedFraud</th>\n",
              "      <th>balanceOrigDiff</th>\n",
              "      <th>balanceDestDiff</th>\n",
              "    </tr>\n",
              "  </thead>\n",
              "  <tbody>\n",
              "    <tr>\n",
              "      <th>0</th>\n",
              "      <td>1</td>\n",
              "      <td>PAYMENT</td>\n",
              "      <td>9839.64</td>\n",
              "      <td>0</td>\n",
              "      <td>9839.64</td>\n",
              "      <td>0.0</td>\n",
              "    </tr>\n",
              "    <tr>\n",
              "      <th>1</th>\n",
              "      <td>1</td>\n",
              "      <td>PAYMENT</td>\n",
              "      <td>1864.28</td>\n",
              "      <td>0</td>\n",
              "      <td>1864.28</td>\n",
              "      <td>0.0</td>\n",
              "    </tr>\n",
              "    <tr>\n",
              "      <th>2</th>\n",
              "      <td>1</td>\n",
              "      <td>TRANSFER</td>\n",
              "      <td>181.00</td>\n",
              "      <td>0</td>\n",
              "      <td>181.00</td>\n",
              "      <td>0.0</td>\n",
              "    </tr>\n",
              "    <tr>\n",
              "      <th>3</th>\n",
              "      <td>1</td>\n",
              "      <td>CASH_OUT</td>\n",
              "      <td>181.00</td>\n",
              "      <td>0</td>\n",
              "      <td>181.00</td>\n",
              "      <td>21182.0</td>\n",
              "    </tr>\n",
              "    <tr>\n",
              "      <th>4</th>\n",
              "      <td>1</td>\n",
              "      <td>PAYMENT</td>\n",
              "      <td>11668.14</td>\n",
              "      <td>0</td>\n",
              "      <td>11668.14</td>\n",
              "      <td>0.0</td>\n",
              "    </tr>\n",
              "  </tbody>\n",
              "</table>\n",
              "</div>\n",
              "      <button class=\"colab-df-convert\" onclick=\"convertToInteractive('df-0a28eaf3-f4ba-4c3f-b094-5eb052f73496')\"\n",
              "              title=\"Convert this dataframe to an interactive table.\"\n",
              "              style=\"display:none;\">\n",
              "        \n",
              "  <svg xmlns=\"http://www.w3.org/2000/svg\" height=\"24px\"viewBox=\"0 0 24 24\"\n",
              "       width=\"24px\">\n",
              "    <path d=\"M0 0h24v24H0V0z\" fill=\"none\"/>\n",
              "    <path d=\"M18.56 5.44l.94 2.06.94-2.06 2.06-.94-2.06-.94-.94-2.06-.94 2.06-2.06.94zm-11 1L8.5 8.5l.94-2.06 2.06-.94-2.06-.94L8.5 2.5l-.94 2.06-2.06.94zm10 10l.94 2.06.94-2.06 2.06-.94-2.06-.94-.94-2.06-.94 2.06-2.06.94z\"/><path d=\"M17.41 7.96l-1.37-1.37c-.4-.4-.92-.59-1.43-.59-.52 0-1.04.2-1.43.59L10.3 9.45l-7.72 7.72c-.78.78-.78 2.05 0 2.83L4 21.41c.39.39.9.59 1.41.59.51 0 1.02-.2 1.41-.59l7.78-7.78 2.81-2.81c.8-.78.8-2.07 0-2.86zM5.41 20L4 18.59l7.72-7.72 1.47 1.35L5.41 20z\"/>\n",
              "  </svg>\n",
              "      </button>\n",
              "      \n",
              "  <style>\n",
              "    .colab-df-container {\n",
              "      display:flex;\n",
              "      flex-wrap:wrap;\n",
              "      gap: 12px;\n",
              "    }\n",
              "\n",
              "    .colab-df-convert {\n",
              "      background-color: #E8F0FE;\n",
              "      border: none;\n",
              "      border-radius: 50%;\n",
              "      cursor: pointer;\n",
              "      display: none;\n",
              "      fill: #1967D2;\n",
              "      height: 32px;\n",
              "      padding: 0 0 0 0;\n",
              "      width: 32px;\n",
              "    }\n",
              "\n",
              "    .colab-df-convert:hover {\n",
              "      background-color: #E2EBFA;\n",
              "      box-shadow: 0px 1px 2px rgba(60, 64, 67, 0.3), 0px 1px 3px 1px rgba(60, 64, 67, 0.15);\n",
              "      fill: #174EA6;\n",
              "    }\n",
              "\n",
              "    [theme=dark] .colab-df-convert {\n",
              "      background-color: #3B4455;\n",
              "      fill: #D2E3FC;\n",
              "    }\n",
              "\n",
              "    [theme=dark] .colab-df-convert:hover {\n",
              "      background-color: #434B5C;\n",
              "      box-shadow: 0px 1px 3px 1px rgba(0, 0, 0, 0.15);\n",
              "      filter: drop-shadow(0px 1px 2px rgba(0, 0, 0, 0.3));\n",
              "      fill: #FFFFFF;\n",
              "    }\n",
              "  </style>\n",
              "\n",
              "      <script>\n",
              "        const buttonEl =\n",
              "          document.querySelector('#df-0a28eaf3-f4ba-4c3f-b094-5eb052f73496 button.colab-df-convert');\n",
              "        buttonEl.style.display =\n",
              "          google.colab.kernel.accessAllowed ? 'block' : 'none';\n",
              "\n",
              "        async function convertToInteractive(key) {\n",
              "          const element = document.querySelector('#df-0a28eaf3-f4ba-4c3f-b094-5eb052f73496');\n",
              "          const dataTable =\n",
              "            await google.colab.kernel.invokeFunction('convertToInteractive',\n",
              "                                                     [key], {});\n",
              "          if (!dataTable) return;\n",
              "\n",
              "          const docLinkHtml = 'Like what you see? Visit the ' +\n",
              "            '<a target=\"_blank\" href=https://colab.research.google.com/notebooks/data_table.ipynb>data table notebook</a>'\n",
              "            + ' to learn more about interactive tables.';\n",
              "          element.innerHTML = '';\n",
              "          dataTable['output_type'] = 'display_data';\n",
              "          await google.colab.output.renderOutput(dataTable, element);\n",
              "          const docLink = document.createElement('div');\n",
              "          docLink.innerHTML = docLinkHtml;\n",
              "          element.appendChild(docLink);\n",
              "        }\n",
              "      </script>\n",
              "    </div>\n",
              "  </div>\n",
              "  "
            ],
            "text/plain": [
              "   step      type    amount  isFlaggedFraud  balanceOrigDiff  balanceDestDiff\n",
              "0     1   PAYMENT   9839.64               0          9839.64              0.0\n",
              "1     1   PAYMENT   1864.28               0          1864.28              0.0\n",
              "2     1  TRANSFER    181.00               0           181.00              0.0\n",
              "3     1  CASH_OUT    181.00               0           181.00          21182.0\n",
              "4     1   PAYMENT  11668.14               0         11668.14              0.0"
            ]
          },
          "execution_count": 132,
          "metadata": {},
          "output_type": "execute_result"
        }
      ],
      "source": [
        "X_new.head()"
      ]
    },
    {
      "cell_type": "code",
      "execution_count": null,
      "metadata": {
        "id": "mT-93KTa2XJA"
      },
      "outputs": [],
      "source": [
        "numerical_feats_list_mod = X_new.loc[:, X_new.columns!='type'].columns.tolist()  \n",
        "preprocessing_mod = make_column_transformer((cat_transformer, ['type']),(num_transformer, numerical_feats_list_mod))"
      ]
    },
    {
      "cell_type": "code",
      "execution_count": null,
      "metadata": {
        "colab": {
          "base_uri": "https://localhost:8080/"
        },
        "id": "yyN0fdIzUBrT",
        "outputId": "41bde48b-e5d1-4c5d-e1cd-508e10d979ef"
      },
      "outputs": [
        {
          "data": {
            "text/plain": [
              "{'fit_time': array([32.3980186 , 41.03952956, 43.14111185, 40.10888243, 32.73104024]),\n",
              " 'score_time': array([2.38977075, 2.26445913, 2.25962853, 2.2443459 , 2.25972557]),\n",
              " 'test_f1_macro': array([0.80526719, 0.80531896, 0.80280359, 0.80908612, 0.80455242]),\n",
              " 'train_f1_macro': array([0.80641517, 0.80484244, 0.80660714, 0.80328382, 0.80512845]),\n",
              " 'test_accuracy': array([0.99923675, 0.99921711, 0.99921318, 0.99925247, 0.9992397 ]),\n",
              " 'train_accuracy': array([0.99923233, 0.99923528, 0.99924191, 0.999223  , 0.99922742]),\n",
              " 'test_f1_micro': array([0.99923675, 0.99921711, 0.99921318, 0.99925247, 0.9992397 ]),\n",
              " 'train_f1_micro': array([0.99923233, 0.99923528, 0.99924191, 0.999223  , 0.99922742]),\n",
              " 'test_recall': array([0.46671767, 0.46336047, 0.46073298, 0.47352264, 0.46640927]),\n",
              " 'train_recall': array([0.46878547, 0.46470813, 0.4663242 , 0.46181474, 0.46564741]),\n",
              " 'test_precision': array([0.88405797, 0.89684814, 0.88505747, 0.8916185 , 0.87918486]),\n",
              " 'train_precision': array([0.88626609, 0.8877551 , 0.89681668, 0.88514493, 0.88677211])}"
            ]
          },
          "execution_count": 138,
          "metadata": {},
          "output_type": "execute_result"
        }
      ],
      "source": [
        "X_train_new, X_test_new, Y_train_new, Y_test_new = train_test_split(X_new, Y, test_size=0.2, random_state = 42)\n",
        "numerical_feats_list_mod = X_modified.loc[:, X_modified.columns!='type'].columns.tolist()\n",
        "LR3_pipeline = Pipeline([('transformer', preprocessing_mod), ('estimator', LogisticRegression())])\n",
        "LR3_scores = cross_validate(LR3_pipeline.fit(X_train_new, Y_train_new), X_train_new, Y_train_new, cv = cvfolds, scoring=('f1_macro', 'accuracy', 'f1_micro', 'recall', 'precision'), return_train_score=True)\n",
        "LR3_scores"
      ]
    },
    {
      "cell_type": "code",
      "execution_count": null,
      "metadata": {
        "id": "hmZXd8U9ZWUd"
      },
      "outputs": [],
      "source": [
        "LR3_Y_pred = LR3_pipeline.predict(X_test_new)"
      ]
    },
    {
      "cell_type": "code",
      "execution_count": null,
      "metadata": {
        "colab": {
          "base_uri": "https://localhost:8080/",
          "height": 513
        },
        "id": "hi-Yxk_RZl9h",
        "outputId": "e9fd88b3-17d4-4d3b-eb35-408618f82366"
      },
      "outputs": [
        {
          "name": "stdout",
          "output_type": "stream",
          "text": [
            "Precision: 0.8930 --- Recall: 0.4586\n",
            "\n",
            "\n"
          ]
        },
        {
          "data": {
            "image/png": "[encoded data removed]",
            "text/plain": [
              "<Figure size 864x504 with 2 Axes>"
            ]
          },
          "metadata": {},
          "output_type": "display_data"
        }
      ],
      "source": [
        "plot_results(LR3_pipeline, X_test_new, Y_test_new, LR3_Y_pred, 'LR3')"
      ]
    },
    {
      "cell_type": "markdown",
      "source": [
        "#**Lasso Linear Regression Model**"
      ],
      "metadata": {
        "id": "DZHbnouSUO3L"
      }
    },
    {
      "cell_type": "code",
      "source": [
        "from sklearn.linear_model import Lasso\n",
        "from sklearn.model_selection import GridSearchCV\n",
        "\n",
        "Lasoo_pipeline = Pipeline([('transformer', preprocessing), ('estimator', Lasso())])\n",
        "search = GridSearchCV(Lasoo_pipeline,\n",
        "                      {'estimator__alpha':np.arange(0.1,10,0.1)},\n",
        "                      cv = 5,\n",
        "                      scoring=\"neg_mean_squared_error\",\n",
        "                      verbose=3\n",
        "                     )"
      ],
      "metadata": {
        "id": "4wFA9ImsNPkQ"
      },
      "execution_count": null,
      "outputs": []
    },
    {
      "cell_type": "code",
      "source": [
        "search.fit(X_train,Y_train)"
      ],
      "metadata": {
        "colab": {
          "base_uri": "https://localhost:8080/"
        },
        "id": "pxm9V1wTXaEb",
        "outputId": "2f6f273f-89b3-4696-cf8e-bbf5ab63b7e4"
      },
      "execution_count": null,
      "outputs": [
        {
          "output_type": "stream",
          "name": "stdout",
          "text": [
            "Fitting 5 folds for each of 99 candidates, totalling 495 fits\n",
            "[CV 1/5] END .............estimator__alpha=0.1;, score=-0.001 total time=   4.5s\n",
            "[CV 2/5] END .............estimator__alpha=0.1;, score=-0.001 total time=   3.6s\n",
            "[CV 3/5] END .............estimator__alpha=0.1;, score=-0.001 total time=   3.5s\n",
            "[CV 4/5] END .............estimator__alpha=0.1;, score=-0.001 total time=   3.5s\n",
            "[CV 5/5] END .............estimator__alpha=0.1;, score=-0.001 total time=   3.6s\n",
            "[CV 1/5] END .............estimator__alpha=0.2;, score=-0.001 total time=   3.6s\n",
            "[CV 2/5] END .............estimator__alpha=0.2;, score=-0.001 total time=   3.7s\n",
            "[CV 3/5] END .............estimator__alpha=0.2;, score=-0.001 total time=   3.7s\n",
            "[CV 4/5] END .............estimator__alpha=0.2;, score=-0.001 total time=   3.6s\n",
            "[CV 5/5] END .............estimator__alpha=0.2;, score=-0.001 total time=   3.7s\n",
            "[CV 1/5] END estimator__alpha=0.30000000000000004;, score=-0.001 total time=   3.7s\n",
            "[CV 2/5] END estimator__alpha=0.30000000000000004;, score=-0.001 total time=   3.6s\n",
            "[CV 3/5] END estimator__alpha=0.30000000000000004;, score=-0.001 total time=   3.8s\n",
            "[CV 4/5] END estimator__alpha=0.30000000000000004;, score=-0.001 total time=   5.5s\n",
            "[CV 5/5] END estimator__alpha=0.30000000000000004;, score=-0.001 total time=   4.7s\n",
            "[CV 1/5] END .............estimator__alpha=0.4;, score=-0.001 total time=   3.7s\n",
            "[CV 2/5] END .............estimator__alpha=0.4;, score=-0.001 total time=   3.8s\n",
            "[CV 3/5] END .............estimator__alpha=0.4;, score=-0.001 total time=   3.7s\n",
            "[CV 4/5] END .............estimator__alpha=0.4;, score=-0.001 total time=   3.6s\n",
            "[CV 5/5] END .............estimator__alpha=0.4;, score=-0.001 total time=   3.7s\n",
            "[CV 1/5] END .............estimator__alpha=0.5;, score=-0.001 total time=   3.7s\n",
            "[CV 2/5] END .............estimator__alpha=0.5;, score=-0.001 total time=   3.6s\n",
            "[CV 3/5] END .............estimator__alpha=0.5;, score=-0.001 total time=   3.7s\n",
            "[CV 4/5] END .............estimator__alpha=0.5;, score=-0.001 total time=   3.6s\n",
            "[CV 5/5] END .............estimator__alpha=0.5;, score=-0.001 total time=   3.6s\n",
            "[CV 1/5] END .............estimator__alpha=0.6;, score=-0.001 total time=   3.7s\n",
            "[CV 2/5] END .............estimator__alpha=0.6;, score=-0.001 total time=   3.7s\n",
            "[CV 3/5] END .............estimator__alpha=0.6;, score=-0.001 total time=   4.9s\n",
            "[CV 4/5] END .............estimator__alpha=0.6;, score=-0.001 total time=   3.6s\n",
            "[CV 5/5] END .............estimator__alpha=0.6;, score=-0.001 total time=   3.7s\n",
            "[CV 1/5] END estimator__alpha=0.7000000000000001;, score=-0.001 total time=   3.7s\n",
            "[CV 2/5] END estimator__alpha=0.7000000000000001;, score=-0.001 total time=   3.7s\n",
            "[CV 3/5] END estimator__alpha=0.7000000000000001;, score=-0.001 total time=   3.7s\n",
            "[CV 4/5] END estimator__alpha=0.7000000000000001;, score=-0.001 total time=   3.7s\n",
            "[CV 5/5] END estimator__alpha=0.7000000000000001;, score=-0.001 total time=   3.7s\n",
            "[CV 1/5] END .............estimator__alpha=0.8;, score=-0.001 total time=   3.7s\n",
            "[CV 2/5] END .............estimator__alpha=0.8;, score=-0.001 total time=   3.6s\n",
            "[CV 3/5] END .............estimator__alpha=0.8;, score=-0.001 total time=   3.6s\n",
            "[CV 4/5] END .............estimator__alpha=0.8;, score=-0.001 total time=   3.6s\n",
            "[CV 5/5] END .............estimator__alpha=0.8;, score=-0.001 total time=   3.7s\n",
            "[CV 1/5] END .............estimator__alpha=0.9;, score=-0.001 total time=   3.6s\n",
            "[CV 2/5] END .............estimator__alpha=0.9;, score=-0.001 total time=   3.7s\n",
            "[CV 3/5] END .............estimator__alpha=0.9;, score=-0.001 total time=   5.0s\n",
            "[CV 4/5] END .............estimator__alpha=0.9;, score=-0.001 total time=   3.6s\n",
            "[CV 5/5] END .............estimator__alpha=0.9;, score=-0.001 total time=   3.7s\n",
            "[CV 1/5] END .............estimator__alpha=1.0;, score=-0.001 total time=   3.6s\n",
            "[CV 2/5] END .............estimator__alpha=1.0;, score=-0.001 total time=   3.7s\n",
            "[CV 3/5] END .............estimator__alpha=1.0;, score=-0.001 total time=   3.7s\n",
            "[CV 4/5] END .............estimator__alpha=1.0;, score=-0.001 total time=   3.6s\n",
            "[CV 5/5] END .............estimator__alpha=1.0;, score=-0.001 total time=   3.7s\n",
            "[CV 1/5] END .............estimator__alpha=1.1;, score=-0.001 total time=   3.6s\n",
            "[CV 2/5] END .............estimator__alpha=1.1;, score=-0.001 total time=   3.7s\n",
            "[CV 3/5] END .............estimator__alpha=1.1;, score=-0.001 total time=   3.7s\n",
            "[CV 4/5] END .............estimator__alpha=1.1;, score=-0.001 total time=   3.6s\n",
            "[CV 5/5] END .............estimator__alpha=1.1;, score=-0.001 total time=   3.7s\n",
            "[CV 1/5] END estimator__alpha=1.2000000000000002;, score=-0.001 total time=   3.7s\n",
            "[CV 2/5] END estimator__alpha=1.2000000000000002;, score=-0.001 total time=   3.6s\n",
            "[CV 3/5] END estimator__alpha=1.2000000000000002;, score=-0.001 total time=   4.8s\n",
            "[CV 4/5] END estimator__alpha=1.2000000000000002;, score=-0.001 total time=   3.7s\n",
            "[CV 5/5] END estimator__alpha=1.2000000000000002;, score=-0.001 total time=   3.7s\n",
            "[CV 1/5] END estimator__alpha=1.3000000000000003;, score=-0.001 total time=   3.7s\n",
            "[CV 2/5] END estimator__alpha=1.3000000000000003;, score=-0.001 total time=   3.6s\n",
            "[CV 3/5] END estimator__alpha=1.3000000000000003;, score=-0.001 total time=   3.7s\n",
            "[CV 4/5] END estimator__alpha=1.3000000000000003;, score=-0.001 total time=   3.6s\n",
            "[CV 5/5] END estimator__alpha=1.3000000000000003;, score=-0.001 total time=   3.7s\n",
            "[CV 1/5] END estimator__alpha=1.4000000000000001;, score=-0.001 total time=   3.7s\n",
            "[CV 2/5] END estimator__alpha=1.4000000000000001;, score=-0.001 total time=   3.7s\n",
            "[CV 3/5] END estimator__alpha=1.4000000000000001;, score=-0.001 total time=   3.7s\n",
            "[CV 4/5] END estimator__alpha=1.4000000000000001;, score=-0.001 total time=   3.6s\n",
            "[CV 5/5] END estimator__alpha=1.4000000000000001;, score=-0.001 total time=   4.0s\n",
            "[CV 1/5] END estimator__alpha=1.5000000000000002;, score=-0.001 total time=   3.7s\n",
            "[CV 2/5] END estimator__alpha=1.5000000000000002;, score=-0.001 total time=   4.3s\n",
            "[CV 3/5] END estimator__alpha=1.5000000000000002;, score=-0.001 total time=   6.0s\n",
            "[CV 4/5] END estimator__alpha=1.5000000000000002;, score=-0.001 total time=   3.6s\n",
            "[CV 5/5] END estimator__alpha=1.5000000000000002;, score=-0.001 total time=   3.7s\n",
            "[CV 1/5] END .............estimator__alpha=1.6;, score=-0.001 total time=   3.7s\n",
            "[CV 2/5] END .............estimator__alpha=1.6;, score=-0.001 total time=   3.6s\n",
            "[CV 3/5] END .............estimator__alpha=1.6;, score=-0.001 total time=   3.7s\n",
            "[CV 4/5] END .............estimator__alpha=1.6;, score=-0.001 total time=   3.7s\n",
            "[CV 5/5] END .............estimator__alpha=1.6;, score=-0.001 total time=   3.7s\n",
            "[CV 1/5] END estimator__alpha=1.7000000000000002;, score=-0.001 total time=   3.7s\n",
            "[CV 2/5] END estimator__alpha=1.7000000000000002;, score=-0.001 total time=   3.7s\n",
            "[CV 3/5] END estimator__alpha=1.7000000000000002;, score=-0.001 total time=   3.7s\n",
            "[CV 4/5] END estimator__alpha=1.7000000000000002;, score=-0.001 total time=   3.7s\n",
            "[CV 5/5] END estimator__alpha=1.7000000000000002;, score=-0.001 total time=   3.7s\n",
            "[CV 1/5] END estimator__alpha=1.8000000000000003;, score=-0.001 total time=   3.7s\n",
            "[CV 2/5] END estimator__alpha=1.8000000000000003;, score=-0.001 total time=   5.0s\n",
            "[CV 3/5] END estimator__alpha=1.8000000000000003;, score=-0.001 total time=   3.7s\n",
            "[CV 4/5] END estimator__alpha=1.8000000000000003;, score=-0.001 total time=   3.6s\n",
            "[CV 5/5] END estimator__alpha=1.8000000000000003;, score=-0.001 total time=   3.7s\n",
            "[CV 1/5] END estimator__alpha=1.9000000000000001;, score=-0.001 total time=   3.7s\n",
            "[CV 2/5] END estimator__alpha=1.9000000000000001;, score=-0.001 total time=   3.7s\n",
            "[CV 3/5] END estimator__alpha=1.9000000000000001;, score=-0.001 total time=   3.7s\n",
            "[CV 4/5] END estimator__alpha=1.9000000000000001;, score=-0.001 total time=   3.7s\n",
            "[CV 5/5] END estimator__alpha=1.9000000000000001;, score=-0.001 total time=   3.7s\n",
            "[CV 1/5] END .............estimator__alpha=2.0;, score=-0.001 total time=   3.6s\n",
            "[CV 2/5] END .............estimator__alpha=2.0;, score=-0.001 total time=   3.7s\n",
            "[CV 3/5] END .............estimator__alpha=2.0;, score=-0.001 total time=   3.7s\n",
            "[CV 4/5] END .............estimator__alpha=2.0;, score=-0.001 total time=   3.6s\n",
            "[CV 5/5] END .............estimator__alpha=2.0;, score=-0.001 total time=   3.7s\n",
            "[CV 1/5] END .............estimator__alpha=2.1;, score=-0.001 total time=   4.3s\n",
            "[CV 2/5] END .............estimator__alpha=2.1;, score=-0.001 total time=   4.1s\n",
            "[CV 3/5] END .............estimator__alpha=2.1;, score=-0.001 total time=   3.7s\n",
            "[CV 4/5] END .............estimator__alpha=2.1;, score=-0.001 total time=   3.6s\n",
            "[CV 5/5] END .............estimator__alpha=2.1;, score=-0.001 total time=   3.7s\n",
            "[CV 1/5] END .............estimator__alpha=2.2;, score=-0.001 total time=   3.6s\n",
            "[CV 2/5] END .............estimator__alpha=2.2;, score=-0.001 total time=   3.6s\n",
            "[CV 3/5] END .............estimator__alpha=2.2;, score=-0.001 total time=   3.7s\n",
            "[CV 4/5] END .............estimator__alpha=2.2;, score=-0.001 total time=   3.6s\n",
            "[CV 5/5] END .............estimator__alpha=2.2;, score=-0.001 total time=   3.6s\n",
            "[CV 1/5] END estimator__alpha=2.3000000000000003;, score=-0.001 total time=   3.7s\n",
            "[CV 2/5] END estimator__alpha=2.3000000000000003;, score=-0.001 total time=   3.7s\n",
            "[CV 3/5] END estimator__alpha=2.3000000000000003;, score=-0.001 total time=   3.7s\n",
            "[CV 4/5] END estimator__alpha=2.3000000000000003;, score=-0.001 total time=   3.6s\n",
            "[CV 5/5] END estimator__alpha=2.3000000000000003;, score=-0.001 total time=   3.7s\n",
            "[CV 1/5] END estimator__alpha=2.4000000000000004;, score=-0.001 total time=   5.1s\n",
            "[CV 2/5] END estimator__alpha=2.4000000000000004;, score=-0.001 total time=   3.6s\n",
            "[CV 3/5] END estimator__alpha=2.4000000000000004;, score=-0.001 total time=   3.7s\n",
            "[CV 4/5] END estimator__alpha=2.4000000000000004;, score=-0.001 total time=   3.7s\n",
            "[CV 5/5] END estimator__alpha=2.4000000000000004;, score=-0.001 total time=   3.6s\n",
            "[CV 1/5] END estimator__alpha=2.5000000000000004;, score=-0.001 total time=   3.7s\n",
            "[CV 2/5] END estimator__alpha=2.5000000000000004;, score=-0.001 total time=   3.6s\n",
            "[CV 3/5] END estimator__alpha=2.5000000000000004;, score=-0.001 total time=   3.7s\n",
            "[CV 4/5] END estimator__alpha=2.5000000000000004;, score=-0.001 total time=   3.7s\n",
            "[CV 5/5] END estimator__alpha=2.5000000000000004;, score=-0.001 total time=   3.6s\n",
            "[CV 1/5] END .............estimator__alpha=2.6;, score=-0.001 total time=   3.7s\n",
            "[CV 2/5] END .............estimator__alpha=2.6;, score=-0.001 total time=   3.7s\n",
            "[CV 3/5] END .............estimator__alpha=2.6;, score=-0.001 total time=   3.7s\n",
            "[CV 4/5] END .............estimator__alpha=2.6;, score=-0.001 total time=   3.6s\n",
            "[CV 5/5] END .............estimator__alpha=2.6;, score=-0.001 total time=   5.4s\n",
            "[CV 1/5] END .............estimator__alpha=2.7;, score=-0.001 total time=   4.9s\n",
            "[CV 2/5] END .............estimator__alpha=2.7;, score=-0.001 total time=   3.7s\n",
            "[CV 3/5] END .............estimator__alpha=2.7;, score=-0.001 total time=   3.7s\n",
            "[CV 4/5] END .............estimator__alpha=2.7;, score=-0.001 total time=   3.7s\n",
            "[CV 5/5] END .............estimator__alpha=2.7;, score=-0.001 total time=   3.6s\n",
            "[CV 1/5] END estimator__alpha=2.8000000000000003;, score=-0.001 total time=   3.6s\n",
            "[CV 2/5] END estimator__alpha=2.8000000000000003;, score=-0.001 total time=   3.6s\n",
            "[CV 3/5] END estimator__alpha=2.8000000000000003;, score=-0.001 total time=   3.7s\n",
            "[CV 4/5] END estimator__alpha=2.8000000000000003;, score=-0.001 total time=   3.6s\n",
            "[CV 5/5] END estimator__alpha=2.8000000000000003;, score=-0.001 total time=   3.7s\n",
            "[CV 1/5] END estimator__alpha=2.9000000000000004;, score=-0.001 total time=   3.6s\n",
            "[CV 2/5] END estimator__alpha=2.9000000000000004;, score=-0.001 total time=   3.7s\n",
            "[CV 3/5] END estimator__alpha=2.9000000000000004;, score=-0.001 total time=   3.7s\n",
            "[CV 4/5] END estimator__alpha=2.9000000000000004;, score=-0.001 total time=   3.7s\n",
            "[CV 5/5] END estimator__alpha=2.9000000000000004;, score=-0.001 total time=   5.0s\n",
            "[CV 1/5] END estimator__alpha=3.0000000000000004;, score=-0.001 total time=   3.7s\n",
            "[CV 2/5] END estimator__alpha=3.0000000000000004;, score=-0.001 total time=   3.6s\n",
            "[CV 3/5] END estimator__alpha=3.0000000000000004;, score=-0.001 total time=   3.7s\n",
            "[CV 4/5] END estimator__alpha=3.0000000000000004;, score=-0.001 total time=   3.6s\n",
            "[CV 5/5] END estimator__alpha=3.0000000000000004;, score=-0.001 total time=   3.7s\n",
            "[CV 1/5] END .............estimator__alpha=3.1;, score=-0.001 total time=   3.6s\n",
            "[CV 2/5] END .............estimator__alpha=3.1;, score=-0.001 total time=   3.6s\n",
            "[CV 3/5] END .............estimator__alpha=3.1;, score=-0.001 total time=   3.6s\n",
            "[CV 4/5] END .............estimator__alpha=3.1;, score=-0.001 total time=   3.6s\n",
            "[CV 5/5] END .............estimator__alpha=3.1;, score=-0.001 total time=   3.7s\n",
            "[CV 1/5] END .............estimator__alpha=3.2;, score=-0.001 total time=   3.6s\n",
            "[CV 2/5] END .............estimator__alpha=3.2;, score=-0.001 total time=   3.6s\n",
            "[CV 3/5] END .............estimator__alpha=3.2;, score=-0.001 total time=   3.7s\n",
            "[CV 4/5] END .............estimator__alpha=3.2;, score=-0.001 total time=   4.1s\n",
            "[CV 5/5] END .............estimator__alpha=3.2;, score=-0.001 total time=   4.6s\n",
            "[CV 1/5] END estimator__alpha=3.3000000000000003;, score=-0.001 total time=   3.6s\n",
            "[CV 2/5] END estimator__alpha=3.3000000000000003;, score=-0.001 total time=   3.7s\n",
            "[CV 3/5] END estimator__alpha=3.3000000000000003;, score=-0.001 total time=   3.7s\n",
            "[CV 4/5] END estimator__alpha=3.3000000000000003;, score=-0.001 total time=   3.6s\n",
            "[CV 5/5] END estimator__alpha=3.3000000000000003;, score=-0.001 total time=   3.6s\n",
            "[CV 1/5] END estimator__alpha=3.4000000000000004;, score=-0.001 total time=   3.7s\n",
            "[CV 2/5] END estimator__alpha=3.4000000000000004;, score=-0.001 total time=   3.6s\n",
            "[CV 3/5] END estimator__alpha=3.4000000000000004;, score=-0.001 total time=   3.7s\n",
            "[CV 4/5] END estimator__alpha=3.4000000000000004;, score=-0.001 total time=   3.6s\n",
            "[CV 5/5] END estimator__alpha=3.4000000000000004;, score=-0.001 total time=   3.6s\n",
            "[CV 1/5] END estimator__alpha=3.5000000000000004;, score=-0.001 total time=   3.7s\n",
            "[CV 2/5] END estimator__alpha=3.5000000000000004;, score=-0.001 total time=   3.6s\n",
            "[CV 3/5] END estimator__alpha=3.5000000000000004;, score=-0.001 total time=   4.0s\n",
            "[CV 4/5] END estimator__alpha=3.5000000000000004;, score=-0.001 total time=   4.8s\n",
            "[CV 5/5] END estimator__alpha=3.5000000000000004;, score=-0.001 total time=   3.7s\n",
            "[CV 1/5] END .............estimator__alpha=3.6;, score=-0.001 total time=   3.7s\n",
            "[CV 2/5] END .............estimator__alpha=3.6;, score=-0.001 total time=   3.7s\n",
            "[CV 3/5] END .............estimator__alpha=3.6;, score=-0.001 total time=   3.7s\n",
            "[CV 4/5] END .............estimator__alpha=3.6;, score=-0.001 total time=   3.7s\n",
            "[CV 5/5] END .............estimator__alpha=3.6;, score=-0.001 total time=   3.7s\n",
            "[CV 1/5] END .............estimator__alpha=3.7;, score=-0.001 total time=   3.7s\n",
            "[CV 2/5] END .............estimator__alpha=3.7;, score=-0.001 total time=   3.6s\n",
            "[CV 3/5] END .............estimator__alpha=3.7;, score=-0.001 total time=   3.7s\n",
            "[CV 4/5] END .............estimator__alpha=3.7;, score=-0.001 total time=   3.6s\n",
            "[CV 5/5] END .............estimator__alpha=3.7;, score=-0.001 total time=   3.7s\n",
            "[CV 1/5] END estimator__alpha=3.8000000000000003;, score=-0.001 total time=   3.6s\n",
            "[CV 2/5] END estimator__alpha=3.8000000000000003;, score=-0.001 total time=   4.1s\n",
            "[CV 3/5] END estimator__alpha=3.8000000000000003;, score=-0.001 total time=   5.7s\n",
            "[CV 4/5] END estimator__alpha=3.8000000000000003;, score=-0.001 total time=   3.9s\n",
            "[CV 5/5] END estimator__alpha=3.8000000000000003;, score=-0.001 total time=   3.6s\n",
            "[CV 1/5] END estimator__alpha=3.9000000000000004;, score=-0.001 total time=   3.7s\n",
            "[CV 2/5] END estimator__alpha=3.9000000000000004;, score=-0.001 total time=   3.7s\n",
            "[CV 3/5] END estimator__alpha=3.9000000000000004;, score=-0.001 total time=   3.7s\n",
            "[CV 4/5] END estimator__alpha=3.9000000000000004;, score=-0.001 total time=   3.7s\n",
            "[CV 5/5] END estimator__alpha=3.9000000000000004;, score=-0.001 total time=   3.7s\n",
            "[CV 1/5] END .............estimator__alpha=4.0;, score=-0.001 total time=   3.7s\n",
            "[CV 2/5] END .............estimator__alpha=4.0;, score=-0.001 total time=   3.7s\n",
            "[CV 3/5] END .............estimator__alpha=4.0;, score=-0.001 total time=   3.7s\n",
            "[CV 4/5] END .............estimator__alpha=4.0;, score=-0.001 total time=   3.6s\n",
            "[CV 5/5] END .............estimator__alpha=4.0;, score=-0.001 total time=   3.7s\n",
            "[CV 1/5] END .............estimator__alpha=4.1;, score=-0.001 total time=   3.7s\n",
            "[CV 2/5] END .............estimator__alpha=4.1;, score=-0.001 total time=   5.1s\n",
            "[CV 3/5] END .............estimator__alpha=4.1;, score=-0.001 total time=   3.7s\n",
            "[CV 4/5] END .............estimator__alpha=4.1;, score=-0.001 total time=   3.6s\n",
            "[CV 5/5] END .............estimator__alpha=4.1;, score=-0.001 total time=   3.7s\n",
            "[CV 1/5] END .............estimator__alpha=4.2;, score=-0.001 total time=   3.7s\n",
            "[CV 2/5] END .............estimator__alpha=4.2;, score=-0.001 total time=   3.7s\n",
            "[CV 3/5] END .............estimator__alpha=4.2;, score=-0.001 total time=   3.7s\n",
            "[CV 4/5] END .............estimator__alpha=4.2;, score=-0.001 total time=   3.6s\n",
            "[CV 5/5] END .............estimator__alpha=4.2;, score=-0.001 total time=   3.7s\n",
            "[CV 1/5] END .............estimator__alpha=4.3;, score=-0.001 total time=   3.7s\n",
            "[CV 2/5] END .............estimator__alpha=4.3;, score=-0.001 total time=   3.6s\n",
            "[CV 3/5] END .............estimator__alpha=4.3;, score=-0.001 total time=   3.7s\n",
            "[CV 4/5] END .............estimator__alpha=4.3;, score=-0.001 total time=   3.7s\n",
            "[CV 5/5] END .............estimator__alpha=4.3;, score=-0.001 total time=   3.7s\n",
            "[CV 1/5] END estimator__alpha=4.3999999999999995;, score=-0.001 total time=   5.0s\n",
            "[CV 2/5] END estimator__alpha=4.3999999999999995;, score=-0.001 total time=   3.6s\n",
            "[CV 3/5] END estimator__alpha=4.3999999999999995;, score=-0.001 total time=   3.7s\n",
            "[CV 4/5] END estimator__alpha=4.3999999999999995;, score=-0.001 total time=   3.6s\n",
            "[CV 5/5] END estimator__alpha=4.3999999999999995;, score=-0.001 total time=   3.6s\n",
            "[CV 1/5] END .............estimator__alpha=4.5;, score=-0.001 total time=   3.7s\n",
            "[CV 2/5] END .............estimator__alpha=4.5;, score=-0.001 total time=   3.7s\n",
            "[CV 3/5] END .............estimator__alpha=4.5;, score=-0.001 total time=   3.7s\n",
            "[CV 4/5] END .............estimator__alpha=4.5;, score=-0.001 total time=   3.6s\n",
            "[CV 5/5] END .............estimator__alpha=4.5;, score=-0.001 total time=   3.6s\n",
            "[CV 1/5] END .............estimator__alpha=4.6;, score=-0.001 total time=   3.7s\n",
            "[CV 2/5] END .............estimator__alpha=4.6;, score=-0.001 total time=   3.7s\n",
            "[CV 3/5] END .............estimator__alpha=4.6;, score=-0.001 total time=   3.7s\n",
            "[CV 4/5] END .............estimator__alpha=4.6;, score=-0.001 total time=   3.6s\n",
            "[CV 5/5] END .............estimator__alpha=4.6;, score=-0.001 total time=   4.1s\n",
            "[CV 1/5] END .............estimator__alpha=4.7;, score=-0.001 total time=   4.6s\n",
            "[CV 2/5] END .............estimator__alpha=4.7;, score=-0.001 total time=   3.7s\n",
            "[CV 3/5] END .............estimator__alpha=4.7;, score=-0.001 total time=   3.7s\n",
            "[CV 4/5] END .............estimator__alpha=4.7;, score=-0.001 total time=   3.6s\n",
            "[CV 5/5] END .............estimator__alpha=4.7;, score=-0.001 total time=   3.6s\n",
            "[CV 1/5] END .............estimator__alpha=4.8;, score=-0.001 total time=   3.7s\n",
            "[CV 2/5] END .............estimator__alpha=4.8;, score=-0.001 total time=   3.7s\n",
            "[CV 3/5] END .............estimator__alpha=4.8;, score=-0.001 total time=   3.7s\n",
            "[CV 4/5] END .............estimator__alpha=4.8;, score=-0.001 total time=   3.7s\n",
            "[CV 5/5] END .............estimator__alpha=4.8;, score=-0.001 total time=   3.7s\n",
            "[CV 1/5] END .............estimator__alpha=4.9;, score=-0.001 total time=   3.7s\n",
            "[CV 2/5] END .............estimator__alpha=4.9;, score=-0.001 total time=   3.7s\n",
            "[CV 3/5] END .............estimator__alpha=4.9;, score=-0.001 total time=   3.7s\n",
            "[CV 4/5] END .............estimator__alpha=4.9;, score=-0.001 total time=   5.6s\n",
            "[CV 5/5] END .............estimator__alpha=4.9;, score=-0.001 total time=   4.9s\n",
            "[CV 1/5] END .............estimator__alpha=5.0;, score=-0.001 total time=   4.3s\n",
            "[CV 2/5] END .............estimator__alpha=5.0;, score=-0.001 total time=   5.1s\n",
            "[CV 3/5] END .............estimator__alpha=5.0;, score=-0.001 total time=   3.7s\n",
            "[CV 4/5] END .............estimator__alpha=5.0;, score=-0.001 total time=   3.7s\n",
            "[CV 5/5] END .............estimator__alpha=5.0;, score=-0.001 total time=   3.7s\n",
            "[CV 1/5] END .............estimator__alpha=5.1;, score=-0.001 total time=   3.7s\n",
            "[CV 2/5] END .............estimator__alpha=5.1;, score=-0.001 total time=   3.7s\n",
            "[CV 3/5] END .............estimator__alpha=5.1;, score=-0.001 total time=   3.8s\n",
            "[CV 4/5] END .............estimator__alpha=5.1;, score=-0.001 total time=   3.7s\n",
            "[CV 5/5] END .............estimator__alpha=5.1;, score=-0.001 total time=   3.7s\n",
            "[CV 1/5] END .............estimator__alpha=5.2;, score=-0.001 total time=   3.7s\n",
            "[CV 2/5] END .............estimator__alpha=5.2;, score=-0.001 total time=   4.4s\n",
            "[CV 3/5] END .............estimator__alpha=5.2;, score=-0.001 total time=   4.3s\n",
            "[CV 4/5] END .............estimator__alpha=5.2;, score=-0.001 total time=   3.8s\n",
            "[CV 5/5] END .............estimator__alpha=5.2;, score=-0.001 total time=   3.8s\n",
            "[CV 1/5] END .............estimator__alpha=5.3;, score=-0.001 total time=   3.7s\n",
            "[CV 2/5] END .............estimator__alpha=5.3;, score=-0.001 total time=   3.7s\n",
            "[CV 3/5] END .............estimator__alpha=5.3;, score=-0.001 total time=   3.7s\n",
            "[CV 4/5] END .............estimator__alpha=5.3;, score=-0.001 total time=   3.7s\n",
            "[CV 5/5] END .............estimator__alpha=5.3;, score=-0.001 total time=   3.7s\n",
            "[CV 1/5] END .............estimator__alpha=5.4;, score=-0.001 total time=   3.7s\n",
            "[CV 2/5] END .............estimator__alpha=5.4;, score=-0.001 total time=   3.7s\n",
            "[CV 3/5] END .............estimator__alpha=5.4;, score=-0.001 total time=   3.7s\n",
            "[CV 4/5] END .............estimator__alpha=5.4;, score=-0.001 total time=   3.7s\n",
            "[CV 5/5] END .............estimator__alpha=5.4;, score=-0.001 total time=   3.7s\n",
            "[CV 1/5] END .............estimator__alpha=5.5;, score=-0.001 total time=   4.1s\n",
            "[CV 2/5] END .............estimator__alpha=5.5;, score=-0.001 total time=   4.9s\n",
            "[CV 3/5] END .............estimator__alpha=5.5;, score=-0.001 total time=   3.7s\n",
            "[CV 4/5] END .............estimator__alpha=5.5;, score=-0.001 total time=   3.7s\n",
            "[CV 5/5] END .............estimator__alpha=5.5;, score=-0.001 total time=   3.7s\n",
            "[CV 1/5] END .............estimator__alpha=5.6;, score=-0.001 total time=   3.7s\n",
            "[CV 2/5] END .............estimator__alpha=5.6;, score=-0.001 total time=   3.7s\n",
            "[CV 3/5] END .............estimator__alpha=5.6;, score=-0.001 total time=   3.7s\n",
            "[CV 4/5] END .............estimator__alpha=5.6;, score=-0.001 total time=   3.7s\n",
            "[CV 5/5] END .............estimator__alpha=5.6;, score=-0.001 total time=   3.7s\n",
            "[CV 1/5] END .............estimator__alpha=5.7;, score=-0.001 total time=   3.7s\n",
            "[CV 2/5] END .............estimator__alpha=5.7;, score=-0.001 total time=   3.7s\n",
            "[CV 3/5] END .............estimator__alpha=5.7;, score=-0.001 total time=   3.8s\n",
            "[CV 4/5] END .............estimator__alpha=5.7;, score=-0.001 total time=   3.7s\n",
            "[CV 5/5] END .............estimator__alpha=5.7;, score=-0.001 total time=   3.7s\n",
            "[CV 1/5] END .............estimator__alpha=5.8;, score=-0.001 total time=   5.1s\n",
            "[CV 2/5] END .............estimator__alpha=5.8;, score=-0.001 total time=   3.7s\n",
            "[CV 3/5] END .............estimator__alpha=5.8;, score=-0.001 total time=   3.7s\n",
            "[CV 4/5] END .............estimator__alpha=5.8;, score=-0.001 total time=   3.7s\n",
            "[CV 5/5] END .............estimator__alpha=5.8;, score=-0.001 total time=   3.7s\n",
            "[CV 1/5] END .............estimator__alpha=5.9;, score=-0.001 total time=   3.7s\n",
            "[CV 2/5] END .............estimator__alpha=5.9;, score=-0.001 total time=   3.7s\n",
            "[CV 3/5] END .............estimator__alpha=5.9;, score=-0.001 total time=   3.7s\n",
            "[CV 4/5] END .............estimator__alpha=5.9;, score=-0.001 total time=   3.7s\n",
            "[CV 5/5] END .............estimator__alpha=5.9;, score=-0.001 total time=   3.7s\n",
            "[CV 1/5] END .............estimator__alpha=6.0;, score=-0.001 total time=   3.7s\n",
            "[CV 2/5] END .............estimator__alpha=6.0;, score=-0.001 total time=   3.7s\n",
            "[CV 3/5] END .............estimator__alpha=6.0;, score=-0.001 total time=   3.7s\n",
            "[CV 4/5] END .............estimator__alpha=6.0;, score=-0.001 total time=   5.4s\n",
            "[CV 5/5] END .............estimator__alpha=6.0;, score=-0.001 total time=   4.9s\n",
            "[CV 1/5] END .............estimator__alpha=6.1;, score=-0.001 total time=   3.7s\n",
            "[CV 2/5] END .............estimator__alpha=6.1;, score=-0.001 total time=   3.7s\n",
            "[CV 3/5] END .............estimator__alpha=6.1;, score=-0.001 total time=   3.7s\n",
            "[CV 4/5] END .............estimator__alpha=6.1;, score=-0.001 total time=   3.7s\n",
            "[CV 5/5] END .............estimator__alpha=6.1;, score=-0.001 total time=   3.7s\n",
            "[CV 1/5] END .............estimator__alpha=6.2;, score=-0.001 total time=   3.7s\n",
            "[CV 2/5] END .............estimator__alpha=6.2;, score=-0.001 total time=   3.7s\n",
            "[CV 3/5] END .............estimator__alpha=6.2;, score=-0.001 total time=   3.7s\n",
            "[CV 4/5] END .............estimator__alpha=6.2;, score=-0.001 total time=   3.7s\n",
            "[CV 5/5] END .............estimator__alpha=6.2;, score=-0.001 total time=   3.7s\n",
            "[CV 1/5] END .............estimator__alpha=6.3;, score=-0.001 total time=   3.7s\n",
            "[CV 2/5] END .............estimator__alpha=6.3;, score=-0.001 total time=   3.7s\n",
            "[CV 3/5] END .............estimator__alpha=6.3;, score=-0.001 total time=   4.0s\n",
            "[CV 4/5] END .............estimator__alpha=6.3;, score=-0.001 total time=   4.9s\n",
            "[CV 5/5] END .............estimator__alpha=6.3;, score=-0.001 total time=   3.7s\n",
            "[CV 1/5] END .............estimator__alpha=6.4;, score=-0.001 total time=   3.7s\n",
            "[CV 2/5] END .............estimator__alpha=6.4;, score=-0.001 total time=   3.7s\n",
            "[CV 3/5] END .............estimator__alpha=6.4;, score=-0.001 total time=   3.7s\n",
            "[CV 4/5] END .............estimator__alpha=6.4;, score=-0.001 total time=   3.7s\n",
            "[CV 5/5] END .............estimator__alpha=6.4;, score=-0.001 total time=   3.7s\n",
            "[CV 1/5] END .............estimator__alpha=6.5;, score=-0.001 total time=   3.9s\n",
            "[CV 2/5] END .............estimator__alpha=6.5;, score=-0.001 total time=   3.7s\n",
            "[CV 3/5] END .............estimator__alpha=6.5;, score=-0.001 total time=   3.7s\n",
            "[CV 4/5] END .............estimator__alpha=6.5;, score=-0.001 total time=   3.7s\n",
            "[CV 5/5] END .............estimator__alpha=6.5;, score=-0.001 total time=   3.7s\n",
            "[CV 1/5] END .............estimator__alpha=6.6;, score=-0.001 total time=   3.7s\n",
            "[CV 2/5] END .............estimator__alpha=6.6;, score=-0.001 total time=   4.2s\n",
            "[CV 3/5] END .............estimator__alpha=6.6;, score=-0.001 total time=   4.5s\n",
            "[CV 4/5] END .............estimator__alpha=6.6;, score=-0.001 total time=   3.7s\n",
            "[CV 5/5] END .............estimator__alpha=6.6;, score=-0.001 total time=   3.7s\n",
            "[CV 1/5] END .............estimator__alpha=6.7;, score=-0.001 total time=   3.7s\n",
            "[CV 2/5] END .............estimator__alpha=6.7;, score=-0.001 total time=   3.7s\n",
            "[CV 3/5] END .............estimator__alpha=6.7;, score=-0.001 total time=   3.7s\n",
            "[CV 4/5] END .............estimator__alpha=6.7;, score=-0.001 total time=   3.7s\n",
            "[CV 5/5] END .............estimator__alpha=6.7;, score=-0.001 total time=   3.7s\n",
            "[CV 1/5] END .............estimator__alpha=6.8;, score=-0.001 total time=   3.7s\n",
            "[CV 2/5] END .............estimator__alpha=6.8;, score=-0.001 total time=   3.7s\n",
            "[CV 3/5] END .............estimator__alpha=6.8;, score=-0.001 total time=   3.7s\n",
            "[CV 4/5] END .............estimator__alpha=6.8;, score=-0.001 total time=   3.7s\n",
            "[CV 5/5] END .............estimator__alpha=6.8;, score=-0.001 total time=   3.7s\n",
            "[CV 1/5] END .............estimator__alpha=6.9;, score=-0.001 total time=   4.0s\n",
            "[CV 2/5] END .............estimator__alpha=6.9;, score=-0.001 total time=   4.9s\n",
            "[CV 3/5] END .............estimator__alpha=6.9;, score=-0.001 total time=   3.8s\n",
            "[CV 4/5] END .............estimator__alpha=6.9;, score=-0.001 total time=   3.7s\n",
            "[CV 5/5] END .............estimator__alpha=6.9;, score=-0.001 total time=   3.8s\n",
            "[CV 1/5] END .............estimator__alpha=7.0;, score=-0.001 total time=   3.7s\n",
            "[CV 2/5] END .............estimator__alpha=7.0;, score=-0.001 total time=   3.7s\n",
            "[CV 3/5] END .............estimator__alpha=7.0;, score=-0.001 total time=   3.7s\n",
            "[CV 4/5] END .............estimator__alpha=7.0;, score=-0.001 total time=   3.7s\n",
            "[CV 5/5] END .............estimator__alpha=7.0;, score=-0.001 total time=   3.7s\n",
            "[CV 1/5] END .............estimator__alpha=7.1;, score=-0.001 total time=   3.7s\n",
            "[CV 2/5] END .............estimator__alpha=7.1;, score=-0.001 total time=   3.7s\n",
            "[CV 3/5] END .............estimator__alpha=7.1;, score=-0.001 total time=   3.7s\n",
            "[CV 4/5] END .............estimator__alpha=7.1;, score=-0.001 total time=   4.9s\n",
            "[CV 5/5] END .............estimator__alpha=7.1;, score=-0.001 total time=   4.9s\n",
            "[CV 1/5] END .............estimator__alpha=7.2;, score=-0.001 total time=   3.7s\n",
            "[CV 2/5] END .............estimator__alpha=7.2;, score=-0.001 total time=   3.7s\n",
            "[CV 3/5] END .............estimator__alpha=7.2;, score=-0.001 total time=   3.8s\n",
            "[CV 4/5] END .............estimator__alpha=7.2;, score=-0.001 total time=   3.7s\n",
            "[CV 5/5] END .............estimator__alpha=7.2;, score=-0.001 total time=   3.7s\n",
            "[CV 1/5] END .............estimator__alpha=7.3;, score=-0.001 total time=   3.7s\n",
            "[CV 2/5] END .............estimator__alpha=7.3;, score=-0.001 total time=   3.7s\n",
            "[CV 3/5] END .............estimator__alpha=7.3;, score=-0.001 total time=   3.7s\n",
            "[CV 4/5] END .............estimator__alpha=7.3;, score=-0.001 total time=   3.7s\n",
            "[CV 5/5] END .............estimator__alpha=7.3;, score=-0.001 total time=   3.7s\n",
            "[CV 1/5] END .............estimator__alpha=7.4;, score=-0.001 total time=   3.7s\n",
            "[CV 2/5] END .............estimator__alpha=7.4;, score=-0.001 total time=   3.7s\n",
            "[CV 3/5] END .............estimator__alpha=7.4;, score=-0.001 total time=   3.7s\n",
            "[CV 4/5] END .............estimator__alpha=7.4;, score=-0.001 total time=   4.3s\n",
            "[CV 5/5] END .............estimator__alpha=7.4;, score=-0.001 total time=   4.4s\n",
            "[CV 1/5] END .............estimator__alpha=7.5;, score=-0.001 total time=   3.7s\n",
            "[CV 2/5] END .............estimator__alpha=7.5;, score=-0.001 total time=   3.7s\n",
            "[CV 3/5] END .............estimator__alpha=7.5;, score=-0.001 total time=   3.7s\n",
            "[CV 4/5] END .............estimator__alpha=7.5;, score=-0.001 total time=   3.7s\n",
            "[CV 5/5] END .............estimator__alpha=7.5;, score=-0.001 total time=   3.7s\n",
            "[CV 1/5] END .............estimator__alpha=7.6;, score=-0.001 total time=   3.7s\n",
            "[CV 2/5] END .............estimator__alpha=7.6;, score=-0.001 total time=   3.7s\n",
            "[CV 3/5] END .............estimator__alpha=7.6;, score=-0.001 total time=   3.7s\n",
            "[CV 4/5] END .............estimator__alpha=7.6;, score=-0.001 total time=   3.7s\n",
            "[CV 5/5] END .............estimator__alpha=7.6;, score=-0.001 total time=   3.7s\n",
            "[CV 1/5] END .............estimator__alpha=7.7;, score=-0.001 total time=   3.7s\n",
            "[CV 2/5] END .............estimator__alpha=7.7;, score=-0.001 total time=   3.7s\n",
            "[CV 3/5] END .............estimator__alpha=7.7;, score=-0.001 total time=   4.8s\n",
            "[CV 4/5] END .............estimator__alpha=7.7;, score=-0.001 total time=   3.8s\n",
            "[CV 5/5] END .............estimator__alpha=7.7;, score=-0.001 total time=   3.7s\n",
            "[CV 1/5] END .............estimator__alpha=7.8;, score=-0.001 total time=   3.7s\n",
            "[CV 2/5] END .............estimator__alpha=7.8;, score=-0.001 total time=   3.7s\n",
            "[CV 3/5] END .............estimator__alpha=7.8;, score=-0.001 total time=   3.7s\n",
            "[CV 4/5] END .............estimator__alpha=7.8;, score=-0.001 total time=   3.7s\n",
            "[CV 5/5] END .............estimator__alpha=7.8;, score=-0.001 total time=   3.7s\n",
            "[CV 1/5] END .............estimator__alpha=7.9;, score=-0.001 total time=   3.7s\n",
            "[CV 2/5] END .............estimator__alpha=7.9;, score=-0.001 total time=   3.7s\n",
            "[CV 3/5] END .............estimator__alpha=7.9;, score=-0.001 total time=   3.7s\n",
            "[CV 4/5] END .............estimator__alpha=7.9;, score=-0.001 total time=   3.7s\n",
            "[CV 5/5] END .............estimator__alpha=7.9;, score=-0.001 total time=   3.7s\n",
            "[CV 1/5] END .............estimator__alpha=8.0;, score=-0.001 total time=   3.7s\n",
            "[CV 2/5] END .............estimator__alpha=8.0;, score=-0.001 total time=   4.2s\n",
            "[CV 3/5] END .............estimator__alpha=8.0;, score=-0.001 total time=   4.6s\n",
            "[CV 4/5] END .............estimator__alpha=8.0;, score=-0.001 total time=   3.7s\n",
            "[CV 5/5] END .............estimator__alpha=8.0;, score=-0.001 total time=   3.7s\n",
            "[CV 1/5] END .............estimator__alpha=8.1;, score=-0.001 total time=   3.7s\n",
            "[CV 2/5] END .............estimator__alpha=8.1;, score=-0.001 total time=   3.7s\n",
            "[CV 3/5] END .............estimator__alpha=8.1;, score=-0.001 total time=   3.7s\n",
            "[CV 4/5] END .............estimator__alpha=8.1;, score=-0.001 total time=   3.7s\n",
            "[CV 5/5] END .............estimator__alpha=8.1;, score=-0.001 total time=   3.7s\n",
            "[CV 1/5] END .............estimator__alpha=8.2;, score=-0.001 total time=   3.7s\n",
            "[CV 2/5] END .............estimator__alpha=8.2;, score=-0.001 total time=   3.7s\n",
            "[CV 3/5] END .............estimator__alpha=8.2;, score=-0.001 total time=   3.7s\n",
            "[CV 4/5] END .............estimator__alpha=8.2;, score=-0.001 total time=   4.6s\n",
            "[CV 5/5] END .............estimator__alpha=8.2;, score=-0.001 total time=   4.0s\n",
            "[CV 1/5] END .............estimator__alpha=8.3;, score=-0.001 total time=   4.5s\n",
            "[CV 2/5] END .............estimator__alpha=8.3;, score=-0.001 total time=   4.0s\n",
            "[CV 3/5] END .............estimator__alpha=8.3;, score=-0.001 total time=   3.7s\n",
            "[CV 4/5] END .............estimator__alpha=8.3;, score=-0.001 total time=   3.7s\n",
            "[CV 5/5] END .............estimator__alpha=8.3;, score=-0.001 total time=   3.7s\n",
            "[CV 1/5] END .............estimator__alpha=8.4;, score=-0.001 total time=   3.7s\n",
            "[CV 2/5] END .............estimator__alpha=8.4;, score=-0.001 total time=   3.7s\n",
            "[CV 3/5] END .............estimator__alpha=8.4;, score=-0.001 total time=   3.7s\n",
            "[CV 4/5] END .............estimator__alpha=8.4;, score=-0.001 total time=   3.6s\n",
            "[CV 5/5] END .............estimator__alpha=8.4;, score=-0.001 total time=   3.7s\n",
            "[CV 1/5] END .............estimator__alpha=8.5;, score=-0.001 total time=   3.7s\n",
            "[CV 2/5] END .............estimator__alpha=8.5;, score=-0.001 total time=   3.7s\n",
            "[CV 3/5] END .............estimator__alpha=8.5;, score=-0.001 total time=   3.7s\n",
            "[CV 4/5] END .............estimator__alpha=8.5;, score=-0.001 total time=   3.7s\n",
            "[CV 5/5] END .............estimator__alpha=8.5;, score=-0.001 total time=   4.1s\n",
            "[CV 1/5] END .............estimator__alpha=8.6;, score=-0.001 total time=   4.7s\n",
            "[CV 2/5] END .............estimator__alpha=8.6;, score=-0.001 total time=   3.7s\n",
            "[CV 3/5] END .............estimator__alpha=8.6;, score=-0.001 total time=   3.7s\n",
            "[CV 4/5] END .............estimator__alpha=8.6;, score=-0.001 total time=   3.6s\n",
            "[CV 5/5] END .............estimator__alpha=8.6;, score=-0.001 total time=   3.7s\n",
            "[CV 1/5] END .............estimator__alpha=8.7;, score=-0.001 total time=   3.7s\n",
            "[CV 2/5] END .............estimator__alpha=8.7;, score=-0.001 total time=   3.6s\n",
            "[CV 3/5] END .............estimator__alpha=8.7;, score=-0.001 total time=   3.7s\n",
            "[CV 4/5] END .............estimator__alpha=8.7;, score=-0.001 total time=   3.6s\n",
            "[CV 5/5] END .............estimator__alpha=8.7;, score=-0.001 total time=   3.6s\n",
            "[CV 1/5] END .............estimator__alpha=8.8;, score=-0.001 total time=   3.6s\n",
            "[CV 2/5] END .............estimator__alpha=8.8;, score=-0.001 total time=   3.6s\n",
            "[CV 3/5] END .............estimator__alpha=8.8;, score=-0.001 total time=   3.7s\n",
            "[CV 4/5] END .............estimator__alpha=8.8;, score=-0.001 total time=   3.8s\n",
            "[CV 5/5] END .............estimator__alpha=8.8;, score=-0.001 total time=   5.0s\n",
            "[CV 1/5] END .............estimator__alpha=8.9;, score=-0.001 total time=   3.6s\n",
            "[CV 2/5] END .............estimator__alpha=8.9;, score=-0.001 total time=   3.6s\n",
            "[CV 3/5] END .............estimator__alpha=8.9;, score=-0.001 total time=   3.7s\n",
            "[CV 4/5] END .............estimator__alpha=8.9;, score=-0.001 total time=   3.6s\n",
            "[CV 5/5] END .............estimator__alpha=8.9;, score=-0.001 total time=   3.6s\n",
            "[CV 1/5] END .............estimator__alpha=9.0;, score=-0.001 total time=   3.7s\n",
            "[CV 2/5] END .............estimator__alpha=9.0;, score=-0.001 total time=   3.7s\n",
            "[CV 3/5] END .............estimator__alpha=9.0;, score=-0.001 total time=   3.7s\n",
            "[CV 4/5] END .............estimator__alpha=9.0;, score=-0.001 total time=   3.6s\n",
            "[CV 5/5] END .............estimator__alpha=9.0;, score=-0.001 total time=   3.6s\n",
            "[CV 1/5] END .............estimator__alpha=9.1;, score=-0.001 total time=   3.6s\n",
            "[CV 2/5] END .............estimator__alpha=9.1;, score=-0.001 total time=   3.6s\n",
            "[CV 3/5] END .............estimator__alpha=9.1;, score=-0.001 total time=   3.9s\n",
            "[CV 4/5] END .............estimator__alpha=9.1;, score=-0.001 total time=   4.7s\n",
            "[CV 5/5] END .............estimator__alpha=9.1;, score=-0.001 total time=   3.6s\n",
            "[CV 1/5] END .............estimator__alpha=9.2;, score=-0.001 total time=   3.6s\n",
            "[CV 2/5] END .............estimator__alpha=9.2;, score=-0.001 total time=   3.6s\n",
            "[CV 3/5] END .............estimator__alpha=9.2;, score=-0.001 total time=   3.6s\n",
            "[CV 4/5] END .............estimator__alpha=9.2;, score=-0.001 total time=   3.6s\n",
            "[CV 5/5] END .............estimator__alpha=9.2;, score=-0.001 total time=   3.6s\n",
            "[CV 1/5] END .............estimator__alpha=9.3;, score=-0.001 total time=   3.6s\n",
            "[CV 2/5] END .............estimator__alpha=9.3;, score=-0.001 total time=   3.6s\n",
            "[CV 3/5] END .............estimator__alpha=9.3;, score=-0.001 total time=   3.6s\n",
            "[CV 4/5] END .............estimator__alpha=9.3;, score=-0.001 total time=   3.6s\n",
            "[CV 5/5] END .............estimator__alpha=9.3;, score=-0.001 total time=   4.7s\n",
            "[CV 1/5] END .............estimator__alpha=9.4;, score=-0.001 total time=   3.7s\n",
            "[CV 2/5] END .............estimator__alpha=9.4;, score=-0.001 total time=   3.7s\n",
            "[CV 3/5] END .............estimator__alpha=9.4;, score=-0.001 total time=   4.9s\n",
            "[CV 4/5] END .............estimator__alpha=9.4;, score=-0.001 total time=   3.6s\n",
            "[CV 5/5] END .............estimator__alpha=9.4;, score=-0.001 total time=   3.7s\n",
            "[CV 1/5] END .............estimator__alpha=9.5;, score=-0.001 total time=   3.6s\n",
            "[CV 2/5] END .............estimator__alpha=9.5;, score=-0.001 total time=   3.6s\n",
            "[CV 3/5] END .............estimator__alpha=9.5;, score=-0.001 total time=   3.6s\n",
            "[CV 4/5] END .............estimator__alpha=9.5;, score=-0.001 total time=   3.6s\n",
            "[CV 5/5] END .............estimator__alpha=9.5;, score=-0.001 total time=   3.6s\n",
            "[CV 1/5] END .............estimator__alpha=9.6;, score=-0.001 total time=   3.6s\n",
            "[CV 2/5] END .............estimator__alpha=9.6;, score=-0.001 total time=   3.6s\n",
            "[CV 3/5] END .............estimator__alpha=9.6;, score=-0.001 total time=   3.6s\n",
            "[CV 4/5] END .............estimator__alpha=9.6;, score=-0.001 total time=   3.6s\n",
            "[CV 5/5] END .............estimator__alpha=9.6;, score=-0.001 total time=   3.6s\n",
            "[CV 1/5] END estimator__alpha=9.700000000000001;, score=-0.001 total time=   3.6s\n",
            "[CV 2/5] END estimator__alpha=9.700000000000001;, score=-0.001 total time=   4.2s\n",
            "[CV 3/5] END estimator__alpha=9.700000000000001;, score=-0.001 total time=   4.3s\n",
            "[CV 4/5] END estimator__alpha=9.700000000000001;, score=-0.001 total time=   3.6s\n",
            "[CV 5/5] END estimator__alpha=9.700000000000001;, score=-0.001 total time=   3.6s\n",
            "[CV 1/5] END .............estimator__alpha=9.8;, score=-0.001 total time=   3.6s\n",
            "[CV 2/5] END .............estimator__alpha=9.8;, score=-0.001 total time=   3.6s\n",
            "[CV 3/5] END .............estimator__alpha=9.8;, score=-0.001 total time=   3.7s\n",
            "[CV 4/5] END .............estimator__alpha=9.8;, score=-0.001 total time=   3.6s\n",
            "[CV 5/5] END .............estimator__alpha=9.8;, score=-0.001 total time=   3.6s\n",
            "[CV 1/5] END .............estimator__alpha=9.9;, score=-0.001 total time=   3.6s\n",
            "[CV 2/5] END .............estimator__alpha=9.9;, score=-0.001 total time=   3.6s\n",
            "[CV 3/5] END .............estimator__alpha=9.9;, score=-0.001 total time=   3.6s\n",
            "[CV 4/5] END .............estimator__alpha=9.9;, score=-0.001 total time=   3.6s\n",
            "[CV 5/5] END .............estimator__alpha=9.9;, score=-0.001 total time=   3.6s\n"
          ]
        },
        {
          "output_type": "execute_result",
          "data": {
            "text/plain": [
              "GridSearchCV(cv=5,\n",
              "             estimator=Pipeline(steps=[('transformer',\n",
              "                                        ColumnTransformer(remainder='passthrough',\n",
              "                                                          transformers=[('pipeline-1',\n",
              "                                                                         Pipeline(steps=[('cat_encoder',\n",
              "                                                                                          OrdinalEncoder(dtype=<class 'numpy.int32'>))]),\n",
              "                                                                         ['type']),\n",
              "                                                                        ('pipeline-2',\n",
              "                                                                         Pipeline(steps=[('robust_scalar',\n",
              "                                                                                          RobustScaler())]),\n",
              "                                                                         ['step',\n",
              "                                                                          'isFlaggedFraud',\n",
              "                                                                          'amount',\n",
              "                                                                          'oldbalanceOrg',\n",
              "                                                                          'newbalanceOrig',\n",
              "                                                                          'o...\n",
              "       1.4, 1.5, 1.6, 1.7, 1.8, 1.9, 2. , 2.1, 2.2, 2.3, 2.4, 2.5, 2.6,\n",
              "       2.7, 2.8, 2.9, 3. , 3.1, 3.2, 3.3, 3.4, 3.5, 3.6, 3.7, 3.8, 3.9,\n",
              "       4. , 4.1, 4.2, 4.3, 4.4, 4.5, 4.6, 4.7, 4.8, 4.9, 5. , 5.1, 5.2,\n",
              "       5.3, 5.4, 5.5, 5.6, 5.7, 5.8, 5.9, 6. , 6.1, 6.2, 6.3, 6.4, 6.5,\n",
              "       6.6, 6.7, 6.8, 6.9, 7. , 7.1, 7.2, 7.3, 7.4, 7.5, 7.6, 7.7, 7.8,\n",
              "       7.9, 8. , 8.1, 8.2, 8.3, 8.4, 8.5, 8.6, 8.7, 8.8, 8.9, 9. , 9.1,\n",
              "       9.2, 9.3, 9.4, 9.5, 9.6, 9.7, 9.8, 9.9])},\n",
              "             scoring='neg_mean_squared_error', verbose=3)"
            ]
          },
          "metadata": {},
          "execution_count": 38
        }
      ]
    },
    {
      "cell_type": "code",
      "source": [
        "search.best_params_"
      ],
      "metadata": {
        "colab": {
          "base_uri": "https://localhost:8080/"
        },
        "id": "JIKuYdksgtYx",
        "outputId": "f2ad3b83-28b1-4d51-d127-8f26ee07daba"
      },
      "execution_count": null,
      "outputs": [
        {
          "output_type": "execute_result",
          "data": {
            "text/plain": [
              "{'estimator__alpha': 0.1}"
            ]
          },
          "metadata": {},
          "execution_count": 39
        }
      ]
    },
    {
      "cell_type": "code",
      "source": [
        "coefficients = search.best_estimator_.named_steps['estimator'].coef_"
      ],
      "metadata": {
        "id": "Peo9CEsCg3r6"
      },
      "execution_count": null,
      "outputs": []
    },
    {
      "cell_type": "code",
      "source": [
        "np.abs(coefficients)"
      ],
      "metadata": {
        "colab": {
          "base_uri": "https://localhost:8080/"
        },
        "id": "nzTIxyTTg_g-",
        "outputId": "f7c906ef-f196-4a76-862a-7921f6776811"
      },
      "execution_count": null,
      "outputs": [
        {
          "output_type": "execute_result",
          "data": {
            "text/plain": [
              "array([0., 0., 0., 0., 0., 0., 0., 0.])"
            ]
          },
          "metadata": {},
          "execution_count": 41
        }
      ]
    },
    {
      "cell_type": "markdown",
      "metadata": {
        "id": "vTkxCrM4rOQ-"
      },
      "source": [
        "**Next step is trying to implement models that can map non-linear relationships**"
      ]
    },
    {
      "cell_type": "markdown",
      "metadata": {
        "id": "3KmKwx3w07bv"
      },
      "source": [
        "# **KNN Classifier**"
      ]
    },
    {
      "cell_type": "code",
      "execution_count": null,
      "metadata": {
        "colab": {
          "base_uri": "https://localhost:8080/",
          "height": 69
        },
        "id": "dzsjBRBH12F4",
        "outputId": "465a2600-43f9-4971-ea6e-919193b55fe7"
      },
      "outputs": [
        {
          "data": {
            "application/vnd.google.colaboratory.intrinsic+json": {
              "type": "string"
            },
            "text/plain": [
              "\"from sklearn.neighbors import KNeighborsClassifier\\n\\n\\nparams = {\\n    'knn__n_neighbors': range(1, 15, 2),\\n}\\n\\npipeline = Pipeline([('transformer', column_trans), ('knn', KNeighborsClassifier())]) \\ngrid_pipeline = GridSearchCV(pipeline, params, scoring='f1_macro')\\n\\ngrid_pipeline.fit(X_train,Y_train)\""
            ]
          },
          "execution_count": 150,
          "metadata": {},
          "output_type": "execute_result"
        }
      ],
      "source": [
        "from sklearn.model_selection import GridSearchCV\n",
        "'''from sklearn.neighbors import KNeighborsClassifier\n",
        "\n",
        "\n",
        "params = {\n",
        "    'knn__n_neighbors': range(1, 15, 2),\n",
        "}\n",
        "\n",
        "pipeline = Pipeline([('transformer', column_trans), ('knn', KNeighborsClassifier())]) \n",
        "grid_pipeline = GridSearchCV(pipeline, params, scoring='f1_macro')\n",
        "\n",
        "grid_pipeline.fit(X_train,Y_train)'''"
      ]
    },
    {
      "cell_type": "code",
      "execution_count": null,
      "metadata": {
        "colab": {
          "base_uri": "https://localhost:8080/",
          "height": 35
        },
        "id": "pIgoQFdJEZuI",
        "outputId": "29c3b496-7861-4cf8-b800-98d873651335"
      },
      "outputs": [
        {
          "data": {
            "application/vnd.google.colaboratory.intrinsic+json": {
              "type": "string"
            },
            "text/plain": [
              "'grid_pipeline.best_params_'"
            ]
          },
          "execution_count": 151,
          "metadata": {},
          "output_type": "execute_result"
        }
      ],
      "source": [
        "'''grid_pipeline.best_params_'''"
      ]
    },
    {
      "cell_type": "markdown",
      "metadata": {
        "id": "xjFZfqlib0Jn"
      },
      "source": [
        "**Optimal value of KNN neighbors parameter is 3 based on macro f1 metric (since the dataset is unbalanced).** "
      ]
    },
    {
      "cell_type": "code",
      "execution_count": null,
      "metadata": {
        "colab": {
          "base_uri": "https://localhost:8080/"
        },
        "id": "Y1eEuh3PdSIk",
        "outputId": "a7536c53-0a14-4514-e46a-986aded630a7"
      },
      "outputs": [
        {
          "data": {
            "text/plain": [
              "{'fit_time': array([76.82125187, 77.58844209, 37.25533986, 37.00684857, 33.38489413]),\n",
              " 'score_time': array([734.32990956, 649.4794991 , 286.5348804 , 336.95489836,\n",
              "        355.33100247]),\n",
              " 'test_f1_macro': array([0.8952367 , 0.90401828, 0.90654956, 0.90423159, 0.90055902]),\n",
              " 'train_f1_macro': array([0.93388877, 0.93127699, 0.93182222, 0.93292437, 0.93178543]),\n",
              " 'test_accuracy': array([0.99951278, 0.99953537, 0.99955404, 0.99955011, 0.99953734]),\n",
              " 'train_accuracy': array([0.99968321, 0.9996751 , 0.99967731, 0.99967977, 0.99967363]),\n",
              " 'test_f1_micro': array([0.99951278, 0.99953537, 0.99955404, 0.99955011, 0.99953734]),\n",
              " 'train_f1_micro': array([0.99968321, 0.9996751 , 0.99967731, 0.99967977, 0.99967363]),\n",
              " 'test_recall': array([0.71690895, 0.73797187, 0.73971578, 0.742901  , 0.73359073]),\n",
              " 'train_recall': array([0.80192963, 0.79301793, 0.79280822, 0.79659735, 0.79501699]),\n",
              " 'test_precision': array([0.88146754, 0.89336918, 0.90319635, 0.8872594 , 0.88289963]),\n",
              " 'train_precision': array([0.94578313, 0.94584755, 0.94877049, 0.94867177, 0.94545455])}"
            ]
          },
          "execution_count": 18,
          "metadata": {},
          "output_type": "execute_result"
        }
      ],
      "source": [
        "from sklearn.neighbors import KNeighborsClassifier\n",
        "cvfolds = KFold(n_splits=5)\n",
        "knn_pipeline = Pipeline([('transformer', preprocessing), ('estimator', KNeighborsClassifier(n_neighbors=3))])\n",
        "knn_scores = cross_validate(knn_pipeline.fit(X_train, Y_train), X_train, Y_train, cv = cvfolds,\\\n",
        "                            scoring=('f1_macro', 'accuracy', 'f1_micro', 'recall', 'precision'),\\\n",
        "                            return_train_score=True, n_jobs=-1)\n",
        "knn_scores"
      ]
    },
    {
      "cell_type": "code",
      "execution_count": null,
      "metadata": {
        "id": "zcBaNhAEbSK-"
      },
      "outputs": [],
      "source": [
        "knn_Y_pred = knn_pipeline.predict(X_test)"
      ]
    },
    {
      "cell_type": "code",
      "execution_count": null,
      "metadata": {
        "colab": {
          "base_uri": "https://localhost:8080/",
          "height": 513
        },
        "id": "LRuCMSuCsdc3",
        "outputId": "290bf4b5-a506-4cac-d713-5e74cb55c18c"
      },
      "outputs": [
        {
          "name": "stdout",
          "output_type": "stream",
          "text": [
            "Precision: 0.9122 --- Recall: 0.7500\n",
            "\n",
            "\n"
          ]
        },
        {
          "data": {
            "image/png": "[encoded data removed]",
            "text/plain": [
              "<Figure size 864x504 with 2 Axes>"
            ]
          },
          "metadata": {},
          "output_type": "display_data"
        }
      ],
      "source": [
        "plot_results(knn_pipeline, X_test, Y_test, knn_Y_pred, 'KNN (n=3)')"
      ]
    },
    {
      "cell_type": "markdown",
      "metadata": {
        "id": "7K9YPZHwem0v"
      },
      "source": [
        "**KNN with borderline SMOTE**"
      ]
    },
    {
      "cell_type": "code",
      "execution_count": null,
      "metadata": {
        "id": "YcFTVgFs009v"
      },
      "outputs": [],
      "source": [
        "from imblearn.over_sampling import BorderlineSMOTE\n",
        "from sklearn.neighbors import KNeighborsClassifier\n",
        "from imblearn.pipeline import Pipeline\n",
        "borderline_SMOTE = BorderlineSMOTE()\n",
        "estimator =  KNeighborsClassifier(n_neighbors=3)"
      ]
    },
    {
      "cell_type": "code",
      "execution_count": null,
      "metadata": {
        "id": "aQpGsdYB1lvT"
      },
      "outputs": [],
      "source": [
        "borderline_SMOTE_pipeline =  Pipeline([('transformer', preprocessing),('borderline_oversampling', borderline_SMOTE), ('estimator', estimator)])"
      ]
    },
    {
      "cell_type": "code",
      "execution_count": null,
      "metadata": {
        "colab": {
          "base_uri": "https://localhost:8080/"
        },
        "id": "LBHHhWWj7l4M",
        "outputId": "62995209-4159-45ae-ecda-6f4f571a0e49"
      },
      "outputs": [
        {
          "data": {
            "text/plain": [
              "{'fit_time': array([81.32383347, 79.31658435, 87.82237577, 91.98291874, 86.5791657 ]),\n",
              " 'score_time': array([196.34152961, 222.6551702 , 169.76597238, 242.18133402,\n",
              "        231.2653482 ]),\n",
              " 'test_f1_macro': array([0.83692566, 0.83958931, 0.85271367, 0.83931052, 0.83779228]),\n",
              " 'train_f1_macro': array([0.91171792, 0.90835231, 0.90696886, 0.91022857, 0.90955127]),\n",
              " 'test_accuracy': array([0.999001  , 0.99896957, 0.99909137, 0.99898823, 0.99898725]),\n",
              " 'train_accuracy': array([0.99948036, 0.99945777, 0.99944918, 0.99946637, 0.99946416]),\n",
              " 'test_f1_micro': array([0.999001  , 0.99896957, 0.99909137, 0.99898823, 0.99898725]),\n",
              " 'train_f1_micro': array([0.99948036, 0.99945777, 0.99944918, 0.99946637, 0.99946416]),\n",
              " 'test_recall': array([0.80566182, 0.8238342 , 0.8302169 , 0.83653108, 0.83088803]),\n",
              " 'train_recall': array([0.93511162, 0.9400992 , 0.93512177, 0.94026465, 0.93412609]),\n",
              " 'test_precision': array([0.57984581, 0.57848233, 0.61393805, 0.5715784 , 0.56991525]),\n",
              " 'train_precision': array([0.73600357, 0.72236881, 0.72099164, 0.72815108, 0.72972574])}"
            ]
          },
          "execution_count": 19,
          "metadata": {},
          "output_type": "execute_result"
        }
      ],
      "source": [
        "cvfolds = KFold(n_splits=5)\n",
        "knn_scores_SMOTE = cross_validate(borderline_SMOTE_pipeline.fit(X_train, Y_train), X_train, Y_train, cv = cvfolds\\\n",
        "                             , scoring=('f1_macro', 'accuracy', 'f1_micro', 'recall', 'precision'), return_train_score=True, n_jobs=-1)\n",
        "knn_scores_SMOTE"
      ]
    },
    {
      "cell_type": "code",
      "execution_count": null,
      "metadata": {
        "id": "naOgkthRz538"
      },
      "outputs": [],
      "source": [
        "knn_scores_SMOTE_pred = borderline_SMOTE_pipeline.predict(X_test)"
      ]
    },
    {
      "cell_type": "code",
      "execution_count": null,
      "metadata": {
        "colab": {
          "base_uri": "https://localhost:8080/",
          "height": 513
        },
        "id": "vMwXMr9M0DtR",
        "outputId": "2073cde6-3311-40ce-8546-4f028fec5215"
      },
      "outputs": [
        {
          "name": "stdout",
          "output_type": "stream",
          "text": [
            "Precision: 0.5961 --- Recall: 0.8290\n",
            "\n",
            "\n"
          ]
        },
        {
          "data": {
            "image/png": "[encoded data removed]",
            "text/plain": [
              "<Figure size 864x504 with 2 Axes>"
            ]
          },
          "metadata": {},
          "output_type": "display_data"
        }
      ],
      "source": [
        "plot_results(borderline_SMOTE_pipeline, X_test, Y_test, knn_scores_SMOTE_pred, 'knn_scores_BorderSMOTE')"
      ]
    },
    {
      "cell_type": "markdown",
      "metadata": {
        "id": "OfYUpCZjaFE5"
      },
      "source": [
        "# **Random Forest Classifier**"
      ]
    },
    {
      "cell_type": "code",
      "execution_count": null,
      "metadata": {
        "colab": {
          "base_uri": "https://localhost:8080/",
          "height": 52
        },
        "id": "Yx5--icnb6Ce",
        "outputId": "57f82fd1-6b57-4c03-a8ba-6ca38766f967"
      },
      "outputs": [
        {
          "output_type": "execute_result",
          "data": {
            "text/plain": [
              "\"param_grid = {\\n    'rfc__n_estimators': [10, 100, 200, 300, 1000]\\n}\\npipeline = Pipeline([('transformer', column_trans), ('rfc', RandomForestClassifier())])\\n\\nclf = GridSearchCV(pipeline, param_grid, scoring='f1_macro')\\n \\n# Fit and tune model\\nclf.fit(X_train, Y_train)\""
            ],
            "application/vnd.google.colaboratory.intrinsic+json": {
              "type": "string"
            }
          },
          "metadata": {},
          "execution_count": 19
        }
      ],
      "source": [
        "from sklearn.ensemble import RandomForestClassifier\n",
        "\n",
        "'''param_grid = {\n",
        "    'rfc__n_estimators': [10, 100, 200, 300, 1000]\n",
        "}\n",
        "pipeline = Pipeline([('transformer', column_trans), ('rfc', RandomForestClassifier())])\n",
        "\n",
        "clf = GridSearchCV(pipeline, param_grid, scoring='f1_macro')\n",
        " \n",
        "# Fit and tune model\n",
        "clf.fit(X_train, Y_train)'''"
      ]
    },
    {
      "cell_type": "code",
      "execution_count": null,
      "metadata": {
        "colab": {
          "base_uri": "https://localhost:8080/",
          "height": 35
        },
        "id": "UtBGugShnjvv",
        "outputId": "c3c2b769-c283-4d96-92d4-3f69cfe77c89"
      },
      "outputs": [
        {
          "output_type": "execute_result",
          "data": {
            "text/plain": [
              "'clf.best_params_'"
            ],
            "application/vnd.google.colaboratory.intrinsic+json": {
              "type": "string"
            }
          },
          "metadata": {},
          "execution_count": 20
        }
      ],
      "source": [
        "'''clf.best_params_'''"
      ]
    },
    {
      "cell_type": "code",
      "execution_count": null,
      "metadata": {
        "id": "gttf7kfL2hBl",
        "outputId": "01a385d5-15a6-45fb-9a50-17a1e94e424c",
        "colab": {
          "base_uri": "https://localhost:8080/"
        }
      },
      "outputs": [
        {
          "output_type": "execute_result",
          "data": {
            "text/plain": [
              "{'fit_time': array([ 948.33068419,  927.74604654, 1190.13804102, 1070.48444057,\n",
              "         852.95799351]),\n",
              " 'score_time': array([12.66988325, 15.14046311, 12.98345327, 13.14344049,  9.53232813]),\n",
              " 'estimator': [Pipeline(steps=[('transformer',\n",
              "                   ColumnTransformer(remainder='passthrough',\n",
              "                                     transformers=[('pipeline-1',\n",
              "                                                    Pipeline(steps=[('cat_encoder',\n",
              "                                                                     OrdinalEncoder(dtype=<class 'numpy.int64'>))]),\n",
              "                                                    ['type']),\n",
              "                                                   ('pipeline-2',\n",
              "                                                    Pipeline(steps=[('robust_scalar',\n",
              "                                                                     RobustScaler())]),\n",
              "                                                    ['step', 'isFlaggedFraud',\n",
              "                                                     'amount', 'oldbalanceOrg',\n",
              "                                                     'newbalanceOrig',\n",
              "                                                     'oldbalanceDest',\n",
              "                                                     'newbalanceDest'])])),\n",
              "                  ('estimator', RandomForestClassifier(min_samples_leaf=15))]),\n",
              "  Pipeline(steps=[('transformer',\n",
              "                   ColumnTransformer(remainder='passthrough',\n",
              "                                     transformers=[('pipeline-1',\n",
              "                                                    Pipeline(steps=[('cat_encoder',\n",
              "                                                                     OrdinalEncoder(dtype=<class 'numpy.int64'>))]),\n",
              "                                                    ['type']),\n",
              "                                                   ('pipeline-2',\n",
              "                                                    Pipeline(steps=[('robust_scalar',\n",
              "                                                                     RobustScaler())]),\n",
              "                                                    ['step', 'isFlaggedFraud',\n",
              "                                                     'amount', 'oldbalanceOrg',\n",
              "                                                     'newbalanceOrig',\n",
              "                                                     'oldbalanceDest',\n",
              "                                                     'newbalanceDest'])])),\n",
              "                  ('estimator', RandomForestClassifier(min_samples_leaf=15))]),\n",
              "  Pipeline(steps=[('transformer',\n",
              "                   ColumnTransformer(remainder='passthrough',\n",
              "                                     transformers=[('pipeline-1',\n",
              "                                                    Pipeline(steps=[('cat_encoder',\n",
              "                                                                     OrdinalEncoder(dtype=<class 'numpy.int64'>))]),\n",
              "                                                    ['type']),\n",
              "                                                   ('pipeline-2',\n",
              "                                                    Pipeline(steps=[('robust_scalar',\n",
              "                                                                     RobustScaler())]),\n",
              "                                                    ['step', 'isFlaggedFraud',\n",
              "                                                     'amount', 'oldbalanceOrg',\n",
              "                                                     'newbalanceOrig',\n",
              "                                                     'oldbalanceDest',\n",
              "                                                     'newbalanceDest'])])),\n",
              "                  ('estimator', RandomForestClassifier(min_samples_leaf=15))]),\n",
              "  Pipeline(steps=[('transformer',\n",
              "                   ColumnTransformer(remainder='passthrough',\n",
              "                                     transformers=[('pipeline-1',\n",
              "                                                    Pipeline(steps=[('cat_encoder',\n",
              "                                                                     OrdinalEncoder(dtype=<class 'numpy.int64'>))]),\n",
              "                                                    ['type']),\n",
              "                                                   ('pipeline-2',\n",
              "                                                    Pipeline(steps=[('robust_scalar',\n",
              "                                                                     RobustScaler())]),\n",
              "                                                    ['step', 'isFlaggedFraud',\n",
              "                                                     'amount', 'oldbalanceOrg',\n",
              "                                                     'newbalanceOrig',\n",
              "                                                     'oldbalanceDest',\n",
              "                                                     'newbalanceDest'])])),\n",
              "                  ('estimator', RandomForestClassifier(min_samples_leaf=15))]),\n",
              "  Pipeline(steps=[('transformer',\n",
              "                   ColumnTransformer(remainder='passthrough',\n",
              "                                     transformers=[('pipeline-1',\n",
              "                                                    Pipeline(steps=[('cat_encoder',\n",
              "                                                                     OrdinalEncoder(dtype=<class 'numpy.int64'>))]),\n",
              "                                                    ['type']),\n",
              "                                                   ('pipeline-2',\n",
              "                                                    Pipeline(steps=[('robust_scalar',\n",
              "                                                                     RobustScaler())]),\n",
              "                                                    ['step', 'isFlaggedFraud',\n",
              "                                                     'amount', 'oldbalanceOrg',\n",
              "                                                     'newbalanceOrig',\n",
              "                                                     'oldbalanceDest',\n",
              "                                                     'newbalanceDest'])])),\n",
              "                  ('estimator', RandomForestClassifier(min_samples_leaf=15))])],\n",
              " 'test_f1_macro': array([0.92322319, 0.92353969, 0.92654215, 0.92755829, 0.92635594]),\n",
              " 'train_f1_macro': array([0.92974592, 0.92850568, 0.92714478, 0.92775244, 0.92813665]),\n",
              " 'test_accuracy': array([0.99965227, 0.99964441, 0.99966111, 0.99967289, 0.99967093]),\n",
              " 'train_accuracy': array([0.9996783 , 0.9996756 , 0.99966946, 0.99966995, 0.99967142]),\n",
              " 'test_f1_micro': array([0.99965227, 0.99964441, 0.99966111, 0.99967289, 0.99967093]),\n",
              " 'train_f1_micro': array([0.9996783 , 0.9996756 , 0.99966946, 0.99966995, 0.99967142]),\n",
              " 'test_recall': array([0.74751339, 0.74315322, 0.75018699, 0.75518035, 0.74980695]),\n",
              " 'train_recall': array([0.758986  , 0.75619992, 0.75171233, 0.75311909, 0.75330313]),\n",
              " 'test_precision': array([0.97602398, 0.98527969, 0.98915187, 0.98597194, 0.98879837]),\n",
              " 'train_precision': array([0.99110672, 0.98926878, 0.98972946, 0.99055196, 0.99229239])}"
            ]
          },
          "metadata": {},
          "execution_count": 21
        }
      ],
      "source": [
        "rfc_pipeline = Pipeline([('transformer', preprocessing),\\\n",
        "                         ('estimator', RandomForestClassifier(min_samples_leaf=15))])\n",
        "cvfolds = KFold(n_splits=5)\n",
        "rfc_scores = cross_validate(rfc_pipeline.fit(X_train, Y_train), X_train, Y_train, cv = cvfolds,\\\n",
        "                            scoring=('f1_macro', 'accuracy', 'f1_micro', 'recall', 'precision'),\\\n",
        "                            return_train_score=True, return_estimator =True, n_jobs=-1)\n",
        "rfc_scores"
      ]
    },
    {
      "cell_type": "code",
      "execution_count": null,
      "metadata": {
        "id": "iYT-clbpxStP"
      },
      "outputs": [],
      "source": [
        "rfc_Y_pred = rfc_pipeline.predict(X_test)"
      ]
    },
    {
      "cell_type": "code",
      "execution_count": null,
      "metadata": {
        "colab": {
          "base_uri": "https://localhost:8080/",
          "height": 513
        },
        "id": "zziQQ362xdUk",
        "outputId": "eefccab1-7fde-4da7-e0a0-42bbfa5417ed"
      },
      "outputs": [
        {
          "output_type": "stream",
          "name": "stdout",
          "text": [
            "Precision: 0.9887 --- Recall: 0.7549\n",
            "\n",
            "\n"
          ]
        },
        {
          "output_type": "display_data",
          "data": {
            "text/plain": [
              "<Figure size 864x504 with 2 Axes>"
            ],
            "image/png": "[encoded data removed]"
          },
          "metadata": {
            "needs_background": "light"
          }
        }
      ],
      "source": [
        "plot_results(rfc_pipeline, X_test, Y_test, rfc_Y_pred, 'Random Forest Classifer')"
      ]
    },
    {
      "cell_type": "code",
      "execution_count": null,
      "metadata": {
        "colab": {
          "base_uri": "https://localhost:8080/",
          "height": 404
        },
        "id": "JFMNdhSrtSg7",
        "outputId": "88e13774-fc75-44c3-e6c3-5e41f1040396"
      },
      "outputs": [
        {
          "data": {
            "image/png": "[encoded data removed]",
            "text/plain": [
              "<Figure size 576x432 with 1 Axes>"
            ]
          },
          "metadata": {},
          "output_type": "display_data"
        }
      ],
      "source": [
        "#Plot RF feature importance map\n",
        "features = X.columns\n",
        "feature_importance_list = rfc_pipeline['estimator'].feature_importances_\n",
        "indices = np.argsort(feature_importance_list)\n",
        "plt.figure(figsize=(8, 6))\n",
        "plt.title('Feature Importances')\n",
        "plt.barh(range(len(indices)), feature_importance_list[indices], color='b', align='center')\n",
        "plt.yticks(range(len(indices)), [features[i] for i in indices])\n",
        "plt.xlabel('Relative Importance')\n",
        "plt.xlim(0, 0.35)\n",
        "# add the annotations\n",
        "for y, x in zip(feature_importance_list[indices], np.arange(len(features))):\n",
        "    plt.annotate('{:.3f}'.format(y), xy=(y+0.014, x), ha='center', va='center', size=12)\n",
        "plt.show()"
      ]
    },
    {
      "cell_type": "markdown",
      "metadata": {
        "id": "0K9A2pTxAijW"
      },
      "source": [
        "**newbalanceDest, oldbalanceOrg, amount are major features RFC relied on to make prediction decesion.**"
      ]
    },
    {
      "cell_type": "markdown",
      "source": [
        "**Tune thereshold for getting higher recall rate**"
      ],
      "metadata": {
        "id": "XAcrnPhHAlLa"
      }
    },
    {
      "cell_type": "code",
      "source": [
        "cutoff_threshold_RFC =0.01  #new threshold"
      ],
      "metadata": {
        "id": "MAUJ2lP9-AaA"
      },
      "execution_count": null,
      "outputs": []
    },
    {
      "cell_type": "code",
      "source": [
        "predicted_proba_RFC = rfc_pipeline.predict_proba(X_test)"
      ],
      "metadata": {
        "id": "z1Q65OZH-JqN"
      },
      "execution_count": null,
      "outputs": []
    },
    {
      "cell_type": "code",
      "source": [
        "predictions_RFC = [1 if i >= cutoff_threshold_RFC else 0 for i in predicted_proba_RFC[:, -1]]"
      ],
      "metadata": {
        "id": "zpI5e0-T-XjA"
      },
      "execution_count": null,
      "outputs": []
    },
    {
      "cell_type": "code",
      "source": [
        "plot_results(rfc_pipeline, X_test, Y_test, predictions_RFC, 'Random Forest Classifer')"
      ],
      "metadata": {
        "colab": {
          "base_uri": "https://localhost:8080/",
          "height": 513
        },
        "id": "PQ5qcO6Y-hLG",
        "outputId": "74b42507-f910-4ff9-8165-77a0cd3b67b0"
      },
      "execution_count": null,
      "outputs": [
        {
          "output_type": "stream",
          "name": "stdout",
          "text": [
            "Precision: 0.1726 --- Recall: 0.9938\n",
            "\n",
            "\n"
          ]
        },
        {
          "output_type": "display_data",
          "data": {
            "text/plain": [
              "<Figure size 864x504 with 2 Axes>"
            ],
            "image/png": "[encoded data removed]"
          },
          "metadata": {
            "needs_background": "light"
          }
        }
      ]
    },
    {
      "cell_type": "markdown",
      "metadata": {
        "id": "exzbnQ4bF-32"
      },
      "source": [
        "# **eXtreme Gradient Boosting Classifier**"
      ]
    },
    {
      "cell_type": "code",
      "execution_count": null,
      "metadata": {
        "colab": {
          "base_uri": "https://localhost:8080/"
        },
        "id": "tF8nd4xU1ZIf",
        "outputId": "ca1e39f6-a8b4-4312-a5d5-cff480ab791b"
      },
      "outputs": [
        {
          "name": "stdout",
          "output_type": "stream",
          "text": [
            "[09:10:27] WARNING: /workspace/src/learner.cc:686: Tree method is automatically selected to be 'approx' for faster speed. To use old behavior (exact greedy algorithm on single machine), set tree_method to 'exact'.\n"
          ]
        },
        {
          "data": {
            "text/plain": [
              "{'fit_time': array([434.21532393, 412.59081721, 483.34494543, 482.15778065,\n",
              "        287.26923084]),\n",
              " 'score_time': array([5.12638664, 4.72442722, 4.93030262, 5.05646586, 3.21843362]),\n",
              " 'test_f1_macro': array([0.91357503, 0.90635882, 0.91081672, 0.90697366, 0.91325013]),\n",
              " 'train_f1_macro': array([0.91397192, 0.91140547, 0.90686757, 0.90875882, 0.91207353]),\n",
              " 'test_accuracy': array([0.99961789, 0.99957368, 0.99959922, 0.99959235, 0.99961985]),\n",
              " 'train_accuracy': array([0.9996142 , 0.99960855, 0.99958964, 0.99959382, 0.99960733]),\n",
              " 'test_f1_micro': array([0.99961789, 0.99957368, 0.99959922, 0.99959235, 0.99961985]),\n",
              " 'train_f1_micro': array([0.9996142 , 0.99960855, 0.99958964, 0.99959382, 0.99960733]),\n",
              " 'test_recall': array([0.7130834 , 0.69800148, 0.70381451, 0.69762087, 0.71274131]),\n",
              " 'train_recall': array([0.71604238, 0.70698207, 0.69539574, 0.70132325, 0.70819177]),\n",
              " 'test_precision': array([0.98520085, 0.97316821, 0.98740818, 0.97741935, 0.98400853]),\n",
              " 'train_precision': array([0.98184176, 0.98459086, 0.98120805, 0.98044397, 0.98607096])}"
            ]
          },
          "execution_count": 20,
          "metadata": {},
          "output_type": "execute_result"
        }
      ],
      "source": [
        "#XGB Classifier\n",
        "from xgboost import XGBClassifier\n",
        "\n",
        "xgbc_pipeline = Pipeline([('transformer', preprocessing), ('estimator', XGBClassifier())])\n",
        "cvfolds = KFold(n_splits=5)\n",
        "xgbc_scores = cross_validate(xgbc_pipeline.fit(X_train, Y_train), X_train, Y_train, cv = cvfolds,\\\n",
        "                             scoring=('f1_macro', 'accuracy', 'f1_micro', 'recall', 'precision'),\\\n",
        "                             return_train_score=True, n_jobs=-1)\n",
        "xgbc_scores"
      ]
    },
    {
      "cell_type": "code",
      "execution_count": null,
      "metadata": {
        "id": "2u4ulCnN-4j8"
      },
      "outputs": [],
      "source": [
        "xgbc_Y_pred = xgbc_pipeline.predict(X_test)"
      ]
    },
    {
      "cell_type": "code",
      "execution_count": null,
      "metadata": {
        "colab": {
          "base_uri": "https://localhost:8080/",
          "height": 513
        },
        "id": "1k9Dsjhs_E1r",
        "outputId": "7c2d0dec-7d42-42aa-ffc1-b8909ed8eb9a"
      },
      "outputs": [
        {
          "name": "stdout",
          "output_type": "stream",
          "text": [
            "Precision: 0.9829 --- Recall: 0.6741\n",
            "\n",
            "\n"
          ]
        },
        {
          "data": {
            "image/png": "[encoded data removed]",
            "text/plain": [
              "<Figure size 864x504 with 2 Axes>"
            ]
          },
          "metadata": {},
          "output_type": "display_data"
        }
      ],
      "source": [
        "plot_results(xgbc_pipeline, X_test, Y_test, xgbc_Y_pred, 'XGBoost')"
      ]
    },
    {
      "cell_type": "markdown",
      "metadata": {
        "id": "kMq9j339CLRn"
      },
      "source": [
        "**- The best classifier among all classifiers chosen is Random Forest Classifier. This is based on both Precesion-Recall (PR) curve and AUC score as shown in this notebook.**\n",
        "\n",
        "**- Tuning min_samples_leaf parameter of Ranodm Forest Classifier has key impact on model generalisability on validation and testing samples and by which higher metrics achieved by the classifier.**"
      ]
    },
    {
      "cell_type": "markdown",
      "metadata": {
        "id": "IkuIHruNefHG"
      },
      "source": [
        "**Trying implementing xGboost with SMOTE**"
      ]
    },
    {
      "cell_type": "code",
      "execution_count": null,
      "metadata": {
        "id": "Q0eqZ3RU1M-M"
      },
      "outputs": [],
      "source": [
        "from imblearn.over_sampling import SMOTE\n",
        "sm = SMOTE(sampling_strategy='not majority', random_state=42)"
      ]
    },
    {
      "cell_type": "code",
      "execution_count": null,
      "metadata": {
        "colab": {
          "base_uri": "https://localhost:8080/"
        },
        "id": "FSvnKn9Ii2Ac",
        "outputId": "bf98945b-6977-4929-86e7-fb1338776c5a"
      },
      "outputs": [
        {
          "output_type": "stream",
          "name": "stdout",
          "text": [
            "[08:11:48] WARNING: /workspace/src/learner.cc:686: Tree method is automatically selected to be 'approx' for faster speed. To use old behavior (exact greedy algorithm on single machine), set tree_method to 'exact'.\n",
            "[08:41:53] WARNING: /workspace/src/learner.cc:686: Tree method is automatically selected to be 'approx' for faster speed. To use old behavior (exact greedy algorithm on single machine), set tree_method to 'exact'.\n",
            "[09:17:03] WARNING: /workspace/src/learner.cc:686: Tree method is automatically selected to be 'approx' for faster speed. To use old behavior (exact greedy algorithm on single machine), set tree_method to 'exact'.\n",
            "[09:50:52] WARNING: /workspace/src/learner.cc:686: Tree method is automatically selected to be 'approx' for faster speed. To use old behavior (exact greedy algorithm on single machine), set tree_method to 'exact'.\n",
            "[10:27:00] WARNING: /workspace/src/learner.cc:686: Tree method is automatically selected to be 'approx' for faster speed. To use old behavior (exact greedy algorithm on single machine), set tree_method to 'exact'.\n",
            "[11:01:04] WARNING: /workspace/src/learner.cc:686: Tree method is automatically selected to be 'approx' for faster speed. To use old behavior (exact greedy algorithm on single machine), set tree_method to 'exact'.\n"
          ]
        },
        {
          "output_type": "execute_result",
          "data": {
            "text/plain": [
              "{'fit_time': array([2084.15568423, 2001.67183542, 2139.76149845, 2016.17402768,\n",
              "        2037.46336889]),\n",
              " 'score_time': array([5.56567812, 5.83696485, 5.49638128, 5.53842807, 5.31495333]),\n",
              " 'test_f1_macro': array([0.56119899, 0.56151577, 0.5610826 , 0.56100227, 0.55976285]),\n",
              " 'train_f1_macro': array([0.5624124 , 0.5598779 , 0.56020611, 0.5614726 , 0.56075108]),\n",
              " 'test_accuracy': array([0.9831241 , 0.98262115, 0.98265553, 0.98308185, 0.98278225]),\n",
              " 'train_accuracy': array([0.98322133, 0.98265136, 0.98271447, 0.98293991, 0.98273166]),\n",
              " 'test_f1_micro': array([0.9831241 , 0.98262115, 0.98265553, 0.98308185, 0.98278225]),\n",
              " 'train_f1_micro': array([0.98322133, 0.98265136, 0.98271447, 0.98293991, 0.98273166]),\n",
              " 'test_recall': array([0.99005356, 0.99407846, 0.9947644 , 0.9923254 , 0.9953668 ]),\n",
              " 'train_recall': array([0.99394627, 0.99370469, 0.99296043, 0.99470699, 0.99358248]),\n",
              " 'test_precision': array([0.07009371, 0.07058391, 0.07007376, 0.06986923, 0.06852374]),\n",
              " 'train_precision': array([0.07143828, 0.06870128, 0.0690618 , 0.070438  , 0.06967756])}"
            ]
          },
          "metadata": {},
          "execution_count": 22
        }
      ],
      "source": [
        "from xgboost import XGBClassifier\n",
        "from imblearn.pipeline import Pipeline\n",
        "estimator = XGBClassifier()\n",
        "SMOTE_pipeline =  Pipeline([('transformer', preprocessing),('oversampling', sm)\\\n",
        "                            , ('estimator', estimator)])\n",
        "cvfolds = KFold(n_splits=5)\n",
        "xgbc_scores = cross_validate(SMOTE_pipeline.fit(X_train, Y_train), X_train,\\\n",
        "                             Y_train, cv = cvfolds, scoring=('f1_macro',\\\n",
        "                             'accuracy', 'f1_micro', 'recall', 'precision'),\\\n",
        "                             return_train_score=True)\n",
        "xgbc_scores"
      ]
    },
    {
      "cell_type": "code",
      "execution_count": null,
      "metadata": {
        "id": "7Ypq7ewOyWpU"
      },
      "outputs": [],
      "source": [
        "smote_xgbc_Y_pred = SMOTE_pipeline.predict(X_test)"
      ]
    },
    {
      "cell_type": "code",
      "execution_count": null,
      "metadata": {
        "colab": {
          "base_uri": "https://localhost:8080/"
        },
        "id": "K5W7c78YyYtg",
        "outputId": "6018c4f7-9bec-4e28-cdb7-2bb99f61d7e8"
      },
      "outputs": [
        {
          "output_type": "stream",
          "name": "stdout",
          "text": [
            "Precision: 0.0691 --- Recall: 0.9957\n",
            "\n",
            "\n"
          ]
        },
        {
          "output_type": "display_data",
          "data": {
            "text/plain": [
              "<Figure size 864x504 with 2 Axes>"
            ],
            "image/png": "[encoded data removed]"
          },
          "metadata": {
            "needs_background": "light"
          }
        }
      ],
      "source": [
        "plot_results(SMOTE_pipeline, X_test, Y_test, smote_xgbc_Y_pred, 'XGBoost_SMOT')"
      ]
    },
    {
      "cell_type": "code",
      "execution_count": null,
      "metadata": {
        "colab": {
          "base_uri": "https://localhost:8080/"
        },
        "id": "_wyqz90YPWYi",
        "outputId": "c0a80cca-521f-429a-ea3c-7fb3bf5f36c8"
      },
      "outputs": [
        {
          "output_type": "execute_result",
          "data": {
            "text/plain": [
              "OrderedDict([(1, 5076910)])"
            ]
          },
          "metadata": {},
          "execution_count": 25
        }
      ],
      "source": [
        "SMOTE_pipeline.named_steps['oversampling'].sampling_strategy_"
      ]
    },
    {
      "cell_type": "markdown",
      "metadata": {
        "id": "RAbEs4TAUcoO"
      },
      "source": [
        "**SMOTE sampler generated 5,076,910 synthetic examples to sample from for the targeted class (1 in this case)**"
      ]
    },
    {
      "cell_type": "code",
      "source": [
        "# Plot Feature Importance for xgboost\n",
        "from xgboost import plot_importance\n",
        "fig, ax = plt.subplots(figsize=(12, 10))\n",
        "plot_importance(SMOTE_pipeline.named_steps['estimator'], ax=ax, importance_type='weight')"
      ],
      "metadata": {
        "colab": {
          "base_uri": "https://localhost:8080/",
          "height": 638
        },
        "id": "HMFGDrq2II0f",
        "outputId": "b3e714c3-7c35-4e7e-c868-bda3dfbf47e9"
      },
      "execution_count": null,
      "outputs": [
        {
          "output_type": "execute_result",
          "data": {
            "text/plain": [
              "<matplotlib.axes._subplots.AxesSubplot at 0x7f29e9087dd0>"
            ]
          },
          "metadata": {},
          "execution_count": 73
        },
        {
          "output_type": "display_data",
          "data": {
            "text/plain": [
              "<Figure size 864x720 with 1 Axes>"
            ],
            "image/png": "[encoded data removed]"
          },
          "metadata": {
            "needs_background": "light"
          }
        }
      ]
    },
    {
      "cell_type": "markdown",
      "source": [
        "**XGBoost classifier relies most on 'oldbalanceOrg'(f4),  'amount'(f3) on making the prediction then 'type'(f0), step(f1)'' and 'newbalanceOrig'(f5). The numbering follows the colomn index of input matrix after preprocessing**"
      ],
      "metadata": {
        "id": "f-77vt0EOMbV"
      }
    },
    {
      "cell_type": "markdown",
      "metadata": {
        "id": "gTarVDPMNWSl"
      },
      "source": [
        "**Next, Tweaking the theroshold to throw some balance between Precision and Recall (default threshold value = 0.5)**"
      ]
    },
    {
      "cell_type": "code",
      "execution_count": null,
      "metadata": {
        "id": "pjjh3yQMFiSW"
      },
      "outputs": [],
      "source": [
        "cutoff_threshold =0.80  #new threshold"
      ]
    },
    {
      "cell_type": "code",
      "execution_count": null,
      "metadata": {
        "id": "UsEP-gGyQKjN"
      },
      "outputs": [],
      "source": [
        "predicted_proba = SMOTE_pipeline.predict_proba(X_test)"
      ]
    },
    {
      "cell_type": "code",
      "execution_count": null,
      "metadata": {
        "id": "qoTaOxHRKfwq"
      },
      "outputs": [],
      "source": [
        "predictions = [1 if i >= cutoff_threshold else 0 for i in predicted_proba[:, -1]]"
      ]
    },
    {
      "cell_type": "code",
      "execution_count": null,
      "metadata": {
        "colab": {
          "base_uri": "https://localhost:8080/",
          "height": 513
        },
        "id": "xxDzoNAQLMK3",
        "outputId": "b5fc3653-8704-4ba3-dc4e-a19d55fd856f"
      },
      "outputs": [
        {
          "name": "stdout",
          "output_type": "stream",
          "text": [
            "Precision: 0.2074 --- Recall: 0.9537\n",
            "\n",
            "\n"
          ]
        },
        {
          "data": {
            "image/png": "[encoded data removed]",
            "text/plain": [
              "<Figure size 864x504 with 2 Axes>"
            ]
          },
          "metadata": {},
          "output_type": "display_data"
        }
      ],
      "source": [
        "plot_results(SMOTE_pipeline, X_test, Y_test, predictions, 'XGBoost_SMOTE')"
      ]
    }
  ],
  "metadata": {
    "colab": {
      "provenance": [],
      "collapsed_sections": [
        "XJkAV_gaSZ1V",
        "1lJIsV0o9yBA",
        "DZHbnouSUO3L",
        "3KmKwx3w07bv"
      ],
      "authorship_tag": "ABX9TyMO40XTHjnXIOcrp3rXGTk5",
      "include_colab_link": true
    },
    "gpuClass": "standard",
    "kernelspec": {
      "display_name": "Python 3",
      "name": "python3"
    },
    "language_info": {
      "name": "python"
    }
  },
  "nbformat": 4,
  "nbformat_minor": 0
}